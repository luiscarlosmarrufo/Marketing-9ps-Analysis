{
 "cells": [
  {
   "cell_type": "code",
   "execution_count": 6,
   "metadata": {},
   "outputs": [
    {
     "ename": "AttributeError",
     "evalue": "'FileFinder' object has no attribute 'find_module'",
     "output_type": "error",
     "traceback": [
      "\u001b[31m---------------------------------------------------------------------------\u001b[39m",
      "\u001b[31mAttributeError\u001b[39m                            Traceback (most recent call last)",
      "\u001b[36mCell\u001b[39m\u001b[36m \u001b[39m\u001b[32mIn[6]\u001b[39m\u001b[32m, line 2\u001b[39m\n\u001b[32m      1\u001b[39m \u001b[38;5;28;01mimport\u001b[39;00m\u001b[38;5;250m \u001b[39m\u001b[34;01mjson\u001b[39;00m\n\u001b[32m----> \u001b[39m\u001b[32m2\u001b[39m \u001b[38;5;28;01mfrom\u001b[39;00m\u001b[38;5;250m \u001b[39m\u001b[34;01msnscrape\u001b[39;00m\u001b[34;01m.\u001b[39;00m\u001b[34;01mmodules\u001b[39;00m\u001b[38;5;250m \u001b[39m\u001b[38;5;28;01mimport\u001b[39;00m twitter\n",
      "\u001b[36mFile \u001b[39m\u001b[32m~/Developer/TEC/Marketing-9ps-Analysis/.venv/lib/python3.13/site-packages/snscrape/modules/__init__.py:17\u001b[39m\n\u001b[32m     13\u001b[39m \t\tmodule = importer.find_module(moduleName).load_module(moduleName)\n\u001b[32m     14\u001b[39m \t\t\u001b[38;5;28mglobals\u001b[39m()[moduleNameWithoutPrefix] = module\n\u001b[32m---> \u001b[39m\u001b[32m17\u001b[39m \u001b[43m_import_modules\u001b[49m\u001b[43m(\u001b[49m\u001b[43m)\u001b[49m\n",
      "\u001b[36mFile \u001b[39m\u001b[32m~/Developer/TEC/Marketing-9ps-Analysis/.venv/lib/python3.13/site-packages/snscrape/modules/__init__.py:13\u001b[39m, in \u001b[36m_import_modules\u001b[39m\u001b[34m()\u001b[39m\n\u001b[32m     11\u001b[39m moduleNameWithoutPrefix = moduleName[prefixLen:]\n\u001b[32m     12\u001b[39m __all__.append(moduleNameWithoutPrefix)\n\u001b[32m---> \u001b[39m\u001b[32m13\u001b[39m module = \u001b[43mimporter\u001b[49m\u001b[43m.\u001b[49m\u001b[43mfind_module\u001b[49m(moduleName).load_module(moduleName)\n\u001b[32m     14\u001b[39m \u001b[38;5;28mglobals\u001b[39m()[moduleNameWithoutPrefix] = module\n",
      "\u001b[31mAttributeError\u001b[39m: 'FileFinder' object has no attribute 'find_module'"
     ]
    }
   ],
   "source": [
    "import json\n",
    "from snscrape.modules import twitter"
   ]
  },
  {
   "cell_type": "code",
   "execution_count": null,
   "metadata": {},
   "outputs": [],
   "source": []
  }
 ],
 "metadata": {
  "kernelspec": {
   "display_name": ".venv",
   "language": "python",
   "name": "python3"
  },
  "language_info": {
   "codemirror_mode": {
    "name": "ipython",
    "version": 3
   },
   "file_extension": ".py",
   "mimetype": "text/x-python",
   "name": "python",
   "nbconvert_exporter": "python",
   "pygments_lexer": "ipython3",
   "version": "3.13.0"
  }
 },
 "nbformat": 4,
 "nbformat_minor": 2
}
