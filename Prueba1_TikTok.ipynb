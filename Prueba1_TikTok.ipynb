{
 "cells": [
  {
   "cell_type": "markdown",
   "metadata": {},
   "source": []
  },
  {
   "cell_type": "markdown",
   "metadata": {},
   "source": [
    "# Semana 2: Exploración y Preprocesamiento de Datos"
   ]
  },
  {
   "cell_type": "markdown",
   "metadata": {},
   "source": [
    "\n",
    "### Modelo de las 9Ps\n",
    "\n",
    "- **Producto (Production)**: Bienes o servicios diseñados con un enfoque en sostenibilidad.\n",
    "- **Precio (Price)**: Valor justo que considera costos ambientales y sociales.\n",
    "- **Plaza (Place)**: Distribución eficiente y respetuosa con el medio ambiente.\n",
    "- **Publicidad (Publicity)**: Comunicación transparente y auténtica con los consumidores.\n",
    "- **Posconsumo (Postconsumption)**: Gestión responsable del ciclo de vida tras el uso.\n",
    "- **Propósito (Purpose)**: Contribución positiva a la sociedad y al medio ambiente.\n",
    "- **Alianzas (Partnerships)**: Colaboraciones estratégicas para maximizar el impacto sostenible.\n",
    "- **Personas (People)**: Bienestar de empleados, clientes y comunidades.\n",
    "- **Planeta (Planet)**: Prácticas que preservan o restauran el medio ambiente.\n",
    "\n",
    "Los datos recolectados —provenientes de encuestas estructuradas y publicaciones en redes sociales— contienen información valiosa que puede clasificarse en estas dimensiones. Esto nos permitirá evaluar la percepción pública y el impacto de las estrategias de marketing sostenible.\n",
    "\n",
    "\n",
    "\n",
    "En este notebook, realizaremos las siguientes tareas:\n",
    "- **Carga y exploración inicial**: Importaremos los datos y revisaremos su estructura básica.\n",
    "- **Limpieza de datos**: Eliminaremos duplicados, manejaremos valores nulos y normalizaremos el texto.\n",
    "- **Preprocesamiento de texto**: Aplicaremos técnicas de procesamiento de lenguaje natural (NLP) para datos no estructurados, como los de redes sociales.\n",
    "- **Análisis exploratorio (EDA)**: Crearemos visualizaciones para identificar tendencias y patrones relevantes.\n",
    "- **Diccionario inicial**: Construiremos una lista preliminar de términos positivos y negativos para el análisis de sentimiento.\n"
   ]
  },
  {
   "cell_type": "markdown",
   "metadata": {},
   "source": [
    "# Instalación de Zeeschuimer\n",
    "\n",
    "Para recolectar datos de Instagram de manera ética y manual, instalamos la extensión Zeeschuimer en Firefox siguiendo estos pasos:\n",
    "\n",
    "1. Descargamos la versión más reciente de Zeeschuimer desde su página de GitHub: [Zeeschuimer Releases](https://github.com/digitalmethodsinitiative/zeeschuimer/releases).\n",
    "2. Instalamos el archivo `.xpi` en Firefox arrastrándolo al navegador o usando `about:addons` > \"Install Add-on From File\".\n",
    "3. Verificamos que el ícono de Zeeschuimer (una \"Z\") aparezca en la barra de herramientas de Firefox.\n",
    "\n",
    "Zeeschuimer nos permitirá capturar metadatos de publicaciones de Instagram mientras navegamos, lo cual usaremos para analizar percepciones sobre cualquier marca."
   ]
  },
  {
   "cell_type": "markdown",
   "metadata": {},
   "source": [
    "# Configuración de Zeeschuimer \n",
    "\n",
    "Configuramos Zeeschuimer para capturar datos de Instagram siguiendo estos pasos:\n",
    "\n",
    "1. Abrimos la interfaz de Zeeschuimer haciendo clic en el ícono \"Z\" en la barra de herramientas de Firefox.\n",
    "2. Habilitamos la captura para Instagram seleccionando la opción correspondiente en la lista de plataformas.\n",
    "3. Nos aseguramos de que la captura esté activa antes de navegar por Instagram.\n",
    "\n",
    "No configuramos una instancia de 4CAT, ya que exportaremos los datos como un archivo NDJSON para procesarlos manualmente en Python."
   ]
  },
  {
   "cell_type": "code",
   "execution_count": 2,
   "metadata": {},
   "outputs": [],
   "source": [
    "import pandas as pd\n",
    "import json \n",
    "import seaborn as sns\n",
    "import matplotlib.pyplot as plt\n",
    "import plotly as py"
   ]
  },
  {
   "cell_type": "markdown",
   "metadata": {},
   "source": [
    "# Data de TikTok"
   ]
  },
  {
   "cell_type": "code",
   "execution_count": 3,
   "metadata": {},
   "outputs": [
    {
     "data": {
      "application/vnd.microsoft.datawrangler.viewer.v0+json": {
       "columns": [
        {
         "name": "index",
         "rawType": "int64",
         "type": "integer"
        },
        {
         "name": "nav_index",
         "rawType": "object",
         "type": "string"
        },
        {
         "name": "item_id",
         "rawType": "object",
         "type": "string"
        },
        {
         "name": "timestamp_collected",
         "rawType": "int64",
         "type": "integer"
        },
        {
         "name": "source_platform",
         "rawType": "object",
         "type": "string"
        },
        {
         "name": "source_platform_url",
         "rawType": "object",
         "type": "string"
        },
        {
         "name": "source_url",
         "rawType": "object",
         "type": "string"
        },
        {
         "name": "user_agent",
         "rawType": "object",
         "type": "string"
        },
        {
         "name": "data",
         "rawType": "object",
         "type": "unknown"
        },
        {
         "name": "id",
         "rawType": "int64",
         "type": "integer"
        }
       ],
       "conversionMethod": "pd.DataFrame",
       "ref": "166ac7bd-2fad-4126-bb38-045dd8c161f2",
       "rows": [
        [
         "0",
         "1:5:NaN",
         "7481415843121971974",
         "1742532927655",
         "tiktok-comments",
         "https://www.tiktok.com/@aleinvita/video/7481330665653325111?q=%23starbucks&t=1742532923469",
         "https://www.tiktok.com/api/comment/list/?WebIdLastTime=1742532794&aid=1988&app_language=ja-JP&app_name=tiktok_web&aweme_id=7481330665653325111&browser_language=es-MX&browser_name=Mozilla&browser_online=true&browser_platform=Win32&browser_version=5.0%20%28Windows%29&channel=tiktok_web&cookie_enabled=true&count=20&current_region=JP&cursor=0&data_collection_enabled=true&device_id=7484121334139127301&device_platform=web_pc&enter_from=tiktok_web&focus_state=true&fromWeb=1&from_page=video&history_len=22&is_fullscreen=false&is_non_personalized=false&is_page_visible=true&odinId=6767163691941495814&os=windows&priority_region=MX&referer=https%3A%2F%2Fwww.tiktok.com%2Ftiktokstudio&region=MX&root_referer=https%3A%2F%2Fwww.google.com%2F&screen_height=864&screen_width=1536&tz_name=America%2FMexico_City&user_is_login=true&verifyFp=verify_m8ib1bm1_QSarzvrA_sX5Z_4WuL_AXvy_kHS0cDW01EZK&webcast_language=es&msToken=EGWvgsD8_sBemESB8ANIDzMbJSk73gJob_YD62dATS7rfvCCTKj39UtrEGR_oUsFxm2E28pFLbEVbI0I4ZOcJ3pHNwQDYPE4J1h6p9JYx7hMtCXE55MEeDW99w1Dw2p6BM9A5mXiP3Th8CPfiUTM1g==&X-Bogus=DFSzsIVLvPXANH2Ft4Ex6ZMHkvaM&_signature=_02B4Z6wo00001P.Ml2gAAIDCRmMh4.jaX3T.zpPAAFg1de",
         "Mozilla/5.0 (Windows NT 10.0; Win64; x64; rv:136.0) Gecko/20100101 Firefox/136.0",
         "{'author_pin': False, 'aweme_id': '7481330665653325111', 'cid': '7481415843121971974', 'collect_stat': 0, 'comment_language': 'es', 'comment_post_item_ids': None, 'create_time': 1741902890, 'digg_count': 1539, 'forbid_reply_with_video': True, 'image_list': None, 'is_author_digged': False, 'is_comment_translatable': True, 'label_list': None, 'no_show': False, 'reply_comment': None, 'reply_comment_total': 22, 'reply_id': '0', 'reply_to_reply_id': '0', 'share_info': {'acl': {'code': 0, 'extra': '{}'}, 'desc': 'Martha Olivia Mar92’s comment: NOOOOO HAY Q CONSUMIR STARBUCKS', 'title': 'Frappuccinos de Starbucks a solo 49 pesos 🍓🍦☕️🥛 🍍🥥 Frappuccinos participantes: café, espresso, mocha, mocha blanco, caramel, chip, cookies, cajeta, fresa cream, chocolate cream, vainilla cream, chai cream, matcha cream, berry yogurt, piña coco yogurt, chocolate blanco, cajeta cream, cinnamon dolce, cinammon dolce cream y chocolate mexicano. #viral #fypシ #fyp #starbucks #frappuccino #dragonfruit #refresher #affogato ', 'url': 'https://m.tiktok.com/v/7481330665653325111.html?_d=ejbi47j59e3m8k&comment_author_id=6986100906015491077&preview_pb=0&share_comment_id=7481415843121971974&share_item_id=7481330665653325111&sharer_language=ja-JP&source=h5_m&u_code=d9i7aa35aa0afg'}, 'sort_extra_score': {'reply_score': 0.000506, 'show_more_score': 0.27809}, 'sort_tags': '{\"top_list\":1}', 'status': 1, 'stick_position': 0, 'text': 'NOOOOO HAY Q CONSUMIR STARBUCKS', 'text_extra': [], 'trans_btn_style': 1, 'user': {'account_labels': None, 'ad_cover_url': None, 'advance_feature_item_order': None, 'advanced_feature_info': None, 'avatar_thumb': {'uri': 'tos-maliva-avt-0068/9dfc54878e40f525e1fba02c965a1a3e', 'url_list': ['https://p16-sign-va.tiktokcdn.com/tos-maliva-avt-0068/9dfc54878e40f525e1fba02c965a1a3e~tplv-tiktokx-cropcenter:100:100.jpg?dr=14579&refresh_token=574d57d0&x-expires=1742616000&x-signature=8TbzvxR9HOClQS37SamB%2B60ioik%3D&t=4d5b0474&ps=13740610&shp=30310797&shcp=ff37627b&idc=maliva', 'https://p16-sign-va.tiktokcdn.com/tos-maliva-avt-0068/9dfc54878e40f525e1fba02c965a1a3e~tplv-tiktokx-cropcenter:100:100.jpeg?dr=14579&refresh_token=d3fa841f&x-expires=1742616000&x-signature=%2FVtPAsmZiXGkxTNVKB064l3HVLs%3D&t=4d5b0474&ps=13740610&shp=30310797&shcp=ff37627b&idc=maliva'], 'url_prefix': None}, 'bold_fields': None, 'can_message_follow_status_list': None, 'can_set_geofencing': None, 'cha_list': None, 'cover_url': None, 'custom_verify': '', 'enterprise_verify_reason': '', 'events': None, 'followers_detail': None, 'geofencing': None, 'homepage_bottom_toast': None, 'item_list': None, 'mutual_relation_avatars': None, 'need_points': None, 'nickname': 'Martha Olivia Mar92', 'platform_sync_info': None, 'predicted_age_group': '-1', 'relative_users': None, 'search_highlight': None, 'sec_uid': 'MS4wLjABAAAAKKFVm79LVG10onrjMa2pM4ijGSOlWHfqY0nBXS1WadErDY2zPIp4SXClK0OSzJrF', 'shield_edit_field_info': None, 'type_label': None, 'uid': '6986100906015491077', 'unique_id': 'oli785l', 'user_profile_guide': None, 'user_tags': None, 'white_cover_url': None}, 'user_buried': False, 'user_digged': 0, 'id': '7481415843121971974'}",
         "78"
        ],
        [
         "1",
         "1:5:NaN",
         "7481392089537839878",
         "1742532927655",
         "tiktok-comments",
         "https://www.tiktok.com/@aleinvita/video/7481330665653325111?q=%23starbucks&t=1742532923469",
         "https://www.tiktok.com/api/comment/list/?WebIdLastTime=1742532794&aid=1988&app_language=ja-JP&app_name=tiktok_web&aweme_id=7481330665653325111&browser_language=es-MX&browser_name=Mozilla&browser_online=true&browser_platform=Win32&browser_version=5.0%20%28Windows%29&channel=tiktok_web&cookie_enabled=true&count=20&current_region=JP&cursor=0&data_collection_enabled=true&device_id=7484121334139127301&device_platform=web_pc&enter_from=tiktok_web&focus_state=true&fromWeb=1&from_page=video&history_len=22&is_fullscreen=false&is_non_personalized=false&is_page_visible=true&odinId=6767163691941495814&os=windows&priority_region=MX&referer=https%3A%2F%2Fwww.tiktok.com%2Ftiktokstudio&region=MX&root_referer=https%3A%2F%2Fwww.google.com%2F&screen_height=864&screen_width=1536&tz_name=America%2FMexico_City&user_is_login=true&verifyFp=verify_m8ib1bm1_QSarzvrA_sX5Z_4WuL_AXvy_kHS0cDW01EZK&webcast_language=es&msToken=EGWvgsD8_sBemESB8ANIDzMbJSk73gJob_YD62dATS7rfvCCTKj39UtrEGR_oUsFxm2E28pFLbEVbI0I4ZOcJ3pHNwQDYPE4J1h6p9JYx7hMtCXE55MEeDW99w1Dw2p6BM9A5mXiP3Th8CPfiUTM1g==&X-Bogus=DFSzsIVLvPXANH2Ft4Ex6ZMHkvaM&_signature=_02B4Z6wo00001P.Ml2gAAIDCRmMh4.jaX3T.zpPAAFg1de",
         "Mozilla/5.0 (Windows NT 10.0; Win64; x64; rv:136.0) Gecko/20100101 Firefox/136.0",
         "{'author_pin': False, 'aweme_id': '7481330665653325111', 'cid': '7481392089537839878', 'collect_stat': 0, 'comment_language': 'es', 'comment_post_item_ids': None, 'create_time': 1741897367, 'digg_count': 3447, 'forbid_reply_with_video': True, 'image_list': None, 'is_author_digged': True, 'is_comment_translatable': True, 'label_list': [{'text': '作成者がいいねした', 'type': 20}], 'no_show': False, 'reply_comment': None, 'reply_comment_total': 51, 'reply_id': '0', 'reply_to_reply_id': '0', 'share_info': {'acl': {'code': 0, 'extra': '{}'}, 'desc': 'Jessica cruz’s comment: visiten a cafeterías locales 🥰 Starbucks y nescafe lucran con el café mexicano', 'title': 'Frappuccinos de Starbucks a solo 49 pesos 🍓🍦☕️🥛 🍍🥥 Frappuccinos participantes: café, espresso, mocha, mocha blanco, caramel, chip, cookies, cajeta, fresa cream, chocolate cream, vainilla cream, chai cream, matcha cream, berry yogurt, piña coco yogurt, chocolate blanco, cajeta cream, cinnamon dolce, cinammon dolce cream y chocolate mexicano. #viral #fypシ #fyp #starbucks #frappuccino #dragonfruit #refresher #affogato ', 'url': 'https://m.tiktok.com/v/7481330665653325111.html?_d=ejbi47j59e3m8k&comment_author_id=6991277706231907333&preview_pb=0&share_comment_id=7481392089537839878&share_item_id=7481330665653325111&sharer_language=ja-JP&source=h5_m&u_code=d9i7aa35aa0afg'}, 'sort_extra_score': {'reply_score': 8.7e-05, 'show_more_score': 0.038715}, 'sort_tags': '{\"author_digg\":1,\"top_list\":1}', 'status': 1, 'stick_position': 0, 'text': 'visiten a cafeterías locales 🥰 Starbucks y nescafe lucran con el café mexicano', 'text_extra': [], 'trans_btn_style': 1, 'user': {'account_labels': None, 'ad_cover_url': None, 'advance_feature_item_order': None, 'advanced_feature_info': None, 'avatar_thumb': {'uri': 'tos-maliva-avt-0068/a45bf59675214eda7ce5caabf7c16314', 'url_list': ['https://p16-sign-va.tiktokcdn.com/tos-maliva-avt-0068/a45bf59675214eda7ce5caabf7c16314~tplv-tiktokx-cropcenter:100:100.jpg?dr=14579&refresh_token=6e4c3403&x-expires=1742616000&x-signature=n4%2BDVNIZeVaLZr5TXngWTUUi4KM%3D&t=4d5b0474&ps=13740610&shp=30310797&shcp=ff37627b&idc=maliva', 'https://p16-sign-va.tiktokcdn.com/tos-maliva-avt-0068/a45bf59675214eda7ce5caabf7c16314~tplv-tiktokx-cropcenter:100:100.jpeg?dr=14579&refresh_token=d1a12d4e&x-expires=1742616000&x-signature=%2Bv2nyo%2BDnI4iEKZvbXCRWcHTYho%3D&t=4d5b0474&ps=13740610&shp=30310797&shcp=ff37627b&idc=maliva'], 'url_prefix': None}, 'bold_fields': None, 'can_message_follow_status_list': None, 'can_set_geofencing': None, 'cha_list': None, 'cover_url': None, 'custom_verify': '', 'enterprise_verify_reason': '', 'events': None, 'followers_detail': None, 'geofencing': None, 'homepage_bottom_toast': None, 'item_list': None, 'mutual_relation_avatars': None, 'need_points': None, 'nickname': 'Jessica cruz', 'platform_sync_info': None, 'predicted_age_group': '3', 'relative_users': None, 'search_highlight': None, 'sec_uid': 'MS4wLjABAAAAiZAFuTFL5js6HC8_oXMyCnX_NrpUe4yr6g73T7pTU91RQcoJGqGoYaT4iX_w7fOd', 'shield_edit_field_info': None, 'type_label': None, 'uid': '6991277706231907333', 'unique_id': 'jessica_cruzc', 'user_profile_guide': None, 'user_tags': None, 'white_cover_url': None}, 'user_buried': False, 'user_digged': 0, 'id': '7481392089537839878'}",
         "79"
        ],
        [
         "2",
         "1:5:NaN",
         "7481414777174475525",
         "1742532927656",
         "tiktok-comments",
         "https://www.tiktok.com/@aleinvita/video/7481330665653325111?q=%23starbucks&t=1742532923469",
         "https://www.tiktok.com/api/comment/list/?WebIdLastTime=1742532794&aid=1988&app_language=ja-JP&app_name=tiktok_web&aweme_id=7481330665653325111&browser_language=es-MX&browser_name=Mozilla&browser_online=true&browser_platform=Win32&browser_version=5.0%20%28Windows%29&channel=tiktok_web&cookie_enabled=true&count=20&current_region=JP&cursor=0&data_collection_enabled=true&device_id=7484121334139127301&device_platform=web_pc&enter_from=tiktok_web&focus_state=true&fromWeb=1&from_page=video&history_len=22&is_fullscreen=false&is_non_personalized=false&is_page_visible=true&odinId=6767163691941495814&os=windows&priority_region=MX&referer=https%3A%2F%2Fwww.tiktok.com%2Ftiktokstudio&region=MX&root_referer=https%3A%2F%2Fwww.google.com%2F&screen_height=864&screen_width=1536&tz_name=America%2FMexico_City&user_is_login=true&verifyFp=verify_m8ib1bm1_QSarzvrA_sX5Z_4WuL_AXvy_kHS0cDW01EZK&webcast_language=es&msToken=EGWvgsD8_sBemESB8ANIDzMbJSk73gJob_YD62dATS7rfvCCTKj39UtrEGR_oUsFxm2E28pFLbEVbI0I4ZOcJ3pHNwQDYPE4J1h6p9JYx7hMtCXE55MEeDW99w1Dw2p6BM9A5mXiP3Th8CPfiUTM1g==&X-Bogus=DFSzsIVLvPXANH2Ft4Ex6ZMHkvaM&_signature=_02B4Z6wo00001P.Ml2gAAIDCRmMh4.jaX3T.zpPAAFg1de",
         "Mozilla/5.0 (Windows NT 10.0; Win64; x64; rv:136.0) Gecko/20100101 Firefox/136.0",
         "{'author_pin': False, 'aweme_id': '7481330665653325111', 'cid': '7481414777174475525', 'collect_stat': 0, 'comment_language': 'es', 'comment_post_item_ids': None, 'create_time': 1741902655, 'digg_count': 1768, 'forbid_reply_with_video': True, 'image_list': None, 'is_author_digged': False, 'is_comment_translatable': True, 'label_list': None, 'no_show': False, 'reply_comment': None, 'reply_comment_total': 26, 'reply_id': '0', 'reply_to_reply_id': '0', 'share_info': {'acl': {'code': 0, 'extra': '{}'}, 'desc': 'Yutzil Eyes’s comment: ahorita no andamos apoyando a esa empresa', 'title': 'Frappuccinos de Starbucks a solo 49 pesos 🍓🍦☕️🥛 🍍🥥 Frappuccinos participantes: café, espresso, mocha, mocha blanco, caramel, chip, cookies, cajeta, fresa cream, chocolate cream, vainilla cream, chai cream, matcha cream, berry yogurt, piña coco yogurt, chocolate blanco, cajeta cream, cinnamon dolce, cinammon dolce cream y chocolate mexicano. #viral #fypシ #fyp #starbucks #frappuccino #dragonfruit #refresher #affogato ', 'url': 'https://m.tiktok.com/v/7481330665653325111.html?_d=ejbi47j59e3m8k&comment_author_id=6808710106734937094&preview_pb=0&share_comment_id=7481414777174475525&share_item_id=7481330665653325111&sharer_language=ja-JP&source=h5_m&u_code=d9i7aa35aa0afg'}, 'sort_extra_score': {'reply_score': 0.000515, 'show_more_score': 0.06819}, 'sort_tags': '{\"top_list\":1}', 'status': 1, 'stick_position': 0, 'text': 'ahorita no andamos apoyando a esa empresa', 'text_extra': [], 'trans_btn_style': 1, 'user': {'account_labels': None, 'ad_cover_url': None, 'advance_feature_item_order': None, 'advanced_feature_info': None, 'avatar_thumb': {'uri': 'tos-maliva-avt-0068/7334416738417410053', 'url_list': ['https://p16-sign-va.tiktokcdn.com/tos-maliva-avt-0068/7334416738417410053~tplv-tiktokx-cropcenter:100:100.jpg?dr=14579&refresh_token=35f967f3&x-expires=1742616000&x-signature=Q47TUnV%2B8OO3NtZpybIvKgCs6fY%3D&t=4d5b0474&ps=13740610&shp=30310797&shcp=ff37627b&idc=maliva', 'https://p16-sign-va.tiktokcdn.com/tos-maliva-avt-0068/7334416738417410053~tplv-tiktokx-cropcenter:100:100.jpeg?dr=14579&refresh_token=39374c9a&x-expires=1742616000&x-signature=ncqjVBNs99EpgFsfnbIQ%2Bb%2BShcw%3D&t=4d5b0474&ps=13740610&shp=30310797&shcp=ff37627b&idc=maliva'], 'url_prefix': None}, 'bold_fields': None, 'can_message_follow_status_list': None, 'can_set_geofencing': None, 'cha_list': None, 'cover_url': None, 'custom_verify': '', 'enterprise_verify_reason': '', 'events': None, 'followers_detail': None, 'geofencing': None, 'homepage_bottom_toast': None, 'item_list': None, 'mutual_relation_avatars': None, 'need_points': None, 'nickname': 'Yutzil Eyes', 'platform_sync_info': None, 'predicted_age_group': '4', 'relative_users': None, 'search_highlight': None, 'sec_uid': 'MS4wLjABAAAADtIVl8ZjcVw_zow9DZiAM1eE-DXl9LS2AjNqm4UlRVMTNTsEjuyfhWf4s2ftPBFK', 'shield_edit_field_info': None, 'type_label': None, 'uid': '6808710106734937094', 'unique_id': 'yutzileyes', 'user_profile_guide': None, 'user_tags': None, 'white_cover_url': None}, 'user_buried': False, 'user_digged': 0, 'id': '7481414777174475525'}",
         "80"
        ],
        [
         "3",
         "1:5:NaN",
         "7481399224468325125",
         "1742532927656",
         "tiktok-comments",
         "https://www.tiktok.com/@aleinvita/video/7481330665653325111?q=%23starbucks&t=1742532923469",
         "https://www.tiktok.com/api/comment/list/?WebIdLastTime=1742532794&aid=1988&app_language=ja-JP&app_name=tiktok_web&aweme_id=7481330665653325111&browser_language=es-MX&browser_name=Mozilla&browser_online=true&browser_platform=Win32&browser_version=5.0%20%28Windows%29&channel=tiktok_web&cookie_enabled=true&count=20&current_region=JP&cursor=0&data_collection_enabled=true&device_id=7484121334139127301&device_platform=web_pc&enter_from=tiktok_web&focus_state=true&fromWeb=1&from_page=video&history_len=22&is_fullscreen=false&is_non_personalized=false&is_page_visible=true&odinId=6767163691941495814&os=windows&priority_region=MX&referer=https%3A%2F%2Fwww.tiktok.com%2Ftiktokstudio&region=MX&root_referer=https%3A%2F%2Fwww.google.com%2F&screen_height=864&screen_width=1536&tz_name=America%2FMexico_City&user_is_login=true&verifyFp=verify_m8ib1bm1_QSarzvrA_sX5Z_4WuL_AXvy_kHS0cDW01EZK&webcast_language=es&msToken=EGWvgsD8_sBemESB8ANIDzMbJSk73gJob_YD62dATS7rfvCCTKj39UtrEGR_oUsFxm2E28pFLbEVbI0I4ZOcJ3pHNwQDYPE4J1h6p9JYx7hMtCXE55MEeDW99w1Dw2p6BM9A5mXiP3Th8CPfiUTM1g==&X-Bogus=DFSzsIVLvPXANH2Ft4Ex6ZMHkvaM&_signature=_02B4Z6wo00001P.Ml2gAAIDCRmMh4.jaX3T.zpPAAFg1de",
         "Mozilla/5.0 (Windows NT 10.0; Win64; x64; rv:136.0) Gecko/20100101 Firefox/136.0",
         "{'author_pin': False, 'aweme_id': '7481330665653325111', 'cid': '7481399224468325125', 'collect_stat': 0, 'comment_language': 'es', 'comment_post_item_ids': None, 'create_time': 1741899031, 'digg_count': 21, 'forbid_reply_with_video': True, 'image_list': None, 'is_author_digged': False, 'is_comment_translatable': True, 'label_list': None, 'no_show': False, 'reply_comment': None, 'reply_comment_total': 41, 'reply_id': '0', 'reply_to_reply_id': '0', 'share_info': {'acl': {'code': 0, 'extra': '{}'}, 'desc': 'Karol Pa’s comment: alguien que me confirme que sea verdad la promoción', 'title': 'Frappuccinos de Starbucks a solo 49 pesos 🍓🍦☕️🥛 🍍🥥 Frappuccinos participantes: café, espresso, mocha, mocha blanco, caramel, chip, cookies, cajeta, fresa cream, chocolate cream, vainilla cream, chai cream, matcha cream, berry yogurt, piña coco yogurt, chocolate blanco, cajeta cream, cinnamon dolce, cinammon dolce cream y chocolate mexicano. #viral #fypシ #fyp #starbucks #frappuccino #dragonfruit #refresher #affogato ', 'url': 'https://m.tiktok.com/v/7481330665653325111.html?_d=ejbi47j59e3m8k&comment_author_id=6550293459219333126&preview_pb=0&share_comment_id=7481399224468325125&share_item_id=7481330665653325111&sharer_language=ja-JP&source=h5_m&u_code=d9i7aa35aa0afg'}, 'sort_extra_score': {'reply_score': 0.00031, 'show_more_score': 0.530932}, 'sort_tags': '{\"top_list\":1}', 'status': 1, 'stick_position': 0, 'text': 'alguien que me confirme que sea verdad la promoción', 'text_extra': [], 'trans_btn_style': 1, 'user': {'account_labels': None, 'ad_cover_url': None, 'advance_feature_item_order': None, 'advanced_feature_info': None, 'avatar_thumb': {'uri': 'tos-maliva-avt-0068/bc1ffac920b1c14cb6b4a9bd4836a926', 'url_list': ['https://p16-sign-va.tiktokcdn.com/tos-maliva-avt-0068/bc1ffac920b1c14cb6b4a9bd4836a926~tplv-tiktokx-cropcenter:100:100.jpg?dr=14579&refresh_token=00e2f0ad&x-expires=1742616000&x-signature=LunygEptLnq56JELI05whBXwrs0%3D&t=4d5b0474&ps=13740610&shp=30310797&shcp=ff37627b&idc=maliva', 'https://p16-sign-va.tiktokcdn.com/tos-maliva-avt-0068/bc1ffac920b1c14cb6b4a9bd4836a926~tplv-tiktokx-cropcenter:100:100.jpeg?dr=14579&refresh_token=c8475c63&x-expires=1742616000&x-signature=ubUEd4cguhykMP7kgDrgN%2FOrACo%3D&t=4d5b0474&ps=13740610&shp=30310797&shcp=ff37627b&idc=maliva'], 'url_prefix': None}, 'bold_fields': None, 'can_message_follow_status_list': None, 'can_set_geofencing': None, 'cha_list': None, 'cover_url': None, 'custom_verify': '', 'enterprise_verify_reason': '', 'events': None, 'followers_detail': None, 'geofencing': None, 'homepage_bottom_toast': None, 'item_list': None, 'mutual_relation_avatars': None, 'need_points': None, 'nickname': 'Karol Pa', 'platform_sync_info': None, 'predicted_age_group': '3', 'relative_users': None, 'search_highlight': None, 'sec_uid': 'MS4wLjABAAAAvN0vya2K3Gg62VllVccbkvZbhAutEscS61ffhi3qalsJrPYLcns53rwk2dSjxXl4', 'shield_edit_field_info': None, 'type_label': None, 'uid': '6550293459219333126', 'unique_id': 'karolpalacios523', 'user_profile_guide': None, 'user_tags': None, 'white_cover_url': None}, 'user_buried': False, 'user_digged': 0, 'id': '7481399224468325125'}",
         "81"
        ],
        [
         "4",
         "1:5:NaN",
         "7481487802417333047",
         "1742532927656",
         "tiktok-comments",
         "https://www.tiktok.com/@aleinvita/video/7481330665653325111?q=%23starbucks&t=1742532923469",
         "https://www.tiktok.com/api/comment/list/?WebIdLastTime=1742532794&aid=1988&app_language=ja-JP&app_name=tiktok_web&aweme_id=7481330665653325111&browser_language=es-MX&browser_name=Mozilla&browser_online=true&browser_platform=Win32&browser_version=5.0%20%28Windows%29&channel=tiktok_web&cookie_enabled=true&count=20&current_region=JP&cursor=0&data_collection_enabled=true&device_id=7484121334139127301&device_platform=web_pc&enter_from=tiktok_web&focus_state=true&fromWeb=1&from_page=video&history_len=22&is_fullscreen=false&is_non_personalized=false&is_page_visible=true&odinId=6767163691941495814&os=windows&priority_region=MX&referer=https%3A%2F%2Fwww.tiktok.com%2Ftiktokstudio&region=MX&root_referer=https%3A%2F%2Fwww.google.com%2F&screen_height=864&screen_width=1536&tz_name=America%2FMexico_City&user_is_login=true&verifyFp=verify_m8ib1bm1_QSarzvrA_sX5Z_4WuL_AXvy_kHS0cDW01EZK&webcast_language=es&msToken=EGWvgsD8_sBemESB8ANIDzMbJSk73gJob_YD62dATS7rfvCCTKj39UtrEGR_oUsFxm2E28pFLbEVbI0I4ZOcJ3pHNwQDYPE4J1h6p9JYx7hMtCXE55MEeDW99w1Dw2p6BM9A5mXiP3Th8CPfiUTM1g==&X-Bogus=DFSzsIVLvPXANH2Ft4Ex6ZMHkvaM&_signature=_02B4Z6wo00001P.Ml2gAAIDCRmMh4.jaX3T.zpPAAFg1de",
         "Mozilla/5.0 (Windows NT 10.0; Win64; x64; rv:136.0) Gecko/20100101 Firefox/136.0",
         "{'author_pin': False, 'aweme_id': '7481330665653325111', 'cid': '7481487802417333047', 'collect_stat': 0, 'comment_language': 'es', 'comment_post_item_ids': None, 'create_time': 1741919645, 'digg_count': 750, 'forbid_reply_with_video': True, 'image_list': None, 'is_author_digged': False, 'is_comment_translatable': True, 'label_list': None, 'no_show': False, 'reply_comment': None, 'reply_comment_total': 32, 'reply_id': '0', 'reply_to_reply_id': '0', 'share_info': {'acl': {'code': 0, 'extra': '{}'}, 'desc': 'Geli Picazo’s comment: Apoyen a Italian Coffe es una empresa 100% Poblana de verdad, apoyemos a nuestros hermanos Mexicanos', 'title': 'Frappuccinos de Starbucks a solo 49 pesos 🍓🍦☕️🥛 🍍🥥 Frappuccinos participantes: café, espresso, mocha, mocha blanco, caramel, chip, cookies, cajeta, fresa cream, chocolate cream, vainilla cream, chai cream, matcha cream, berry yogurt, piña coco yogurt, chocolate blanco, cajeta cream, cinnamon dolce, cinammon dolce cream y chocolate mexicano. #viral #fypシ #fyp #starbucks #frappuccino #dragonfruit #refresher #affogato ', 'url': 'https://m.tiktok.com/v/7481330665653325111.html?_d=ejbi47j59e3m8k&comment_author_id=6803571106466923526&preview_pb=0&share_comment_id=7481487802417333047&share_item_id=7481330665653325111&sharer_language=ja-JP&source=h5_m&u_code=d9i7aa35aa0afg'}, 'sort_extra_score': {'reply_score': 0.000246, 'show_more_score': 0.044193}, 'sort_tags': '{\"top_list\":1}', 'status': 1, 'stick_position': 0, 'text': 'Apoyen a Italian Coffe es una empresa 100% Poblana de verdad, apoyemos a nuestros hermanos Mexicanos', 'text_extra': [], 'trans_btn_style': 1, 'user': {'account_labels': None, 'ad_cover_url': None, 'advance_feature_item_order': None, 'advanced_feature_info': None, 'avatar_thumb': {'uri': 'tos-maliva-avt-0068/7333642699012538374', 'url_list': ['https://p16-sign-va.tiktokcdn.com/tos-maliva-avt-0068/7333642699012538374~tplv-tiktokx-cropcenter:100:100.jpg?dr=14579&refresh_token=c0df2b81&x-expires=1742616000&x-signature=A%2Fp15HjPZoPKZ2tTgNRJvgkSqhA%3D&t=4d5b0474&ps=13740610&shp=30310797&shcp=ff37627b&idc=maliva', 'https://p16-sign-va.tiktokcdn.com/tos-maliva-avt-0068/7333642699012538374~tplv-tiktokx-cropcenter:100:100.jpeg?dr=14579&refresh_token=12297d3b&x-expires=1742616000&x-signature=L7HQsRk6gRUXhLfSE7KMCjA3OrQ%3D&t=4d5b0474&ps=13740610&shp=30310797&shcp=ff37627b&idc=maliva'], 'url_prefix': None}, 'bold_fields': None, 'can_message_follow_status_list': None, 'can_set_geofencing': None, 'cha_list': None, 'cover_url': None, 'custom_verify': '', 'enterprise_verify_reason': '', 'events': None, 'followers_detail': None, 'geofencing': None, 'homepage_bottom_toast': None, 'item_list': None, 'mutual_relation_avatars': None, 'need_points': None, 'nickname': 'Geli Picazo', 'platform_sync_info': None, 'predicted_age_group': '4', 'relative_users': None, 'search_highlight': None, 'sec_uid': 'MS4wLjABAAAAdNH7_pJgZoCjzmgdxfdyF-LNGxw5PMwupC1Er6HlueqahJJULlW0HpwKSZ22zV_S', 'shield_edit_field_info': None, 'type_label': None, 'uid': '6803571106466923526', 'unique_id': 'gelipikzo08', 'user_profile_guide': None, 'user_tags': None, 'white_cover_url': None}, 'user_buried': False, 'user_digged': 0, 'id': '7481487802417333047'}",
         "82"
        ]
       ],
       "shape": {
        "columns": 9,
        "rows": 5
       }
      },
      "text/html": [
       "<div>\n",
       "<style scoped>\n",
       "    .dataframe tbody tr th:only-of-type {\n",
       "        vertical-align: middle;\n",
       "    }\n",
       "\n",
       "    .dataframe tbody tr th {\n",
       "        vertical-align: top;\n",
       "    }\n",
       "\n",
       "    .dataframe thead th {\n",
       "        text-align: right;\n",
       "    }\n",
       "</style>\n",
       "<table border=\"1\" class=\"dataframe\">\n",
       "  <thead>\n",
       "    <tr style=\"text-align: right;\">\n",
       "      <th></th>\n",
       "      <th>nav_index</th>\n",
       "      <th>item_id</th>\n",
       "      <th>timestamp_collected</th>\n",
       "      <th>source_platform</th>\n",
       "      <th>source_platform_url</th>\n",
       "      <th>source_url</th>\n",
       "      <th>user_agent</th>\n",
       "      <th>data</th>\n",
       "      <th>id</th>\n",
       "    </tr>\n",
       "  </thead>\n",
       "  <tbody>\n",
       "    <tr>\n",
       "      <th>0</th>\n",
       "      <td>1:5:NaN</td>\n",
       "      <td>7481415843121971974</td>\n",
       "      <td>1742532927655</td>\n",
       "      <td>tiktok-comments</td>\n",
       "      <td>https://www.tiktok.com/@aleinvita/video/748133...</td>\n",
       "      <td>https://www.tiktok.com/api/comment/list/?WebId...</td>\n",
       "      <td>Mozilla/5.0 (Windows NT 10.0; Win64; x64; rv:1...</td>\n",
       "      <td>{'author_pin': False, 'aweme_id': '74813306656...</td>\n",
       "      <td>78</td>\n",
       "    </tr>\n",
       "    <tr>\n",
       "      <th>1</th>\n",
       "      <td>1:5:NaN</td>\n",
       "      <td>7481392089537839878</td>\n",
       "      <td>1742532927655</td>\n",
       "      <td>tiktok-comments</td>\n",
       "      <td>https://www.tiktok.com/@aleinvita/video/748133...</td>\n",
       "      <td>https://www.tiktok.com/api/comment/list/?WebId...</td>\n",
       "      <td>Mozilla/5.0 (Windows NT 10.0; Win64; x64; rv:1...</td>\n",
       "      <td>{'author_pin': False, 'aweme_id': '74813306656...</td>\n",
       "      <td>79</td>\n",
       "    </tr>\n",
       "    <tr>\n",
       "      <th>2</th>\n",
       "      <td>1:5:NaN</td>\n",
       "      <td>7481414777174475525</td>\n",
       "      <td>1742532927656</td>\n",
       "      <td>tiktok-comments</td>\n",
       "      <td>https://www.tiktok.com/@aleinvita/video/748133...</td>\n",
       "      <td>https://www.tiktok.com/api/comment/list/?WebId...</td>\n",
       "      <td>Mozilla/5.0 (Windows NT 10.0; Win64; x64; rv:1...</td>\n",
       "      <td>{'author_pin': False, 'aweme_id': '74813306656...</td>\n",
       "      <td>80</td>\n",
       "    </tr>\n",
       "    <tr>\n",
       "      <th>3</th>\n",
       "      <td>1:5:NaN</td>\n",
       "      <td>7481399224468325125</td>\n",
       "      <td>1742532927656</td>\n",
       "      <td>tiktok-comments</td>\n",
       "      <td>https://www.tiktok.com/@aleinvita/video/748133...</td>\n",
       "      <td>https://www.tiktok.com/api/comment/list/?WebId...</td>\n",
       "      <td>Mozilla/5.0 (Windows NT 10.0; Win64; x64; rv:1...</td>\n",
       "      <td>{'author_pin': False, 'aweme_id': '74813306656...</td>\n",
       "      <td>81</td>\n",
       "    </tr>\n",
       "    <tr>\n",
       "      <th>4</th>\n",
       "      <td>1:5:NaN</td>\n",
       "      <td>7481487802417333047</td>\n",
       "      <td>1742532927656</td>\n",
       "      <td>tiktok-comments</td>\n",
       "      <td>https://www.tiktok.com/@aleinvita/video/748133...</td>\n",
       "      <td>https://www.tiktok.com/api/comment/list/?WebId...</td>\n",
       "      <td>Mozilla/5.0 (Windows NT 10.0; Win64; x64; rv:1...</td>\n",
       "      <td>{'author_pin': False, 'aweme_id': '74813306656...</td>\n",
       "      <td>82</td>\n",
       "    </tr>\n",
       "  </tbody>\n",
       "</table>\n",
       "</div>"
      ],
      "text/plain": [
       "  nav_index              item_id  timestamp_collected  source_platform  \\\n",
       "0   1:5:NaN  7481415843121971974        1742532927655  tiktok-comments   \n",
       "1   1:5:NaN  7481392089537839878        1742532927655  tiktok-comments   \n",
       "2   1:5:NaN  7481414777174475525        1742532927656  tiktok-comments   \n",
       "3   1:5:NaN  7481399224468325125        1742532927656  tiktok-comments   \n",
       "4   1:5:NaN  7481487802417333047        1742532927656  tiktok-comments   \n",
       "\n",
       "                                 source_platform_url  \\\n",
       "0  https://www.tiktok.com/@aleinvita/video/748133...   \n",
       "1  https://www.tiktok.com/@aleinvita/video/748133...   \n",
       "2  https://www.tiktok.com/@aleinvita/video/748133...   \n",
       "3  https://www.tiktok.com/@aleinvita/video/748133...   \n",
       "4  https://www.tiktok.com/@aleinvita/video/748133...   \n",
       "\n",
       "                                          source_url  \\\n",
       "0  https://www.tiktok.com/api/comment/list/?WebId...   \n",
       "1  https://www.tiktok.com/api/comment/list/?WebId...   \n",
       "2  https://www.tiktok.com/api/comment/list/?WebId...   \n",
       "3  https://www.tiktok.com/api/comment/list/?WebId...   \n",
       "4  https://www.tiktok.com/api/comment/list/?WebId...   \n",
       "\n",
       "                                          user_agent  \\\n",
       "0  Mozilla/5.0 (Windows NT 10.0; Win64; x64; rv:1...   \n",
       "1  Mozilla/5.0 (Windows NT 10.0; Win64; x64; rv:1...   \n",
       "2  Mozilla/5.0 (Windows NT 10.0; Win64; x64; rv:1...   \n",
       "3  Mozilla/5.0 (Windows NT 10.0; Win64; x64; rv:1...   \n",
       "4  Mozilla/5.0 (Windows NT 10.0; Win64; x64; rv:1...   \n",
       "\n",
       "                                                data  id  \n",
       "0  {'author_pin': False, 'aweme_id': '74813306656...  78  \n",
       "1  {'author_pin': False, 'aweme_id': '74813306656...  79  \n",
       "2  {'author_pin': False, 'aweme_id': '74813306656...  80  \n",
       "3  {'author_pin': False, 'aweme_id': '74813306656...  81  \n",
       "4  {'author_pin': False, 'aweme_id': '74813306656...  82  "
      ]
     },
     "execution_count": 3,
     "metadata": {},
     "output_type": "execute_result"
    }
   ],
   "source": [
    "tik_tok_file = 'tiktok_comments.ndjson'\n",
    "\n",
    "# Leer el archivo NDJSON línea por línea\n",
    "tik_tok_data = []\n",
    "with open(tik_tok_file, 'r', encoding='utf-8') as file:\n",
    "    for line in file:\n",
    "        tik_tok_data.append(json.loads(line))\n",
    "\n",
    "# Convertir a DataFrame\n",
    "df_tik_tok = pd.DataFrame(tik_tok_data)\n",
    "\n",
    "\n",
    "df_tik_tok.head()"
   ]
  },
  {
   "cell_type": "code",
   "execution_count": 4,
   "metadata": {},
   "outputs": [
    {
     "name": "stdout",
     "output_type": "stream",
     "text": [
      "Información de datos de TikTok:\n",
      "<class 'pandas.core.frame.DataFrame'>\n",
      "RangeIndex: 1770 entries, 0 to 1769\n",
      "Data columns (total 9 columns):\n",
      " #   Column               Non-Null Count  Dtype \n",
      "---  ------               --------------  ----- \n",
      " 0   nav_index            1770 non-null   object\n",
      " 1   item_id              1770 non-null   object\n",
      " 2   timestamp_collected  1770 non-null   int64 \n",
      " 3   source_platform      1770 non-null   object\n",
      " 4   source_platform_url  1770 non-null   object\n",
      " 5   source_url           1770 non-null   object\n",
      " 6   user_agent           1770 non-null   object\n",
      " 7   data                 1770 non-null   object\n",
      " 8   id                   1770 non-null   int64 \n",
      "dtypes: int64(2), object(7)\n",
      "memory usage: 124.6+ KB\n"
     ]
    }
   ],
   "source": [
    "print(\"Información de datos de TikTok:\")\n",
    "df_tik_tok.info()"
   ]
  },
  {
   "cell_type": "code",
   "execution_count": 5,
   "metadata": {},
   "outputs": [
    {
     "data": {
      "text/plain": [
       "nav_index              0\n",
       "item_id                0\n",
       "timestamp_collected    0\n",
       "source_platform        0\n",
       "source_platform_url    0\n",
       "source_url             0\n",
       "user_agent             0\n",
       "data                   0\n",
       "id                     0\n",
       "dtype: int64"
      ]
     },
     "execution_count": 5,
     "metadata": {},
     "output_type": "execute_result"
    }
   ],
   "source": [
    "df_tik_tok.isnull().sum()"
   ]
  },
  {
   "cell_type": "markdown",
   "metadata": {},
   "source": [
    "La columna data parece ser la más importante, ya que contiene diccionarios con información detallada de los comentarios.\n",
    "\n",
    "Exploremos el contenido de la columna data para identificar las claves relevantes, como el texto del comentario, el autor o la fecha."
   ]
  },
  {
   "cell_type": "code",
   "execution_count": 6,
   "metadata": {},
   "outputs": [
    {
     "name": "stdout",
     "output_type": "stream",
     "text": [
      "Estructura de 'data':\n",
      "author_pin: <class 'bool'>\n",
      "aweme_id: <class 'str'>\n",
      "cid: <class 'str'>\n",
      "collect_stat: <class 'int'>\n",
      "comment_language: <class 'str'>\n",
      "comment_post_item_ids: <class 'NoneType'>\n",
      "create_time: <class 'int'>\n",
      "digg_count: <class 'int'>\n",
      "forbid_reply_with_video: <class 'bool'>\n",
      "image_list: <class 'NoneType'>\n",
      "is_author_digged: <class 'bool'>\n",
      "is_comment_translatable: <class 'bool'>\n",
      "label_list: <class 'NoneType'>\n",
      "no_show: <class 'bool'>\n",
      "reply_comment: <class 'NoneType'>\n",
      "reply_comment_total: <class 'int'>\n",
      "reply_id: <class 'str'>\n",
      "reply_to_reply_id: <class 'str'>\n",
      "share_info: <class 'dict'>\n",
      "sort_extra_score: <class 'dict'>\n",
      "sort_tags: <class 'str'>\n",
      "status: <class 'int'>\n",
      "stick_position: <class 'int'>\n",
      "text: <class 'str'>\n",
      "text_extra: <class 'list'>\n",
      "trans_btn_style: <class 'int'>\n",
      "user: <class 'dict'>\n",
      "user_buried: <class 'bool'>\n",
      "user_digged: <class 'int'>\n",
      "id: <class 'str'>\n"
     ]
    }
   ],
   "source": [
    "# Explorar la estructura de un registro en la columna 'data'\n",
    "sample_data = df_tik_tok['data'].iloc[0]\n",
    "print(\"Estructura de 'data':\")\n",
    "for key, value in sample_data.items():\n",
    "    print(f\"{key}: {type(value)}\")"
   ]
  },
  {
   "cell_type": "markdown",
   "metadata": {},
   "source": [
    "## Paso 2: Expandir la Columna 'data' en Columnas Separadas.\n",
    "La columna data contiene diccionarios, por lo que es práctico expandirla en columnas individuales para facilitar el acceso a la información.\n",
    "\n",
    "Convierte la columna data en un DataFrame y únela al DataFrame original."
   ]
  },
  {
   "cell_type": "code",
   "execution_count": 7,
   "metadata": {},
   "outputs": [
    {
     "data": {
      "application/vnd.microsoft.datawrangler.viewer.v0+json": {
       "columns": [
        {
         "name": "index",
         "rawType": "int64",
         "type": "integer"
        },
        {
         "name": "nav_index",
         "rawType": "object",
         "type": "string"
        },
        {
         "name": "item_id",
         "rawType": "object",
         "type": "string"
        },
        {
         "name": "timestamp_collected",
         "rawType": "int64",
         "type": "integer"
        },
        {
         "name": "source_platform",
         "rawType": "object",
         "type": "string"
        },
        {
         "name": "source_platform_url",
         "rawType": "object",
         "type": "string"
        },
        {
         "name": "source_url",
         "rawType": "object",
         "type": "string"
        },
        {
         "name": "user_agent",
         "rawType": "object",
         "type": "string"
        },
        {
         "name": "id",
         "rawType": "int64",
         "type": "integer"
        },
        {
         "name": "author_pin",
         "rawType": "object",
         "type": "unknown"
        },
        {
         "name": "aweme_id",
         "rawType": "object",
         "type": "string"
        },
        {
         "name": "cid",
         "rawType": "object",
         "type": "string"
        },
        {
         "name": "collect_stat",
         "rawType": "int64",
         "type": "integer"
        },
        {
         "name": "comment_language",
         "rawType": "object",
         "type": "string"
        },
        {
         "name": "comment_post_item_ids",
         "rawType": "object",
         "type": "unknown"
        },
        {
         "name": "create_time",
         "rawType": "int64",
         "type": "integer"
        },
        {
         "name": "digg_count",
         "rawType": "int64",
         "type": "integer"
        },
        {
         "name": "forbid_reply_with_video",
         "rawType": "object",
         "type": "unknown"
        },
        {
         "name": "image_list",
         "rawType": "object",
         "type": "unknown"
        },
        {
         "name": "is_author_digged",
         "rawType": "bool",
         "type": "boolean"
        },
        {
         "name": "is_comment_translatable",
         "rawType": "bool",
         "type": "boolean"
        },
        {
         "name": "label_list",
         "rawType": "object",
         "type": "unknown"
        },
        {
         "name": "no_show",
         "rawType": "bool",
         "type": "boolean"
        },
        {
         "name": "reply_comment",
         "rawType": "object",
         "type": "unknown"
        },
        {
         "name": "reply_comment_total",
         "rawType": "float64",
         "type": "float"
        },
        {
         "name": "reply_id",
         "rawType": "object",
         "type": "string"
        },
        {
         "name": "reply_to_reply_id",
         "rawType": "object",
         "type": "string"
        },
        {
         "name": "sort_tags",
         "rawType": "object",
         "type": "string"
        },
        {
         "name": "status",
         "rawType": "int64",
         "type": "integer"
        },
        {
         "name": "stick_position",
         "rawType": "int64",
         "type": "integer"
        },
        {
         "name": "text",
         "rawType": "object",
         "type": "string"
        },
        {
         "name": "text_extra",
         "rawType": "object",
         "type": "unknown"
        },
        {
         "name": "trans_btn_style",
         "rawType": "int64",
         "type": "integer"
        },
        {
         "name": "user_buried",
         "rawType": "bool",
         "type": "boolean"
        },
        {
         "name": "user_digged",
         "rawType": "int64",
         "type": "integer"
        },
        {
         "name": "id",
         "rawType": "object",
         "type": "string"
        },
        {
         "name": "share_info.acl.code",
         "rawType": "int64",
         "type": "integer"
        },
        {
         "name": "share_info.acl.extra",
         "rawType": "object",
         "type": "string"
        },
        {
         "name": "share_info.desc",
         "rawType": "object",
         "type": "string"
        },
        {
         "name": "share_info.title",
         "rawType": "object",
         "type": "string"
        },
        {
         "name": "share_info.url",
         "rawType": "object",
         "type": "string"
        },
        {
         "name": "sort_extra_score.reply_score",
         "rawType": "float64",
         "type": "float"
        },
        {
         "name": "sort_extra_score.show_more_score",
         "rawType": "float64",
         "type": "float"
        },
        {
         "name": "user.account_labels",
         "rawType": "object",
         "type": "unknown"
        },
        {
         "name": "user.ad_cover_url",
         "rawType": "object",
         "type": "unknown"
        },
        {
         "name": "user.advance_feature_item_order",
         "rawType": "object",
         "type": "unknown"
        },
        {
         "name": "user.advanced_feature_info",
         "rawType": "object",
         "type": "unknown"
        },
        {
         "name": "user.avatar_thumb.uri",
         "rawType": "object",
         "type": "string"
        },
        {
         "name": "user.avatar_thumb.url_list",
         "rawType": "object",
         "type": "unknown"
        },
        {
         "name": "user.avatar_thumb.url_prefix",
         "rawType": "object",
         "type": "unknown"
        },
        {
         "name": "user.bold_fields",
         "rawType": "object",
         "type": "unknown"
        },
        {
         "name": "user.can_message_follow_status_list",
         "rawType": "object",
         "type": "unknown"
        },
        {
         "name": "user.can_set_geofencing",
         "rawType": "object",
         "type": "unknown"
        },
        {
         "name": "user.cha_list",
         "rawType": "object",
         "type": "unknown"
        },
        {
         "name": "user.cover_url",
         "rawType": "object",
         "type": "unknown"
        },
        {
         "name": "user.custom_verify",
         "rawType": "object",
         "type": "string"
        },
        {
         "name": "user.enterprise_verify_reason",
         "rawType": "object",
         "type": "string"
        },
        {
         "name": "user.events",
         "rawType": "object",
         "type": "unknown"
        },
        {
         "name": "user.followers_detail",
         "rawType": "object",
         "type": "unknown"
        },
        {
         "name": "user.geofencing",
         "rawType": "object",
         "type": "unknown"
        },
        {
         "name": "user.homepage_bottom_toast",
         "rawType": "object",
         "type": "unknown"
        },
        {
         "name": "user.item_list",
         "rawType": "object",
         "type": "unknown"
        },
        {
         "name": "user.mutual_relation_avatars",
         "rawType": "object",
         "type": "unknown"
        },
        {
         "name": "user.need_points",
         "rawType": "object",
         "type": "unknown"
        },
        {
         "name": "user.nickname",
         "rawType": "object",
         "type": "string"
        },
        {
         "name": "user.platform_sync_info",
         "rawType": "object",
         "type": "unknown"
        },
        {
         "name": "user.predicted_age_group",
         "rawType": "object",
         "type": "string"
        },
        {
         "name": "user.relative_users",
         "rawType": "object",
         "type": "unknown"
        },
        {
         "name": "user.search_highlight",
         "rawType": "object",
         "type": "unknown"
        },
        {
         "name": "user.sec_uid",
         "rawType": "object",
         "type": "string"
        },
        {
         "name": "user.shield_edit_field_info",
         "rawType": "object",
         "type": "unknown"
        },
        {
         "name": "user.type_label",
         "rawType": "object",
         "type": "unknown"
        },
        {
         "name": "user.uid",
         "rawType": "object",
         "type": "string"
        },
        {
         "name": "user.unique_id",
         "rawType": "object",
         "type": "string"
        },
        {
         "name": "user.user_profile_guide",
         "rawType": "object",
         "type": "unknown"
        },
        {
         "name": "user.user_tags",
         "rawType": "object",
         "type": "unknown"
        },
        {
         "name": "user.white_cover_url",
         "rawType": "object",
         "type": "unknown"
        },
        {
         "name": "reply_to_nickname",
         "rawType": "object",
         "type": "unknown"
        },
        {
         "name": "reply_to_userid",
         "rawType": "object",
         "type": "unknown"
        },
        {
         "name": "reply_to_username",
         "rawType": "object",
         "type": "unknown"
        },
        {
         "name": "qrec_virtual_enable",
         "rawType": "object",
         "type": "unknown"
        },
        {
         "name": "label_text",
         "rawType": "object",
         "type": "unknown"
        },
        {
         "name": "label_type",
         "rawType": "float64",
         "type": "float"
        }
       ],
       "conversionMethod": "pd.DataFrame",
       "ref": "932a3796-cddf-40ba-9183-a1bbdee71d19",
       "rows": [
        [
         "0",
         "1:5:NaN",
         "7481415843121971974",
         "1742532927655",
         "tiktok-comments",
         "https://www.tiktok.com/@aleinvita/video/7481330665653325111?q=%23starbucks&t=1742532923469",
         "https://www.tiktok.com/api/comment/list/?WebIdLastTime=1742532794&aid=1988&app_language=ja-JP&app_name=tiktok_web&aweme_id=7481330665653325111&browser_language=es-MX&browser_name=Mozilla&browser_online=true&browser_platform=Win32&browser_version=5.0%20%28Windows%29&channel=tiktok_web&cookie_enabled=true&count=20&current_region=JP&cursor=0&data_collection_enabled=true&device_id=7484121334139127301&device_platform=web_pc&enter_from=tiktok_web&focus_state=true&fromWeb=1&from_page=video&history_len=22&is_fullscreen=false&is_non_personalized=false&is_page_visible=true&odinId=6767163691941495814&os=windows&priority_region=MX&referer=https%3A%2F%2Fwww.tiktok.com%2Ftiktokstudio&region=MX&root_referer=https%3A%2F%2Fwww.google.com%2F&screen_height=864&screen_width=1536&tz_name=America%2FMexico_City&user_is_login=true&verifyFp=verify_m8ib1bm1_QSarzvrA_sX5Z_4WuL_AXvy_kHS0cDW01EZK&webcast_language=es&msToken=EGWvgsD8_sBemESB8ANIDzMbJSk73gJob_YD62dATS7rfvCCTKj39UtrEGR_oUsFxm2E28pFLbEVbI0I4ZOcJ3pHNwQDYPE4J1h6p9JYx7hMtCXE55MEeDW99w1Dw2p6BM9A5mXiP3Th8CPfiUTM1g==&X-Bogus=DFSzsIVLvPXANH2Ft4Ex6ZMHkvaM&_signature=_02B4Z6wo00001P.Ml2gAAIDCRmMh4.jaX3T.zpPAAFg1de",
         "Mozilla/5.0 (Windows NT 10.0; Win64; x64; rv:136.0) Gecko/20100101 Firefox/136.0",
         "78",
         "False",
         "7481330665653325111",
         "7481415843121971974",
         "0",
         "es",
         null,
         "1741902890",
         "1539",
         "True",
         null,
         "False",
         "True",
         null,
         "False",
         null,
         "22.0",
         "0",
         "0",
         "{\"top_list\":1}",
         "1",
         "0",
         "NOOOOO HAY Q CONSUMIR STARBUCKS",
         "[]",
         "1",
         "False",
         "0",
         "7481415843121971974",
         "0",
         "{}",
         "Martha Olivia Mar92’s comment: NOOOOO HAY Q CONSUMIR STARBUCKS",
         "Frappuccinos de Starbucks a solo 49 pesos 🍓🍦☕️🥛 🍍🥥 Frappuccinos participantes: café, espresso, mocha, mocha blanco, caramel, chip, cookies, cajeta, fresa cream, chocolate cream, vainilla cream, chai cream, matcha cream, berry yogurt, piña coco yogurt, chocolate blanco, cajeta cream, cinnamon dolce, cinammon dolce cream y chocolate mexicano. #viral #fypシ #fyp #starbucks #frappuccino #dragonfruit #refresher #affogato ",
         "https://m.tiktok.com/v/7481330665653325111.html?_d=ejbi47j59e3m8k&comment_author_id=6986100906015491077&preview_pb=0&share_comment_id=7481415843121971974&share_item_id=7481330665653325111&sharer_language=ja-JP&source=h5_m&u_code=d9i7aa35aa0afg",
         "0.000506",
         "0.27809",
         null,
         null,
         null,
         null,
         "tos-maliva-avt-0068/9dfc54878e40f525e1fba02c965a1a3e",
         "['https://p16-sign-va.tiktokcdn.com/tos-maliva-avt-0068/9dfc54878e40f525e1fba02c965a1a3e~tplv-tiktokx-cropcenter:100:100.jpg?dr=14579&refresh_token=574d57d0&x-expires=1742616000&x-signature=8TbzvxR9HOClQS37SamB%2B60ioik%3D&t=4d5b0474&ps=13740610&shp=30310797&shcp=ff37627b&idc=maliva', 'https://p16-sign-va.tiktokcdn.com/tos-maliva-avt-0068/9dfc54878e40f525e1fba02c965a1a3e~tplv-tiktokx-cropcenter:100:100.jpeg?dr=14579&refresh_token=d3fa841f&x-expires=1742616000&x-signature=%2FVtPAsmZiXGkxTNVKB064l3HVLs%3D&t=4d5b0474&ps=13740610&shp=30310797&shcp=ff37627b&idc=maliva']",
         null,
         null,
         null,
         null,
         null,
         null,
         "",
         "",
         null,
         null,
         null,
         null,
         null,
         null,
         null,
         "Martha Olivia Mar92",
         null,
         "-1",
         null,
         null,
         "MS4wLjABAAAAKKFVm79LVG10onrjMa2pM4ijGSOlWHfqY0nBXS1WadErDY2zPIp4SXClK0OSzJrF",
         null,
         null,
         "6986100906015491077",
         "oli785l",
         null,
         null,
         null,
         null,
         null,
         null,
         null,
         null,
         null
        ],
        [
         "1",
         "1:5:NaN",
         "7481392089537839878",
         "1742532927655",
         "tiktok-comments",
         "https://www.tiktok.com/@aleinvita/video/7481330665653325111?q=%23starbucks&t=1742532923469",
         "https://www.tiktok.com/api/comment/list/?WebIdLastTime=1742532794&aid=1988&app_language=ja-JP&app_name=tiktok_web&aweme_id=7481330665653325111&browser_language=es-MX&browser_name=Mozilla&browser_online=true&browser_platform=Win32&browser_version=5.0%20%28Windows%29&channel=tiktok_web&cookie_enabled=true&count=20&current_region=JP&cursor=0&data_collection_enabled=true&device_id=7484121334139127301&device_platform=web_pc&enter_from=tiktok_web&focus_state=true&fromWeb=1&from_page=video&history_len=22&is_fullscreen=false&is_non_personalized=false&is_page_visible=true&odinId=6767163691941495814&os=windows&priority_region=MX&referer=https%3A%2F%2Fwww.tiktok.com%2Ftiktokstudio&region=MX&root_referer=https%3A%2F%2Fwww.google.com%2F&screen_height=864&screen_width=1536&tz_name=America%2FMexico_City&user_is_login=true&verifyFp=verify_m8ib1bm1_QSarzvrA_sX5Z_4WuL_AXvy_kHS0cDW01EZK&webcast_language=es&msToken=EGWvgsD8_sBemESB8ANIDzMbJSk73gJob_YD62dATS7rfvCCTKj39UtrEGR_oUsFxm2E28pFLbEVbI0I4ZOcJ3pHNwQDYPE4J1h6p9JYx7hMtCXE55MEeDW99w1Dw2p6BM9A5mXiP3Th8CPfiUTM1g==&X-Bogus=DFSzsIVLvPXANH2Ft4Ex6ZMHkvaM&_signature=_02B4Z6wo00001P.Ml2gAAIDCRmMh4.jaX3T.zpPAAFg1de",
         "Mozilla/5.0 (Windows NT 10.0; Win64; x64; rv:136.0) Gecko/20100101 Firefox/136.0",
         "79",
         "False",
         "7481330665653325111",
         "7481392089537839878",
         "0",
         "es",
         null,
         "1741897367",
         "3447",
         "True",
         null,
         "True",
         "True",
         "[{'text': '作成者がいいねした', 'type': 20}]",
         "False",
         null,
         "51.0",
         "0",
         "0",
         "{\"author_digg\":1,\"top_list\":1}",
         "1",
         "0",
         "visiten a cafeterías locales 🥰 Starbucks y nescafe lucran con el café mexicano",
         "[]",
         "1",
         "False",
         "0",
         "7481392089537839878",
         "0",
         "{}",
         "Jessica cruz’s comment: visiten a cafeterías locales 🥰 Starbucks y nescafe lucran con el café mexicano",
         "Frappuccinos de Starbucks a solo 49 pesos 🍓🍦☕️🥛 🍍🥥 Frappuccinos participantes: café, espresso, mocha, mocha blanco, caramel, chip, cookies, cajeta, fresa cream, chocolate cream, vainilla cream, chai cream, matcha cream, berry yogurt, piña coco yogurt, chocolate blanco, cajeta cream, cinnamon dolce, cinammon dolce cream y chocolate mexicano. #viral #fypシ #fyp #starbucks #frappuccino #dragonfruit #refresher #affogato ",
         "https://m.tiktok.com/v/7481330665653325111.html?_d=ejbi47j59e3m8k&comment_author_id=6991277706231907333&preview_pb=0&share_comment_id=7481392089537839878&share_item_id=7481330665653325111&sharer_language=ja-JP&source=h5_m&u_code=d9i7aa35aa0afg",
         "8.7e-05",
         "0.038715",
         null,
         null,
         null,
         null,
         "tos-maliva-avt-0068/a45bf59675214eda7ce5caabf7c16314",
         "['https://p16-sign-va.tiktokcdn.com/tos-maliva-avt-0068/a45bf59675214eda7ce5caabf7c16314~tplv-tiktokx-cropcenter:100:100.jpg?dr=14579&refresh_token=6e4c3403&x-expires=1742616000&x-signature=n4%2BDVNIZeVaLZr5TXngWTUUi4KM%3D&t=4d5b0474&ps=13740610&shp=30310797&shcp=ff37627b&idc=maliva', 'https://p16-sign-va.tiktokcdn.com/tos-maliva-avt-0068/a45bf59675214eda7ce5caabf7c16314~tplv-tiktokx-cropcenter:100:100.jpeg?dr=14579&refresh_token=d1a12d4e&x-expires=1742616000&x-signature=%2Bv2nyo%2BDnI4iEKZvbXCRWcHTYho%3D&t=4d5b0474&ps=13740610&shp=30310797&shcp=ff37627b&idc=maliva']",
         null,
         null,
         null,
         null,
         null,
         null,
         "",
         "",
         null,
         null,
         null,
         null,
         null,
         null,
         null,
         "Jessica cruz",
         null,
         "3",
         null,
         null,
         "MS4wLjABAAAAiZAFuTFL5js6HC8_oXMyCnX_NrpUe4yr6g73T7pTU91RQcoJGqGoYaT4iX_w7fOd",
         null,
         null,
         "6991277706231907333",
         "jessica_cruzc",
         null,
         null,
         null,
         null,
         null,
         null,
         null,
         null,
         null
        ],
        [
         "2",
         "1:5:NaN",
         "7481414777174475525",
         "1742532927656",
         "tiktok-comments",
         "https://www.tiktok.com/@aleinvita/video/7481330665653325111?q=%23starbucks&t=1742532923469",
         "https://www.tiktok.com/api/comment/list/?WebIdLastTime=1742532794&aid=1988&app_language=ja-JP&app_name=tiktok_web&aweme_id=7481330665653325111&browser_language=es-MX&browser_name=Mozilla&browser_online=true&browser_platform=Win32&browser_version=5.0%20%28Windows%29&channel=tiktok_web&cookie_enabled=true&count=20&current_region=JP&cursor=0&data_collection_enabled=true&device_id=7484121334139127301&device_platform=web_pc&enter_from=tiktok_web&focus_state=true&fromWeb=1&from_page=video&history_len=22&is_fullscreen=false&is_non_personalized=false&is_page_visible=true&odinId=6767163691941495814&os=windows&priority_region=MX&referer=https%3A%2F%2Fwww.tiktok.com%2Ftiktokstudio&region=MX&root_referer=https%3A%2F%2Fwww.google.com%2F&screen_height=864&screen_width=1536&tz_name=America%2FMexico_City&user_is_login=true&verifyFp=verify_m8ib1bm1_QSarzvrA_sX5Z_4WuL_AXvy_kHS0cDW01EZK&webcast_language=es&msToken=EGWvgsD8_sBemESB8ANIDzMbJSk73gJob_YD62dATS7rfvCCTKj39UtrEGR_oUsFxm2E28pFLbEVbI0I4ZOcJ3pHNwQDYPE4J1h6p9JYx7hMtCXE55MEeDW99w1Dw2p6BM9A5mXiP3Th8CPfiUTM1g==&X-Bogus=DFSzsIVLvPXANH2Ft4Ex6ZMHkvaM&_signature=_02B4Z6wo00001P.Ml2gAAIDCRmMh4.jaX3T.zpPAAFg1de",
         "Mozilla/5.0 (Windows NT 10.0; Win64; x64; rv:136.0) Gecko/20100101 Firefox/136.0",
         "80",
         "False",
         "7481330665653325111",
         "7481414777174475525",
         "0",
         "es",
         null,
         "1741902655",
         "1768",
         "True",
         null,
         "False",
         "True",
         null,
         "False",
         null,
         "26.0",
         "0",
         "0",
         "{\"top_list\":1}",
         "1",
         "0",
         "ahorita no andamos apoyando a esa empresa",
         "[]",
         "1",
         "False",
         "0",
         "7481414777174475525",
         "0",
         "{}",
         "Yutzil Eyes’s comment: ahorita no andamos apoyando a esa empresa",
         "Frappuccinos de Starbucks a solo 49 pesos 🍓🍦☕️🥛 🍍🥥 Frappuccinos participantes: café, espresso, mocha, mocha blanco, caramel, chip, cookies, cajeta, fresa cream, chocolate cream, vainilla cream, chai cream, matcha cream, berry yogurt, piña coco yogurt, chocolate blanco, cajeta cream, cinnamon dolce, cinammon dolce cream y chocolate mexicano. #viral #fypシ #fyp #starbucks #frappuccino #dragonfruit #refresher #affogato ",
         "https://m.tiktok.com/v/7481330665653325111.html?_d=ejbi47j59e3m8k&comment_author_id=6808710106734937094&preview_pb=0&share_comment_id=7481414777174475525&share_item_id=7481330665653325111&sharer_language=ja-JP&source=h5_m&u_code=d9i7aa35aa0afg",
         "0.000515",
         "0.06819",
         null,
         null,
         null,
         null,
         "tos-maliva-avt-0068/7334416738417410053",
         "['https://p16-sign-va.tiktokcdn.com/tos-maliva-avt-0068/7334416738417410053~tplv-tiktokx-cropcenter:100:100.jpg?dr=14579&refresh_token=35f967f3&x-expires=1742616000&x-signature=Q47TUnV%2B8OO3NtZpybIvKgCs6fY%3D&t=4d5b0474&ps=13740610&shp=30310797&shcp=ff37627b&idc=maliva', 'https://p16-sign-va.tiktokcdn.com/tos-maliva-avt-0068/7334416738417410053~tplv-tiktokx-cropcenter:100:100.jpeg?dr=14579&refresh_token=39374c9a&x-expires=1742616000&x-signature=ncqjVBNs99EpgFsfnbIQ%2Bb%2BShcw%3D&t=4d5b0474&ps=13740610&shp=30310797&shcp=ff37627b&idc=maliva']",
         null,
         null,
         null,
         null,
         null,
         null,
         "",
         "",
         null,
         null,
         null,
         null,
         null,
         null,
         null,
         "Yutzil Eyes",
         null,
         "4",
         null,
         null,
         "MS4wLjABAAAADtIVl8ZjcVw_zow9DZiAM1eE-DXl9LS2AjNqm4UlRVMTNTsEjuyfhWf4s2ftPBFK",
         null,
         null,
         "6808710106734937094",
         "yutzileyes",
         null,
         null,
         null,
         null,
         null,
         null,
         null,
         null,
         null
        ],
        [
         "3",
         "1:5:NaN",
         "7481399224468325125",
         "1742532927656",
         "tiktok-comments",
         "https://www.tiktok.com/@aleinvita/video/7481330665653325111?q=%23starbucks&t=1742532923469",
         "https://www.tiktok.com/api/comment/list/?WebIdLastTime=1742532794&aid=1988&app_language=ja-JP&app_name=tiktok_web&aweme_id=7481330665653325111&browser_language=es-MX&browser_name=Mozilla&browser_online=true&browser_platform=Win32&browser_version=5.0%20%28Windows%29&channel=tiktok_web&cookie_enabled=true&count=20&current_region=JP&cursor=0&data_collection_enabled=true&device_id=7484121334139127301&device_platform=web_pc&enter_from=tiktok_web&focus_state=true&fromWeb=1&from_page=video&history_len=22&is_fullscreen=false&is_non_personalized=false&is_page_visible=true&odinId=6767163691941495814&os=windows&priority_region=MX&referer=https%3A%2F%2Fwww.tiktok.com%2Ftiktokstudio&region=MX&root_referer=https%3A%2F%2Fwww.google.com%2F&screen_height=864&screen_width=1536&tz_name=America%2FMexico_City&user_is_login=true&verifyFp=verify_m8ib1bm1_QSarzvrA_sX5Z_4WuL_AXvy_kHS0cDW01EZK&webcast_language=es&msToken=EGWvgsD8_sBemESB8ANIDzMbJSk73gJob_YD62dATS7rfvCCTKj39UtrEGR_oUsFxm2E28pFLbEVbI0I4ZOcJ3pHNwQDYPE4J1h6p9JYx7hMtCXE55MEeDW99w1Dw2p6BM9A5mXiP3Th8CPfiUTM1g==&X-Bogus=DFSzsIVLvPXANH2Ft4Ex6ZMHkvaM&_signature=_02B4Z6wo00001P.Ml2gAAIDCRmMh4.jaX3T.zpPAAFg1de",
         "Mozilla/5.0 (Windows NT 10.0; Win64; x64; rv:136.0) Gecko/20100101 Firefox/136.0",
         "81",
         "False",
         "7481330665653325111",
         "7481399224468325125",
         "0",
         "es",
         null,
         "1741899031",
         "21",
         "True",
         null,
         "False",
         "True",
         null,
         "False",
         null,
         "41.0",
         "0",
         "0",
         "{\"top_list\":1}",
         "1",
         "0",
         "alguien que me confirme que sea verdad la promoción",
         "[]",
         "1",
         "False",
         "0",
         "7481399224468325125",
         "0",
         "{}",
         "Karol Pa’s comment: alguien que me confirme que sea verdad la promoción",
         "Frappuccinos de Starbucks a solo 49 pesos 🍓🍦☕️🥛 🍍🥥 Frappuccinos participantes: café, espresso, mocha, mocha blanco, caramel, chip, cookies, cajeta, fresa cream, chocolate cream, vainilla cream, chai cream, matcha cream, berry yogurt, piña coco yogurt, chocolate blanco, cajeta cream, cinnamon dolce, cinammon dolce cream y chocolate mexicano. #viral #fypシ #fyp #starbucks #frappuccino #dragonfruit #refresher #affogato ",
         "https://m.tiktok.com/v/7481330665653325111.html?_d=ejbi47j59e3m8k&comment_author_id=6550293459219333126&preview_pb=0&share_comment_id=7481399224468325125&share_item_id=7481330665653325111&sharer_language=ja-JP&source=h5_m&u_code=d9i7aa35aa0afg",
         "0.00031",
         "0.530932",
         null,
         null,
         null,
         null,
         "tos-maliva-avt-0068/bc1ffac920b1c14cb6b4a9bd4836a926",
         "['https://p16-sign-va.tiktokcdn.com/tos-maliva-avt-0068/bc1ffac920b1c14cb6b4a9bd4836a926~tplv-tiktokx-cropcenter:100:100.jpg?dr=14579&refresh_token=00e2f0ad&x-expires=1742616000&x-signature=LunygEptLnq56JELI05whBXwrs0%3D&t=4d5b0474&ps=13740610&shp=30310797&shcp=ff37627b&idc=maliva', 'https://p16-sign-va.tiktokcdn.com/tos-maliva-avt-0068/bc1ffac920b1c14cb6b4a9bd4836a926~tplv-tiktokx-cropcenter:100:100.jpeg?dr=14579&refresh_token=c8475c63&x-expires=1742616000&x-signature=ubUEd4cguhykMP7kgDrgN%2FOrACo%3D&t=4d5b0474&ps=13740610&shp=30310797&shcp=ff37627b&idc=maliva']",
         null,
         null,
         null,
         null,
         null,
         null,
         "",
         "",
         null,
         null,
         null,
         null,
         null,
         null,
         null,
         "Karol Pa",
         null,
         "3",
         null,
         null,
         "MS4wLjABAAAAvN0vya2K3Gg62VllVccbkvZbhAutEscS61ffhi3qalsJrPYLcns53rwk2dSjxXl4",
         null,
         null,
         "6550293459219333126",
         "karolpalacios523",
         null,
         null,
         null,
         null,
         null,
         null,
         null,
         null,
         null
        ],
        [
         "4",
         "1:5:NaN",
         "7481487802417333047",
         "1742532927656",
         "tiktok-comments",
         "https://www.tiktok.com/@aleinvita/video/7481330665653325111?q=%23starbucks&t=1742532923469",
         "https://www.tiktok.com/api/comment/list/?WebIdLastTime=1742532794&aid=1988&app_language=ja-JP&app_name=tiktok_web&aweme_id=7481330665653325111&browser_language=es-MX&browser_name=Mozilla&browser_online=true&browser_platform=Win32&browser_version=5.0%20%28Windows%29&channel=tiktok_web&cookie_enabled=true&count=20&current_region=JP&cursor=0&data_collection_enabled=true&device_id=7484121334139127301&device_platform=web_pc&enter_from=tiktok_web&focus_state=true&fromWeb=1&from_page=video&history_len=22&is_fullscreen=false&is_non_personalized=false&is_page_visible=true&odinId=6767163691941495814&os=windows&priority_region=MX&referer=https%3A%2F%2Fwww.tiktok.com%2Ftiktokstudio&region=MX&root_referer=https%3A%2F%2Fwww.google.com%2F&screen_height=864&screen_width=1536&tz_name=America%2FMexico_City&user_is_login=true&verifyFp=verify_m8ib1bm1_QSarzvrA_sX5Z_4WuL_AXvy_kHS0cDW01EZK&webcast_language=es&msToken=EGWvgsD8_sBemESB8ANIDzMbJSk73gJob_YD62dATS7rfvCCTKj39UtrEGR_oUsFxm2E28pFLbEVbI0I4ZOcJ3pHNwQDYPE4J1h6p9JYx7hMtCXE55MEeDW99w1Dw2p6BM9A5mXiP3Th8CPfiUTM1g==&X-Bogus=DFSzsIVLvPXANH2Ft4Ex6ZMHkvaM&_signature=_02B4Z6wo00001P.Ml2gAAIDCRmMh4.jaX3T.zpPAAFg1de",
         "Mozilla/5.0 (Windows NT 10.0; Win64; x64; rv:136.0) Gecko/20100101 Firefox/136.0",
         "82",
         "False",
         "7481330665653325111",
         "7481487802417333047",
         "0",
         "es",
         null,
         "1741919645",
         "750",
         "True",
         null,
         "False",
         "True",
         null,
         "False",
         null,
         "32.0",
         "0",
         "0",
         "{\"top_list\":1}",
         "1",
         "0",
         "Apoyen a Italian Coffe es una empresa 100% Poblana de verdad, apoyemos a nuestros hermanos Mexicanos",
         "[]",
         "1",
         "False",
         "0",
         "7481487802417333047",
         "0",
         "{}",
         "Geli Picazo’s comment: Apoyen a Italian Coffe es una empresa 100% Poblana de verdad, apoyemos a nuestros hermanos Mexicanos",
         "Frappuccinos de Starbucks a solo 49 pesos 🍓🍦☕️🥛 🍍🥥 Frappuccinos participantes: café, espresso, mocha, mocha blanco, caramel, chip, cookies, cajeta, fresa cream, chocolate cream, vainilla cream, chai cream, matcha cream, berry yogurt, piña coco yogurt, chocolate blanco, cajeta cream, cinnamon dolce, cinammon dolce cream y chocolate mexicano. #viral #fypシ #fyp #starbucks #frappuccino #dragonfruit #refresher #affogato ",
         "https://m.tiktok.com/v/7481330665653325111.html?_d=ejbi47j59e3m8k&comment_author_id=6803571106466923526&preview_pb=0&share_comment_id=7481487802417333047&share_item_id=7481330665653325111&sharer_language=ja-JP&source=h5_m&u_code=d9i7aa35aa0afg",
         "0.000246",
         "0.044193",
         null,
         null,
         null,
         null,
         "tos-maliva-avt-0068/7333642699012538374",
         "['https://p16-sign-va.tiktokcdn.com/tos-maliva-avt-0068/7333642699012538374~tplv-tiktokx-cropcenter:100:100.jpg?dr=14579&refresh_token=c0df2b81&x-expires=1742616000&x-signature=A%2Fp15HjPZoPKZ2tTgNRJvgkSqhA%3D&t=4d5b0474&ps=13740610&shp=30310797&shcp=ff37627b&idc=maliva', 'https://p16-sign-va.tiktokcdn.com/tos-maliva-avt-0068/7333642699012538374~tplv-tiktokx-cropcenter:100:100.jpeg?dr=14579&refresh_token=12297d3b&x-expires=1742616000&x-signature=L7HQsRk6gRUXhLfSE7KMCjA3OrQ%3D&t=4d5b0474&ps=13740610&shp=30310797&shcp=ff37627b&idc=maliva']",
         null,
         null,
         null,
         null,
         null,
         null,
         "",
         "",
         null,
         null,
         null,
         null,
         null,
         null,
         null,
         "Geli Picazo",
         null,
         "4",
         null,
         null,
         "MS4wLjABAAAAdNH7_pJgZoCjzmgdxfdyF-LNGxw5PMwupC1Er6HlueqahJJULlW0HpwKSZ22zV_S",
         null,
         null,
         "6803571106466923526",
         "gelipikzo08",
         null,
         null,
         null,
         null,
         null,
         null,
         null,
         null,
         null
        ]
       ],
       "shape": {
        "columns": 82,
        "rows": 5
       }
      },
      "text/html": [
       "<div>\n",
       "<style scoped>\n",
       "    .dataframe tbody tr th:only-of-type {\n",
       "        vertical-align: middle;\n",
       "    }\n",
       "\n",
       "    .dataframe tbody tr th {\n",
       "        vertical-align: top;\n",
       "    }\n",
       "\n",
       "    .dataframe thead th {\n",
       "        text-align: right;\n",
       "    }\n",
       "</style>\n",
       "<table border=\"1\" class=\"dataframe\">\n",
       "  <thead>\n",
       "    <tr style=\"text-align: right;\">\n",
       "      <th></th>\n",
       "      <th>nav_index</th>\n",
       "      <th>item_id</th>\n",
       "      <th>timestamp_collected</th>\n",
       "      <th>source_platform</th>\n",
       "      <th>source_platform_url</th>\n",
       "      <th>source_url</th>\n",
       "      <th>user_agent</th>\n",
       "      <th>id</th>\n",
       "      <th>author_pin</th>\n",
       "      <th>aweme_id</th>\n",
       "      <th>...</th>\n",
       "      <th>user.unique_id</th>\n",
       "      <th>user.user_profile_guide</th>\n",
       "      <th>user.user_tags</th>\n",
       "      <th>user.white_cover_url</th>\n",
       "      <th>reply_to_nickname</th>\n",
       "      <th>reply_to_userid</th>\n",
       "      <th>reply_to_username</th>\n",
       "      <th>qrec_virtual_enable</th>\n",
       "      <th>label_text</th>\n",
       "      <th>label_type</th>\n",
       "    </tr>\n",
       "  </thead>\n",
       "  <tbody>\n",
       "    <tr>\n",
       "      <th>0</th>\n",
       "      <td>1:5:NaN</td>\n",
       "      <td>7481415843121971974</td>\n",
       "      <td>1742532927655</td>\n",
       "      <td>tiktok-comments</td>\n",
       "      <td>https://www.tiktok.com/@aleinvita/video/748133...</td>\n",
       "      <td>https://www.tiktok.com/api/comment/list/?WebId...</td>\n",
       "      <td>Mozilla/5.0 (Windows NT 10.0; Win64; x64; rv:1...</td>\n",
       "      <td>78</td>\n",
       "      <td>False</td>\n",
       "      <td>7481330665653325111</td>\n",
       "      <td>...</td>\n",
       "      <td>oli785l</td>\n",
       "      <td>None</td>\n",
       "      <td>None</td>\n",
       "      <td>None</td>\n",
       "      <td>NaN</td>\n",
       "      <td>NaN</td>\n",
       "      <td>NaN</td>\n",
       "      <td>NaN</td>\n",
       "      <td>NaN</td>\n",
       "      <td>NaN</td>\n",
       "    </tr>\n",
       "    <tr>\n",
       "      <th>1</th>\n",
       "      <td>1:5:NaN</td>\n",
       "      <td>7481392089537839878</td>\n",
       "      <td>1742532927655</td>\n",
       "      <td>tiktok-comments</td>\n",
       "      <td>https://www.tiktok.com/@aleinvita/video/748133...</td>\n",
       "      <td>https://www.tiktok.com/api/comment/list/?WebId...</td>\n",
       "      <td>Mozilla/5.0 (Windows NT 10.0; Win64; x64; rv:1...</td>\n",
       "      <td>79</td>\n",
       "      <td>False</td>\n",
       "      <td>7481330665653325111</td>\n",
       "      <td>...</td>\n",
       "      <td>jessica_cruzc</td>\n",
       "      <td>None</td>\n",
       "      <td>None</td>\n",
       "      <td>None</td>\n",
       "      <td>NaN</td>\n",
       "      <td>NaN</td>\n",
       "      <td>NaN</td>\n",
       "      <td>NaN</td>\n",
       "      <td>NaN</td>\n",
       "      <td>NaN</td>\n",
       "    </tr>\n",
       "    <tr>\n",
       "      <th>2</th>\n",
       "      <td>1:5:NaN</td>\n",
       "      <td>7481414777174475525</td>\n",
       "      <td>1742532927656</td>\n",
       "      <td>tiktok-comments</td>\n",
       "      <td>https://www.tiktok.com/@aleinvita/video/748133...</td>\n",
       "      <td>https://www.tiktok.com/api/comment/list/?WebId...</td>\n",
       "      <td>Mozilla/5.0 (Windows NT 10.0; Win64; x64; rv:1...</td>\n",
       "      <td>80</td>\n",
       "      <td>False</td>\n",
       "      <td>7481330665653325111</td>\n",
       "      <td>...</td>\n",
       "      <td>yutzileyes</td>\n",
       "      <td>None</td>\n",
       "      <td>None</td>\n",
       "      <td>None</td>\n",
       "      <td>NaN</td>\n",
       "      <td>NaN</td>\n",
       "      <td>NaN</td>\n",
       "      <td>NaN</td>\n",
       "      <td>NaN</td>\n",
       "      <td>NaN</td>\n",
       "    </tr>\n",
       "    <tr>\n",
       "      <th>3</th>\n",
       "      <td>1:5:NaN</td>\n",
       "      <td>7481399224468325125</td>\n",
       "      <td>1742532927656</td>\n",
       "      <td>tiktok-comments</td>\n",
       "      <td>https://www.tiktok.com/@aleinvita/video/748133...</td>\n",
       "      <td>https://www.tiktok.com/api/comment/list/?WebId...</td>\n",
       "      <td>Mozilla/5.0 (Windows NT 10.0; Win64; x64; rv:1...</td>\n",
       "      <td>81</td>\n",
       "      <td>False</td>\n",
       "      <td>7481330665653325111</td>\n",
       "      <td>...</td>\n",
       "      <td>karolpalacios523</td>\n",
       "      <td>None</td>\n",
       "      <td>None</td>\n",
       "      <td>None</td>\n",
       "      <td>NaN</td>\n",
       "      <td>NaN</td>\n",
       "      <td>NaN</td>\n",
       "      <td>NaN</td>\n",
       "      <td>NaN</td>\n",
       "      <td>NaN</td>\n",
       "    </tr>\n",
       "    <tr>\n",
       "      <th>4</th>\n",
       "      <td>1:5:NaN</td>\n",
       "      <td>7481487802417333047</td>\n",
       "      <td>1742532927656</td>\n",
       "      <td>tiktok-comments</td>\n",
       "      <td>https://www.tiktok.com/@aleinvita/video/748133...</td>\n",
       "      <td>https://www.tiktok.com/api/comment/list/?WebId...</td>\n",
       "      <td>Mozilla/5.0 (Windows NT 10.0; Win64; x64; rv:1...</td>\n",
       "      <td>82</td>\n",
       "      <td>False</td>\n",
       "      <td>7481330665653325111</td>\n",
       "      <td>...</td>\n",
       "      <td>gelipikzo08</td>\n",
       "      <td>None</td>\n",
       "      <td>None</td>\n",
       "      <td>None</td>\n",
       "      <td>NaN</td>\n",
       "      <td>NaN</td>\n",
       "      <td>NaN</td>\n",
       "      <td>NaN</td>\n",
       "      <td>NaN</td>\n",
       "      <td>NaN</td>\n",
       "    </tr>\n",
       "  </tbody>\n",
       "</table>\n",
       "<p>5 rows × 82 columns</p>\n",
       "</div>"
      ],
      "text/plain": [
       "  nav_index              item_id  timestamp_collected  source_platform  \\\n",
       "0   1:5:NaN  7481415843121971974        1742532927655  tiktok-comments   \n",
       "1   1:5:NaN  7481392089537839878        1742532927655  tiktok-comments   \n",
       "2   1:5:NaN  7481414777174475525        1742532927656  tiktok-comments   \n",
       "3   1:5:NaN  7481399224468325125        1742532927656  tiktok-comments   \n",
       "4   1:5:NaN  7481487802417333047        1742532927656  tiktok-comments   \n",
       "\n",
       "                                 source_platform_url  \\\n",
       "0  https://www.tiktok.com/@aleinvita/video/748133...   \n",
       "1  https://www.tiktok.com/@aleinvita/video/748133...   \n",
       "2  https://www.tiktok.com/@aleinvita/video/748133...   \n",
       "3  https://www.tiktok.com/@aleinvita/video/748133...   \n",
       "4  https://www.tiktok.com/@aleinvita/video/748133...   \n",
       "\n",
       "                                          source_url  \\\n",
       "0  https://www.tiktok.com/api/comment/list/?WebId...   \n",
       "1  https://www.tiktok.com/api/comment/list/?WebId...   \n",
       "2  https://www.tiktok.com/api/comment/list/?WebId...   \n",
       "3  https://www.tiktok.com/api/comment/list/?WebId...   \n",
       "4  https://www.tiktok.com/api/comment/list/?WebId...   \n",
       "\n",
       "                                          user_agent  id author_pin  \\\n",
       "0  Mozilla/5.0 (Windows NT 10.0; Win64; x64; rv:1...  78      False   \n",
       "1  Mozilla/5.0 (Windows NT 10.0; Win64; x64; rv:1...  79      False   \n",
       "2  Mozilla/5.0 (Windows NT 10.0; Win64; x64; rv:1...  80      False   \n",
       "3  Mozilla/5.0 (Windows NT 10.0; Win64; x64; rv:1...  81      False   \n",
       "4  Mozilla/5.0 (Windows NT 10.0; Win64; x64; rv:1...  82      False   \n",
       "\n",
       "              aweme_id  ...    user.unique_id  user.user_profile_guide  \\\n",
       "0  7481330665653325111  ...           oli785l                     None   \n",
       "1  7481330665653325111  ...     jessica_cruzc                     None   \n",
       "2  7481330665653325111  ...        yutzileyes                     None   \n",
       "3  7481330665653325111  ...  karolpalacios523                     None   \n",
       "4  7481330665653325111  ...       gelipikzo08                     None   \n",
       "\n",
       "  user.user_tags user.white_cover_url  reply_to_nickname  reply_to_userid  \\\n",
       "0           None                 None                NaN              NaN   \n",
       "1           None                 None                NaN              NaN   \n",
       "2           None                 None                NaN              NaN   \n",
       "3           None                 None                NaN              NaN   \n",
       "4           None                 None                NaN              NaN   \n",
       "\n",
       "  reply_to_username qrec_virtual_enable  label_text  label_type  \n",
       "0               NaN                 NaN         NaN         NaN  \n",
       "1               NaN                 NaN         NaN         NaN  \n",
       "2               NaN                 NaN         NaN         NaN  \n",
       "3               NaN                 NaN         NaN         NaN  \n",
       "4               NaN                 NaN         NaN         NaN  \n",
       "\n",
       "[5 rows x 82 columns]"
      ]
     },
     "execution_count": 7,
     "metadata": {},
     "output_type": "execute_result"
    }
   ],
   "source": [
    "# Expandir la columna 'data' en un DataFrame\n",
    "data_expanded = pd.json_normalize(df_tik_tok['data'])\n",
    "\n",
    "# Unir el DataFrame expandido con el original\n",
    "df_tik_tok_expanded = pd.concat([df_tik_tok.drop(columns=['data']), data_expanded], axis=1)\n",
    "\n",
    "# Mostrar las primeras filas del DataFrame expandido\n",
    "df_tik_tok_expanded.head()"
   ]
  },
  {
   "cell_type": "code",
   "execution_count": 8,
   "metadata": {},
   "outputs": [
    {
     "name": "stdout",
     "output_type": "stream",
     "text": [
      "<class 'pandas.core.frame.DataFrame'>\n",
      "RangeIndex: 1770 entries, 0 to 1769\n",
      "Data columns (total 82 columns):\n",
      " #   Column                               Non-Null Count  Dtype  \n",
      "---  ------                               --------------  -----  \n",
      " 0   nav_index                            1770 non-null   object \n",
      " 1   item_id                              1770 non-null   object \n",
      " 2   timestamp_collected                  1770 non-null   int64  \n",
      " 3   source_platform                      1770 non-null   object \n",
      " 4   source_platform_url                  1770 non-null   object \n",
      " 5   source_url                           1770 non-null   object \n",
      " 6   user_agent                           1770 non-null   object \n",
      " 7   id                                   1770 non-null   int64  \n",
      " 8   author_pin                           1636 non-null   object \n",
      " 9   aweme_id                             1770 non-null   object \n",
      " 10  cid                                  1770 non-null   object \n",
      " 11  collect_stat                         1770 non-null   int64  \n",
      " 12  comment_language                     1770 non-null   object \n",
      " 13  comment_post_item_ids                0 non-null      object \n",
      " 14  create_time                          1770 non-null   int64  \n",
      " 15  digg_count                           1770 non-null   int64  \n",
      " 16  forbid_reply_with_video              1636 non-null   object \n",
      " 17  image_list                           0 non-null      object \n",
      " 18  is_author_digged                     1770 non-null   bool   \n",
      " 19  is_comment_translatable              1770 non-null   bool   \n",
      " 20  label_list                           328 non-null    object \n",
      " 21  no_show                              1770 non-null   bool   \n",
      " 22  reply_comment                        226 non-null    object \n",
      " 23  reply_comment_total                  1636 non-null   float64\n",
      " 24  reply_id                             1770 non-null   object \n",
      " 25  reply_to_reply_id                    1770 non-null   object \n",
      " 26  sort_tags                            1636 non-null   object \n",
      " 27  status                               1770 non-null   int64  \n",
      " 28  stick_position                       1770 non-null   int64  \n",
      " 29  text                                 1770 non-null   object \n",
      " 30  text_extra                           1770 non-null   object \n",
      " 31  trans_btn_style                      1770 non-null   int64  \n",
      " 32  user_buried                          1770 non-null   bool   \n",
      " 33  user_digged                          1770 non-null   int64  \n",
      " 34  id                                   1770 non-null   object \n",
      " 35  share_info.acl.code                  1770 non-null   int64  \n",
      " 36  share_info.acl.extra                 1770 non-null   object \n",
      " 37  share_info.desc                      1770 non-null   object \n",
      " 38  share_info.title                     1770 non-null   object \n",
      " 39  share_info.url                       1770 non-null   object \n",
      " 40  sort_extra_score.reply_score         1478 non-null   float64\n",
      " 41  sort_extra_score.show_more_score     1478 non-null   float64\n",
      " 42  user.account_labels                  0 non-null      object \n",
      " 43  user.ad_cover_url                    0 non-null      object \n",
      " 44  user.advance_feature_item_order      0 non-null      object \n",
      " 45  user.advanced_feature_info           0 non-null      object \n",
      " 46  user.avatar_thumb.uri                1770 non-null   object \n",
      " 47  user.avatar_thumb.url_list           1770 non-null   object \n",
      " 48  user.avatar_thumb.url_prefix         0 non-null      object \n",
      " 49  user.bold_fields                     0 non-null      object \n",
      " 50  user.can_message_follow_status_list  0 non-null      object \n",
      " 51  user.can_set_geofencing              0 non-null      object \n",
      " 52  user.cha_list                        0 non-null      object \n",
      " 53  user.cover_url                       0 non-null      object \n",
      " 54  user.custom_verify                   1770 non-null   object \n",
      " 55  user.enterprise_verify_reason        1770 non-null   object \n",
      " 56  user.events                          0 non-null      object \n",
      " 57  user.followers_detail                0 non-null      object \n",
      " 58  user.geofencing                      0 non-null      object \n",
      " 59  user.homepage_bottom_toast           0 non-null      object \n",
      " 60  user.item_list                       0 non-null      object \n",
      " 61  user.mutual_relation_avatars         0 non-null      object \n",
      " 62  user.need_points                     0 non-null      object \n",
      " 63  user.nickname                        1770 non-null   object \n",
      " 64  user.platform_sync_info              0 non-null      object \n",
      " 65  user.predicted_age_group             839 non-null    object \n",
      " 66  user.relative_users                  0 non-null      object \n",
      " 67  user.search_highlight                0 non-null      object \n",
      " 68  user.sec_uid                         1770 non-null   object \n",
      " 69  user.shield_edit_field_info          0 non-null      object \n",
      " 70  user.type_label                      0 non-null      object \n",
      " 71  user.uid                             1770 non-null   object \n",
      " 72  user.unique_id                       1770 non-null   object \n",
      " 73  user.user_profile_guide              0 non-null      object \n",
      " 74  user.user_tags                       0 non-null      object \n",
      " 75  user.white_cover_url                 0 non-null      object \n",
      " 76  reply_to_nickname                    74 non-null     object \n",
      " 77  reply_to_userid                      74 non-null     object \n",
      " 78  reply_to_username                    74 non-null     object \n",
      " 79  qrec_virtual_enable                  2 non-null      object \n",
      " 80  label_text                           11 non-null     object \n",
      " 81  label_type                           11 non-null     float64\n",
      "dtypes: bool(4), float64(4), int64(10), object(64)\n",
      "memory usage: 1.1+ MB\n"
     ]
    }
   ],
   "source": [
    "df_tik_tok_expanded.info()"
   ]
  },
  {
   "cell_type": "code",
   "execution_count": 9,
   "metadata": {},
   "outputs": [
    {
     "data": {
      "text/plain": [
       "nav_index                 0\n",
       "item_id                   0\n",
       "timestamp_collected       0\n",
       "source_platform           0\n",
       "source_platform_url       0\n",
       "                       ... \n",
       "reply_to_userid        1696\n",
       "reply_to_username      1696\n",
       "qrec_virtual_enable    1768\n",
       "label_text             1759\n",
       "label_type             1759\n",
       "Length: 82, dtype: int64"
      ]
     },
     "execution_count": 9,
     "metadata": {},
     "output_type": "execute_result"
    }
   ],
   "source": [
    "df_tik_tok_expanded.isnull().sum()"
   ]
  },
  {
   "cell_type": "markdown",
   "metadata": {},
   "source": [
    "pd.json_normalize() transforma los diccionarios de la columna data en columnas separadas.\n",
    "\n",
    "pd.concat() combina el DataFrame original (sin la columna data) con el expandido.\n"
   ]
  },
  {
   "cell_type": "markdown",
   "metadata": {},
   "source": [
    "## Paso 3: Seleccionar Columnas Relevantes\n",
    "No todas las columnas son necesarias para el análisis de sentimiento y la clasificación en las 9Ps. Seleccionaremos solo las más relevantes.\n",
    "\n",
    "Elige columnas clave como el ID del video, el texto del comentario, el autor, la fecha, etc."
   ]
  },
  {
   "cell_type": "code",
   "execution_count": 10,
   "metadata": {},
   "outputs": [
    {
     "name": "stdout",
     "output_type": "stream",
     "text": [
      "Datos seleccionados de TikTok:\n"
     ]
    },
    {
     "data": {
      "application/vnd.microsoft.datawrangler.viewer.v0+json": {
       "columns": [
        {
         "name": "index",
         "rawType": "int64",
         "type": "integer"
        },
        {
         "name": "video_id",
         "rawType": "object",
         "type": "string"
        },
        {
         "name": "comment_id",
         "rawType": "object",
         "type": "string"
        },
        {
         "name": "comment_text",
         "rawType": "object",
         "type": "string"
        },
        {
         "name": "user",
         "rawType": "object",
         "type": "string"
        },
        {
         "name": "comment_date",
         "rawType": "int64",
         "type": "integer"
        },
        {
         "name": "comment_likes",
         "rawType": "int64",
         "type": "integer"
        }
       ],
       "conversionMethod": "pd.DataFrame",
       "ref": "7d9b5276-2619-4f8f-a2a4-0d42739a1701",
       "rows": [
        [
         "0",
         "7481415843121971974",
         "7481415843121971974",
         "NOOOOO HAY Q CONSUMIR STARBUCKS",
         "Martha Olivia Mar92",
         "1741902890",
         "1539"
        ],
        [
         "1",
         "7481392089537839878",
         "7481392089537839878",
         "visiten a cafeterías locales 🥰 Starbucks y nescafe lucran con el café mexicano",
         "Jessica cruz",
         "1741897367",
         "3447"
        ],
        [
         "2",
         "7481414777174475525",
         "7481414777174475525",
         "ahorita no andamos apoyando a esa empresa",
         "Yutzil Eyes",
         "1741902655",
         "1768"
        ],
        [
         "3",
         "7481399224468325125",
         "7481399224468325125",
         "alguien que me confirme que sea verdad la promoción",
         "Karol Pa",
         "1741899031",
         "21"
        ],
        [
         "4",
         "7481487802417333047",
         "7481487802417333047",
         "Apoyen a Italian Coffe es una empresa 100% Poblana de verdad, apoyemos a nuestros hermanos Mexicanos",
         "Geli Picazo",
         "1741919645",
         "750"
        ]
       ],
       "shape": {
        "columns": 6,
        "rows": 5
       }
      },
      "text/html": [
       "<div>\n",
       "<style scoped>\n",
       "    .dataframe tbody tr th:only-of-type {\n",
       "        vertical-align: middle;\n",
       "    }\n",
       "\n",
       "    .dataframe tbody tr th {\n",
       "        vertical-align: top;\n",
       "    }\n",
       "\n",
       "    .dataframe thead th {\n",
       "        text-align: right;\n",
       "    }\n",
       "</style>\n",
       "<table border=\"1\" class=\"dataframe\">\n",
       "  <thead>\n",
       "    <tr style=\"text-align: right;\">\n",
       "      <th></th>\n",
       "      <th>video_id</th>\n",
       "      <th>comment_id</th>\n",
       "      <th>comment_text</th>\n",
       "      <th>user</th>\n",
       "      <th>comment_date</th>\n",
       "      <th>comment_likes</th>\n",
       "    </tr>\n",
       "  </thead>\n",
       "  <tbody>\n",
       "    <tr>\n",
       "      <th>0</th>\n",
       "      <td>7481415843121971974</td>\n",
       "      <td>7481415843121971974</td>\n",
       "      <td>NOOOOO HAY Q CONSUMIR STARBUCKS</td>\n",
       "      <td>Martha Olivia Mar92</td>\n",
       "      <td>1741902890</td>\n",
       "      <td>1539</td>\n",
       "    </tr>\n",
       "    <tr>\n",
       "      <th>1</th>\n",
       "      <td>7481392089537839878</td>\n",
       "      <td>7481392089537839878</td>\n",
       "      <td>visiten a cafeterías locales 🥰 Starbucks y nes...</td>\n",
       "      <td>Jessica cruz</td>\n",
       "      <td>1741897367</td>\n",
       "      <td>3447</td>\n",
       "    </tr>\n",
       "    <tr>\n",
       "      <th>2</th>\n",
       "      <td>7481414777174475525</td>\n",
       "      <td>7481414777174475525</td>\n",
       "      <td>ahorita no andamos apoyando a esa empresa</td>\n",
       "      <td>Yutzil Eyes</td>\n",
       "      <td>1741902655</td>\n",
       "      <td>1768</td>\n",
       "    </tr>\n",
       "    <tr>\n",
       "      <th>3</th>\n",
       "      <td>7481399224468325125</td>\n",
       "      <td>7481399224468325125</td>\n",
       "      <td>alguien que me confirme que sea verdad la prom...</td>\n",
       "      <td>Karol Pa</td>\n",
       "      <td>1741899031</td>\n",
       "      <td>21</td>\n",
       "    </tr>\n",
       "    <tr>\n",
       "      <th>4</th>\n",
       "      <td>7481487802417333047</td>\n",
       "      <td>7481487802417333047</td>\n",
       "      <td>Apoyen a Italian Coffe es una empresa 100% Pob...</td>\n",
       "      <td>Geli Picazo</td>\n",
       "      <td>1741919645</td>\n",
       "      <td>750</td>\n",
       "    </tr>\n",
       "  </tbody>\n",
       "</table>\n",
       "</div>"
      ],
      "text/plain": [
       "              video_id           comment_id  \\\n",
       "0  7481415843121971974  7481415843121971974   \n",
       "1  7481392089537839878  7481392089537839878   \n",
       "2  7481414777174475525  7481414777174475525   \n",
       "3  7481399224468325125  7481399224468325125   \n",
       "4  7481487802417333047  7481487802417333047   \n",
       "\n",
       "                                        comment_text                 user  \\\n",
       "0                    NOOOOO HAY Q CONSUMIR STARBUCKS  Martha Olivia Mar92   \n",
       "1  visiten a cafeterías locales 🥰 Starbucks y nes...         Jessica cruz   \n",
       "2          ahorita no andamos apoyando a esa empresa          Yutzil Eyes   \n",
       "3  alguien que me confirme que sea verdad la prom...             Karol Pa   \n",
       "4  Apoyen a Italian Coffe es una empresa 100% Pob...          Geli Picazo   \n",
       "\n",
       "   comment_date  comment_likes  \n",
       "0    1741902890           1539  \n",
       "1    1741897367           3447  \n",
       "2    1741902655           1768  \n",
       "3    1741899031             21  \n",
       "4    1741919645            750  "
      ]
     },
     "execution_count": 10,
     "metadata": {},
     "output_type": "execute_result"
    }
   ],
   "source": [
    "# Seleccionar columnas relevantes\n",
    "columns_to_keep = [\n",
    "    'item_id',        # ID del video\n",
    "    'cid',            # ID del comentario\n",
    "    'text',           # Texto del comentario\n",
    "    'user.nickname',  # Nombre del autor\n",
    "    'create_time',    # Fecha de creación del comentario\n",
    "    'digg_count'      # Likes del comentario\n",
    "]\n",
    "\n",
    "# Crear un nuevo DataFrame con las columnas seleccionadas\n",
    "df_tik_tok_selected = df_tik_tok_expanded[columns_to_keep].copy()\n",
    "\n",
    "# Renombrar columnas para mayor claridad\n",
    "df_tik_tok_selected.rename(columns={\n",
    "    'item_id': 'video_id',\n",
    "    'cid': 'comment_id',\n",
    "    'text': 'comment_text',\n",
    "    'user.nickname': 'user',\n",
    "    'create_time': 'comment_date',\n",
    "    'digg_count': 'comment_likes'\n",
    "}, inplace=True)\n",
    "\n",
    "# Mostrar las primeras filas para verificar\n",
    "print(\"Datos seleccionados de TikTok:\")\n",
    "df_tik_tok_selected.head()"
   ]
  },
  {
   "cell_type": "code",
   "execution_count": 11,
   "metadata": {},
   "outputs": [
    {
     "name": "stdout",
     "output_type": "stream",
     "text": [
      "<class 'pandas.core.frame.DataFrame'>\n",
      "RangeIndex: 1770 entries, 0 to 1769\n",
      "Data columns (total 6 columns):\n",
      " #   Column         Non-Null Count  Dtype \n",
      "---  ------         --------------  ----- \n",
      " 0   video_id       1770 non-null   object\n",
      " 1   comment_id     1770 non-null   object\n",
      " 2   comment_text   1770 non-null   object\n",
      " 3   user           1770 non-null   object\n",
      " 4   comment_date   1770 non-null   int64 \n",
      " 5   comment_likes  1770 non-null   int64 \n",
      "dtypes: int64(2), object(4)\n",
      "memory usage: 83.1+ KB\n"
     ]
    }
   ],
   "source": [
    "df_tik_tok_selected.info()"
   ]
  },
  {
   "cell_type": "markdown",
   "metadata": {},
   "source": [
    "## Paso 4: Limpieza de Datos\n",
    "\n",
    "El objetivo de esta etapa es garantizar la calidad de los datos eliminando inconsistencias y preparando el texto de los comentarios para el análisis de sentimiento posterior. Realizaremos las siguientes acciones:\n",
    "\n",
    "1. *Eliminar duplicados*: Nos aseguraremos de que no haya comentarios repetidos en el conjunto de datos.\n",
    "\n",
    "2. *Manejar valores nulos*: Verificaremos que no existan valores nulos en las columnas clave, aunque previamente hemos confirmado que no los hay.\n",
    "\n",
    "3. *Normalizar el texto*: Estandarizaremos el texto convirtiéndolo a minúsculas y eliminando caracteres no deseados (como emojis o símbolos) para facilitar el análisis."
   ]
  },
  {
   "cell_type": "code",
   "execution_count": 12,
   "metadata": {},
   "outputs": [
    {
     "name": "stdout",
     "output_type": "stream",
     "text": [
      "Valores nulos en las columnas clave:\n"
     ]
    },
    {
     "data": {
      "text/plain": [
       "comment_text     0\n",
       "user             0\n",
       "comment_date     0\n",
       "comment_likes    0\n",
       "dtype: int64"
      ]
     },
     "metadata": {},
     "output_type": "display_data"
    }
   ],
   "source": [
    "# Verificar y eliminar duplicados basados en 'comment_id' y 'comment_text'\n",
    "df_tik_tok_clean = df_tik_tok_selected.drop_duplicates(subset=['comment_id', 'comment_text'])\n",
    "\n",
    "# Confirmar que no hay valores nulos en las columnas clave\n",
    "print(\"Valores nulos en las columnas clave:\")\n",
    "display(df_tik_tok_clean[['comment_text', 'user', 'comment_date', 'comment_likes']].isnull().sum())"
   ]
  },
  {
   "cell_type": "code",
   "execution_count": 13,
   "metadata": {},
   "outputs": [
    {
     "name": "stderr",
     "output_type": "stream",
     "text": [
      "/var/folders/ys/2psfql1156jf72wjlnnt4vvc0000gn/T/ipykernel_35329/2427768721.py:2: SettingWithCopyWarning: \n",
      "A value is trying to be set on a copy of a slice from a DataFrame.\n",
      "Try using .loc[row_indexer,col_indexer] = value instead\n",
      "\n",
      "See the caveats in the documentation: https://pandas.pydata.org/pandas-docs/stable/user_guide/indexing.html#returning-a-view-versus-a-copy\n",
      "  df_tik_tok_clean['comment_text'] = df_tik_tok_clean['comment_text'].str.lower()\n",
      "/var/folders/ys/2psfql1156jf72wjlnnt4vvc0000gn/T/ipykernel_35329/2427768721.py:3: SettingWithCopyWarning: \n",
      "A value is trying to be set on a copy of a slice from a DataFrame.\n",
      "Try using .loc[row_indexer,col_indexer] = value instead\n",
      "\n",
      "See the caveats in the documentation: https://pandas.pydata.org/pandas-docs/stable/user_guide/indexing.html#returning-a-view-versus-a-copy\n",
      "  df_tik_tok_clean['comment_text'] = df_tik_tok_clean['comment_text'].str.replace(r'[^a-zA-ZáéíóúñüàèìòùâêîôûäëïöüçÇ ]', '', regex=True)\n"
     ]
    }
   ],
   "source": [
    "# Normalizar el texto: convertir a minúsculas y eliminar caracteres no alfabéticos\n",
    "df_tik_tok_clean['comment_text'] = df_tik_tok_clean['comment_text'].str.lower()\n",
    "df_tik_tok_clean['comment_text'] = df_tik_tok_clean['comment_text'].str.replace(r'[^a-zA-ZáéíóúñüàèìòùâêîôûäëïöüçÇ ]', '', regex=True)"
   ]
  },
  {
   "cell_type": "markdown",
   "metadata": {},
   "source": [
    "- Convertimos todo el texto de la columna comment_text a minúsculas con str.lower() para uniformarlo (ejemplo: \"Starbucks\" y \"starbucks\" se tratarán como lo mismo).\n",
    "\n",
    "- Eliminamos caracteres no alfabéticos (como emojis, números o símbolos) con una expresión regular ([^a-zA-ZáéíóúñüàèìòùâêîôûäëïöüçÇ ]). Esto conserva las letras (incluyendo acentos y \"ñ\" para el español) y los espacios, dejando el texto limpio y listo para análisis."
   ]
  },
  {
   "cell_type": "code",
   "execution_count": 14,
   "metadata": {},
   "outputs": [
    {
     "name": "stdout",
     "output_type": "stream",
     "text": [
      "Número de comentarios después de la limpieza: 1650\n"
     ]
    }
   ],
   "source": [
    "# Mostrar el número de filas después de la limpieza\n",
    "print(f\"Número de comentarios después de la limpieza: {len(df_tik_tok_clean)}\")"
   ]
  },
  {
   "cell_type": "code",
   "execution_count": 15,
   "metadata": {},
   "outputs": [
    {
     "data": {
      "application/vnd.microsoft.datawrangler.viewer.v0+json": {
       "columns": [
        {
         "name": "index",
         "rawType": "int64",
         "type": "integer"
        },
        {
         "name": "comment_text",
         "rawType": "object",
         "type": "string"
        }
       ],
       "conversionMethod": "pd.DataFrame",
       "ref": "077fffa6-f55e-409a-a05f-6f4181c04c0e",
       "rows": [
        [
         "0",
         "nooooo hay q consumir starbucks"
        ],
        [
         "1",
         "visiten a cafeterías locales  starbucks y nescafe lucran con el café mexicano"
        ],
        [
         "2",
         "ahorita no andamos apoyando a esa empresa"
        ],
        [
         "3",
         "alguien que me confirme que sea verdad la promoción"
        ],
        [
         "4",
         "apoyen a italian coffe es una empresa  poblana de verdad apoyemos a nuestros hermanos mexicanos"
        ]
       ],
       "shape": {
        "columns": 1,
        "rows": 5
       }
      },
      "text/html": [
       "<div>\n",
       "<style scoped>\n",
       "    .dataframe tbody tr th:only-of-type {\n",
       "        vertical-align: middle;\n",
       "    }\n",
       "\n",
       "    .dataframe tbody tr th {\n",
       "        vertical-align: top;\n",
       "    }\n",
       "\n",
       "    .dataframe thead th {\n",
       "        text-align: right;\n",
       "    }\n",
       "</style>\n",
       "<table border=\"1\" class=\"dataframe\">\n",
       "  <thead>\n",
       "    <tr style=\"text-align: right;\">\n",
       "      <th></th>\n",
       "      <th>comment_text</th>\n",
       "    </tr>\n",
       "  </thead>\n",
       "  <tbody>\n",
       "    <tr>\n",
       "      <th>0</th>\n",
       "      <td>nooooo hay q consumir starbucks</td>\n",
       "    </tr>\n",
       "    <tr>\n",
       "      <th>1</th>\n",
       "      <td>visiten a cafeterías locales  starbucks y nesc...</td>\n",
       "    </tr>\n",
       "    <tr>\n",
       "      <th>2</th>\n",
       "      <td>ahorita no andamos apoyando a esa empresa</td>\n",
       "    </tr>\n",
       "    <tr>\n",
       "      <th>3</th>\n",
       "      <td>alguien que me confirme que sea verdad la prom...</td>\n",
       "    </tr>\n",
       "    <tr>\n",
       "      <th>4</th>\n",
       "      <td>apoyen a italian coffe es una empresa  poblana...</td>\n",
       "    </tr>\n",
       "  </tbody>\n",
       "</table>\n",
       "</div>"
      ],
      "text/plain": [
       "                                        comment_text\n",
       "0                    nooooo hay q consumir starbucks\n",
       "1  visiten a cafeterías locales  starbucks y nesc...\n",
       "2          ahorita no andamos apoyando a esa empresa\n",
       "3  alguien que me confirme que sea verdad la prom...\n",
       "4  apoyen a italian coffe es una empresa  poblana..."
      ]
     },
     "execution_count": 15,
     "metadata": {},
     "output_type": "execute_result"
    }
   ],
   "source": [
    "#Verificar la limpieza de los datos\n",
    "df_tik_tok_clean[['comment_text']].head()"
   ]
  },
  {
   "cell_type": "markdown",
   "metadata": {},
   "source": [
    "## Paso 5: Análisis Exploratorio de Datos (EDA)\n",
    "\n",
    "1. Distribución de la longitud de los comentarios: Para ver si los comentarios son cortos o largos.\n",
    "\n",
    "2. Frecuencia de palabras clave relacionadas con las 9Ps: Para identificar qué aspectos de las 9Ps se mencionan más.\n",
    "\n",
    "3. Evolución temporal de los comentarios: Para observar cómo varía la cantidad de comentarios a lo largo del tiempo."
   ]
  },
  {
   "cell_type": "code",
   "execution_count": 16,
   "metadata": {},
   "outputs": [
    {
     "name": "stderr",
     "output_type": "stream",
     "text": [
      "/var/folders/ys/2psfql1156jf72wjlnnt4vvc0000gn/T/ipykernel_35329/96070496.py:2: SettingWithCopyWarning: \n",
      "A value is trying to be set on a copy of a slice from a DataFrame.\n",
      "Try using .loc[row_indexer,col_indexer] = value instead\n",
      "\n",
      "See the caveats in the documentation: https://pandas.pydata.org/pandas-docs/stable/user_guide/indexing.html#returning-a-view-versus-a-copy\n",
      "  df_tik_tok_clean['comment_length'] = df_tik_tok_clean['comment_text'].str.split().apply(len)\n"
     ]
    }
   ],
   "source": [
    "# Calcular la longitud de los comentarios (número de palabras)\n",
    "df_tik_tok_clean['comment_length'] = df_tik_tok_clean['comment_text'].str.split().apply(len)"
   ]
  },
  {
   "cell_type": "code",
   "execution_count": 17,
   "metadata": {},
   "outputs": [
    {
     "data": {
      "image/png": "[encoded data removed]",
      "text/plain": [
       "<Figure size 1000x600 with 1 Axes>"
      ]
     },
     "metadata": {},
     "output_type": "display_data"
    }
   ],
   "source": [
    "plt.figure(figsize=(10, 6))\n",
    "sns.histplot(df_tik_tok_clean['comment_length'], bins=30, kde=True, color='#636EFA')\n",
    "plt.title('Distribución de la Longitud de los Comentarios en TikTok')\n",
    "plt.xlabel('Número de Palabras')\n",
    "plt.ylabel('Frecuencia')\n",
    "plt.show()"
   ]
  },
  {
   "cell_type": "code",
   "execution_count": 18,
   "metadata": {},
   "outputs": [
    {
     "data": {
      "application/vnd.plotly.v1+json": {
       "config": {
        "plotlyServerURL": "https://plot.ly"
       },
       "data": [
        {
         "hovertemplate": "Palabras Clave=%{x}<br>Frecuencia=%{marker.color}<extra></extra>",
         "legendgroup": "",
         "marker": {
          "color": {
           "bdata": "FAYFBAICAQE=",
           "dtype": "i1"
          },
          "coloraxis": "coloraxis",
          "pattern": {
           "shape": ""
          }
         },
         "name": "",
         "orientation": "v",
         "showlegend": false,
         "textposition": "auto",
         "type": "bar",
         "x": [
          "precio",
          "calidad",
          "producto",
          "personas",
          "plaza",
          "valor",
          "propósito",
          "publicidad"
         ],
         "xaxis": "x",
         "y": {
          "bdata": "FAYFBAICAQE=",
          "dtype": "i1"
         },
         "yaxis": "y"
        }
       ],
       "layout": {
        "barmode": "relative",
        "coloraxis": {
         "colorbar": {
          "title": {
           "text": "Frecuencia"
          }
         },
         "colorscale": [
          [
           0,
           "rgb(247,251,255)"
          ],
          [
           0.125,
           "rgb(222,235,247)"
          ],
          [
           0.25,
           "rgb(198,219,239)"
          ],
          [
           0.375,
           "rgb(158,202,225)"
          ],
          [
           0.5,
           "rgb(107,174,214)"
          ],
          [
           0.625,
           "rgb(66,146,198)"
          ],
          [
           0.75,
           "rgb(33,113,181)"
          ],
          [
           0.875,
           "rgb(8,81,156)"
          ],
          [
           1,
           "rgb(8,48,107)"
          ]
         ]
        },
        "legend": {
         "tracegroupgap": 0
        },
        "template": {
         "data": {
          "bar": [
           {
            "error_x": {
             "color": "#2a3f5f"
            },
            "error_y": {
             "color": "#2a3f5f"
            },
            "marker": {
             "line": {
              "color": "#E5ECF6",
              "width": 0.5
             },
             "pattern": {
              "fillmode": "overlay",
              "size": 10,
              "solidity": 0.2
             }
            },
            "type": "bar"
           }
          ],
          "barpolar": [
           {
            "marker": {
             "line": {
              "color": "#E5ECF6",
              "width": 0.5
             },
             "pattern": {
              "fillmode": "overlay",
              "size": 10,
              "solidity": 0.2
             }
            },
            "type": "barpolar"
           }
          ],
          "carpet": [
           {
            "aaxis": {
             "endlinecolor": "#2a3f5f",
             "gridcolor": "white",
             "linecolor": "white",
             "minorgridcolor": "white",
             "startlinecolor": "#2a3f5f"
            },
            "baxis": {
             "endlinecolor": "#2a3f5f",
             "gridcolor": "white",
             "linecolor": "white",
             "minorgridcolor": "white",
             "startlinecolor": "#2a3f5f"
            },
            "type": "carpet"
           }
          ],
          "choropleth": [
           {
            "colorbar": {
             "outlinewidth": 0,
             "ticks": ""
            },
            "type": "choropleth"
           }
          ],
          "contour": [
           {
            "colorbar": {
             "outlinewidth": 0,
             "ticks": ""
            },
            "colorscale": [
             [
              0,
              "#0d0887"
             ],
             [
              0.1111111111111111,
              "#46039f"
             ],
             [
              0.2222222222222222,
              "#7201a8"
             ],
             [
              0.3333333333333333,
              "#9c179e"
             ],
             [
              0.4444444444444444,
              "#bd3786"
             ],
             [
              0.5555555555555556,
              "#d8576b"
             ],
             [
              0.6666666666666666,
              "#ed7953"
             ],
             [
              0.7777777777777778,
              "#fb9f3a"
             ],
             [
              0.8888888888888888,
              "#fdca26"
             ],
             [
              1,
              "#f0f921"
             ]
            ],
            "type": "contour"
           }
          ],
          "contourcarpet": [
           {
            "colorbar": {
             "outlinewidth": 0,
             "ticks": ""
            },
            "type": "contourcarpet"
           }
          ],
          "heatmap": [
           {
            "colorbar": {
             "outlinewidth": 0,
             "ticks": ""
            },
            "colorscale": [
             [
              0,
              "#0d0887"
             ],
             [
              0.1111111111111111,
              "#46039f"
             ],
             [
              0.2222222222222222,
              "#7201a8"
             ],
             [
              0.3333333333333333,
              "#9c179e"
             ],
             [
              0.4444444444444444,
              "#bd3786"
             ],
             [
              0.5555555555555556,
              "#d8576b"
             ],
             [
              0.6666666666666666,
              "#ed7953"
             ],
             [
              0.7777777777777778,
              "#fb9f3a"
             ],
             [
              0.8888888888888888,
              "#fdca26"
             ],
             [
              1,
              "#f0f921"
             ]
            ],
            "type": "heatmap"
           }
          ],
          "histogram": [
           {
            "marker": {
             "pattern": {
              "fillmode": "overlay",
              "size": 10,
              "solidity": 0.2
             }
            },
            "type": "histogram"
           }
          ],
          "histogram2d": [
           {
            "colorbar": {
             "outlinewidth": 0,
             "ticks": ""
            },
            "colorscale": [
             [
              0,
              "#0d0887"
             ],
             [
              0.1111111111111111,
              "#46039f"
             ],
             [
              0.2222222222222222,
              "#7201a8"
             ],
             [
              0.3333333333333333,
              "#9c179e"
             ],
             [
              0.4444444444444444,
              "#bd3786"
             ],
             [
              0.5555555555555556,
              "#d8576b"
             ],
             [
              0.6666666666666666,
              "#ed7953"
             ],
             [
              0.7777777777777778,
              "#fb9f3a"
             ],
             [
              0.8888888888888888,
              "#fdca26"
             ],
             [
              1,
              "#f0f921"
             ]
            ],
            "type": "histogram2d"
           }
          ],
          "histogram2dcontour": [
           {
            "colorbar": {
             "outlinewidth": 0,
             "ticks": ""
            },
            "colorscale": [
             [
              0,
              "#0d0887"
             ],
             [
              0.1111111111111111,
              "#46039f"
             ],
             [
              0.2222222222222222,
              "#7201a8"
             ],
             [
              0.3333333333333333,
              "#9c179e"
             ],
             [
              0.4444444444444444,
              "#bd3786"
             ],
             [
              0.5555555555555556,
              "#d8576b"
             ],
             [
              0.6666666666666666,
              "#ed7953"
             ],
             [
              0.7777777777777778,
              "#fb9f3a"
             ],
             [
              0.8888888888888888,
              "#fdca26"
             ],
             [
              1,
              "#f0f921"
             ]
            ],
            "type": "histogram2dcontour"
           }
          ],
          "mesh3d": [
           {
            "colorbar": {
             "outlinewidth": 0,
             "ticks": ""
            },
            "type": "mesh3d"
           }
          ],
          "parcoords": [
           {
            "line": {
             "colorbar": {
              "outlinewidth": 0,
              "ticks": ""
             }
            },
            "type": "parcoords"
           }
          ],
          "pie": [
           {
            "automargin": true,
            "type": "pie"
           }
          ],
          "scatter": [
           {
            "fillpattern": {
             "fillmode": "overlay",
             "size": 10,
             "solidity": 0.2
            },
            "type": "scatter"
           }
          ],
          "scatter3d": [
           {
            "line": {
             "colorbar": {
              "outlinewidth": 0,
              "ticks": ""
             }
            },
            "marker": {
             "colorbar": {
              "outlinewidth": 0,
              "ticks": ""
             }
            },
            "type": "scatter3d"
           }
          ],
          "scattercarpet": [
           {
            "marker": {
             "colorbar": {
              "outlinewidth": 0,
              "ticks": ""
             }
            },
            "type": "scattercarpet"
           }
          ],
          "scattergeo": [
           {
            "marker": {
             "colorbar": {
              "outlinewidth": 0,
              "ticks": ""
             }
            },
            "type": "scattergeo"
           }
          ],
          "scattergl": [
           {
            "marker": {
             "colorbar": {
              "outlinewidth": 0,
              "ticks": ""
             }
            },
            "type": "scattergl"
           }
          ],
          "scattermap": [
           {
            "marker": {
             "colorbar": {
              "outlinewidth": 0,
              "ticks": ""
             }
            },
            "type": "scattermap"
           }
          ],
          "scattermapbox": [
           {
            "marker": {
             "colorbar": {
              "outlinewidth": 0,
              "ticks": ""
             }
            },
            "type": "scattermapbox"
           }
          ],
          "scatterpolar": [
           {
            "marker": {
             "colorbar": {
              "outlinewidth": 0,
              "ticks": ""
             }
            },
            "type": "scatterpolar"
           }
          ],
          "scatterpolargl": [
           {
            "marker": {
             "colorbar": {
              "outlinewidth": 0,
              "ticks": ""
             }
            },
            "type": "scatterpolargl"
           }
          ],
          "scatterternary": [
           {
            "marker": {
             "colorbar": {
              "outlinewidth": 0,
              "ticks": ""
             }
            },
            "type": "scatterternary"
           }
          ],
          "surface": [
           {
            "colorbar": {
             "outlinewidth": 0,
             "ticks": ""
            },
            "colorscale": [
             [
              0,
              "#0d0887"
             ],
             [
              0.1111111111111111,
              "#46039f"
             ],
             [
              0.2222222222222222,
              "#7201a8"
             ],
             [
              0.3333333333333333,
              "#9c179e"
             ],
             [
              0.4444444444444444,
              "#bd3786"
             ],
             [
              0.5555555555555556,
              "#d8576b"
             ],
             [
              0.6666666666666666,
              "#ed7953"
             ],
             [
              0.7777777777777778,
              "#fb9f3a"
             ],
             [
              0.8888888888888888,
              "#fdca26"
             ],
             [
              1,
              "#f0f921"
             ]
            ],
            "type": "surface"
           }
          ],
          "table": [
           {
            "cells": {
             "fill": {
              "color": "#EBF0F8"
             },
             "line": {
              "color": "white"
             }
            },
            "header": {
             "fill": {
              "color": "#C8D4E3"
             },
             "line": {
              "color": "white"
             }
            },
            "type": "table"
           }
          ]
         },
         "layout": {
          "annotationdefaults": {
           "arrowcolor": "#2a3f5f",
           "arrowhead": 0,
           "arrowwidth": 1
          },
          "autotypenumbers": "strict",
          "coloraxis": {
           "colorbar": {
            "outlinewidth": 0,
            "ticks": ""
           }
          },
          "colorscale": {
           "diverging": [
            [
             0,
             "#8e0152"
            ],
            [
             0.1,
             "#c51b7d"
            ],
            [
             0.2,
             "#de77ae"
            ],
            [
             0.3,
             "#f1b6da"
            ],
            [
             0.4,
             "#fde0ef"
            ],
            [
             0.5,
             "#f7f7f7"
            ],
            [
             0.6,
             "#e6f5d0"
            ],
            [
             0.7,
             "#b8e186"
            ],
            [
             0.8,
             "#7fbc41"
            ],
            [
             0.9,
             "#4d9221"
            ],
            [
             1,
             "#276419"
            ]
           ],
           "sequential": [
            [
             0,
             "#0d0887"
            ],
            [
             0.1111111111111111,
             "#46039f"
            ],
            [
             0.2222222222222222,
             "#7201a8"
            ],
            [
             0.3333333333333333,
             "#9c179e"
            ],
            [
             0.4444444444444444,
             "#bd3786"
            ],
            [
             0.5555555555555556,
             "#d8576b"
            ],
            [
             0.6666666666666666,
             "#ed7953"
            ],
            [
             0.7777777777777778,
             "#fb9f3a"
            ],
            [
             0.8888888888888888,
             "#fdca26"
            ],
            [
             1,
             "#f0f921"
            ]
           ],
           "sequentialminus": [
            [
             0,
             "#0d0887"
            ],
            [
             0.1111111111111111,
             "#46039f"
            ],
            [
             0.2222222222222222,
             "#7201a8"
            ],
            [
             0.3333333333333333,
             "#9c179e"
            ],
            [
             0.4444444444444444,
             "#bd3786"
            ],
            [
             0.5555555555555556,
             "#d8576b"
            ],
            [
             0.6666666666666666,
             "#ed7953"
            ],
            [
             0.7777777777777778,
             "#fb9f3a"
            ],
            [
             0.8888888888888888,
             "#fdca26"
            ],
            [
             1,
             "#f0f921"
            ]
           ]
          },
          "colorway": [
           "#636efa",
           "#EF553B",
           "#00cc96",
           "#ab63fa",
           "#FFA15A",
           "#19d3f3",
           "#FF6692",
           "#B6E880",
           "#FF97FF",
           "#FECB52"
          ],
          "font": {
           "color": "#2a3f5f"
          },
          "geo": {
           "bgcolor": "white",
           "lakecolor": "white",
           "landcolor": "#E5ECF6",
           "showlakes": true,
           "showland": true,
           "subunitcolor": "white"
          },
          "hoverlabel": {
           "align": "left"
          },
          "hovermode": "closest",
          "mapbox": {
           "style": "light"
          },
          "paper_bgcolor": "white",
          "plot_bgcolor": "#E5ECF6",
          "polar": {
           "angularaxis": {
            "gridcolor": "white",
            "linecolor": "white",
            "ticks": ""
           },
           "bgcolor": "#E5ECF6",
           "radialaxis": {
            "gridcolor": "white",
            "linecolor": "white",
            "ticks": ""
           }
          },
          "scene": {
           "xaxis": {
            "backgroundcolor": "#E5ECF6",
            "gridcolor": "white",
            "gridwidth": 2,
            "linecolor": "white",
            "showbackground": true,
            "ticks": "",
            "zerolinecolor": "white"
           },
           "yaxis": {
            "backgroundcolor": "#E5ECF6",
            "gridcolor": "white",
            "gridwidth": 2,
            "linecolor": "white",
            "showbackground": true,
            "ticks": "",
            "zerolinecolor": "white"
           },
           "zaxis": {
            "backgroundcolor": "#E5ECF6",
            "gridcolor": "white",
            "gridwidth": 2,
            "linecolor": "white",
            "showbackground": true,
            "ticks": "",
            "zerolinecolor": "white"
           }
          },
          "shapedefaults": {
           "line": {
            "color": "#2a3f5f"
           }
          },
          "ternary": {
           "aaxis": {
            "gridcolor": "white",
            "linecolor": "white",
            "ticks": ""
           },
           "baxis": {
            "gridcolor": "white",
            "linecolor": "white",
            "ticks": ""
           },
           "bgcolor": "#E5ECF6",
           "caxis": {
            "gridcolor": "white",
            "linecolor": "white",
            "ticks": ""
           }
          },
          "title": {
           "x": 0.05
          },
          "xaxis": {
           "automargin": true,
           "gridcolor": "white",
           "linecolor": "white",
           "ticks": "",
           "title": {
            "standoff": 15
           },
           "zerolinecolor": "white",
           "zerolinewidth": 2
          },
          "yaxis": {
           "automargin": true,
           "gridcolor": "white",
           "linecolor": "white",
           "ticks": "",
           "title": {
            "standoff": 15
           },
           "zerolinecolor": "white",
           "zerolinewidth": 2
          }
         }
        },
        "title": {
         "text": "Frecuencia de Palabras Clave Relacionadas con las 9Ps"
        },
        "xaxis": {
         "anchor": "y",
         "domain": [
          0,
          1
         ],
         "title": {
          "text": "Palabras Clave"
         }
        },
        "yaxis": {
         "anchor": "x",
         "domain": [
          0,
          1
         ],
         "title": {
          "text": "Frecuencia"
         }
        }
       }
      }
     },
     "metadata": {},
     "output_type": "display_data"
    }
   ],
   "source": [
    "from collections import Counter\n",
    "import plotly.express as px\n",
    "\n",
    "# Lista de palabras clave relacionadas con las 9Ps\n",
    "keywords_9ps = ['producto', 'precio', 'plaza', 'publicidad', 'posconsumo', 'propósito', \n",
    "                'alianzas', 'personas', 'planeta', 'calidad', 'sostenible', 'responsable', \n",
    "                'ecológico', 'reciclaje', 'valor', 'distribución', 'comunicación']\n",
    "\n",
    "# Contar la frecuencia de cada palabra clave\n",
    "keyword_freq = Counter()\n",
    "for comment in df_tik_tok_clean['comment_text']:\n",
    "    words = comment.split()\n",
    "    for word in words:\n",
    "        if word in keywords_9ps:\n",
    "            keyword_freq[word] += 1\n",
    "\n",
    "# Crear un DataFrame con las palabras y sus frecuencias\n",
    "df_keywords = pd.DataFrame(keyword_freq.most_common(), columns=['Palabra', 'Frecuencia'])\n",
    "\n",
    "# Crear el gráfico de barras interactivo\n",
    "fig = px.bar(df_keywords, x='Palabra', y='Frecuencia', \n",
    "             title='Frecuencia de Palabras Clave Relacionadas con las 9Ps',\n",
    "             labels={'Palabra': 'Palabras Clave', 'Frecuencia': 'Frecuencia'}, \n",
    "             color='Frecuencia', color_continuous_scale='Blues')\n",
    "fig.update_layout(xaxis_title='Palabras Clave', yaxis_title='Frecuencia')\n",
    "fig.show()"
   ]
  },
  {
   "cell_type": "code",
   "execution_count": 19,
   "metadata": {},
   "outputs": [
    {
     "name": "stderr",
     "output_type": "stream",
     "text": [
      "/var/folders/ys/2psfql1156jf72wjlnnt4vvc0000gn/T/ipykernel_35329/979578283.py:2: SettingWithCopyWarning:\n",
      "\n",
      "\n",
      "A value is trying to be set on a copy of a slice from a DataFrame.\n",
      "Try using .loc[row_indexer,col_indexer] = value instead\n",
      "\n",
      "See the caveats in the documentation: https://pandas.pydata.org/pandas-docs/stable/user_guide/indexing.html#returning-a-view-versus-a-copy\n",
      "\n"
     ]
    },
    {
     "data": {
      "application/vnd.plotly.v1+json": {
       "config": {
        "plotlyServerURL": "https://plot.ly"
       },
       "data": [
        {
         "hovertemplate": "Fecha=%{x}<br>Número de Comentarios=%{y}<extra></extra>",
         "legendgroup": "",
         "line": {
          "color": "#636EFA",
          "dash": "solid"
         },
         "marker": {
          "symbol": "circle"
         },
         "mode": "lines",
         "name": "",
         "showlegend": false,
         "type": "scattergl",
         "x": [
          "2022-04-22T00:00:00.000000000",
          "2022-04-23T00:00:00.000000000",
          "2022-04-24T00:00:00.000000000",
          "2022-04-25T00:00:00.000000000",
          "2022-04-26T00:00:00.000000000",
          "2022-04-27T00:00:00.000000000",
          "2022-04-28T00:00:00.000000000",
          "2022-04-29T00:00:00.000000000",
          "2022-04-30T00:00:00.000000000",
          "2022-05-01T00:00:00.000000000",
          "2022-05-02T00:00:00.000000000",
          "2022-05-03T00:00:00.000000000",
          "2022-05-04T00:00:00.000000000",
          "2022-05-05T00:00:00.000000000",
          "2022-05-06T00:00:00.000000000",
          "2022-05-07T00:00:00.000000000",
          "2022-05-08T00:00:00.000000000",
          "2022-05-09T00:00:00.000000000",
          "2022-05-10T00:00:00.000000000",
          "2022-05-11T00:00:00.000000000",
          "2022-05-12T00:00:00.000000000",
          "2022-05-13T00:00:00.000000000",
          "2022-05-14T00:00:00.000000000",
          "2022-05-15T00:00:00.000000000",
          "2022-05-16T00:00:00.000000000",
          "2022-05-17T00:00:00.000000000",
          "2022-05-18T00:00:00.000000000",
          "2022-05-19T00:00:00.000000000",
          "2022-05-20T00:00:00.000000000",
          "2022-05-21T00:00:00.000000000",
          "2022-05-22T00:00:00.000000000",
          "2022-05-23T00:00:00.000000000",
          "2022-05-24T00:00:00.000000000",
          "2022-05-25T00:00:00.000000000",
          "2022-05-26T00:00:00.000000000",
          "2022-05-27T00:00:00.000000000",
          "2022-05-28T00:00:00.000000000",
          "2022-05-29T00:00:00.000000000",
          "2022-05-30T00:00:00.000000000",
          "2022-05-31T00:00:00.000000000",
          "2022-06-01T00:00:00.000000000",
          "2022-06-02T00:00:00.000000000",
          "2022-06-03T00:00:00.000000000",
          "2022-06-04T00:00:00.000000000",
          "2022-06-05T00:00:00.000000000",
          "2022-06-06T00:00:00.000000000",
          "2022-06-07T00:00:00.000000000",
          "2022-06-08T00:00:00.000000000",
          "2022-06-09T00:00:00.000000000",
          "2022-06-10T00:00:00.000000000",
          "2022-06-11T00:00:00.000000000",
          "2022-06-12T00:00:00.000000000",
          "2022-06-13T00:00:00.000000000",
          "2022-06-14T00:00:00.000000000",
          "2022-06-15T00:00:00.000000000",
          "2022-06-16T00:00:00.000000000",
          "2022-06-17T00:00:00.000000000",
          "2022-06-18T00:00:00.000000000",
          "2022-06-19T00:00:00.000000000",
          "2022-06-20T00:00:00.000000000",
          "2022-06-21T00:00:00.000000000",
          "2022-06-22T00:00:00.000000000",
          "2022-06-23T00:00:00.000000000",
          "2022-06-24T00:00:00.000000000",
          "2022-06-25T00:00:00.000000000",
          "2022-06-26T00:00:00.000000000",
          "2022-06-27T00:00:00.000000000",
          "2022-06-28T00:00:00.000000000",
          "2022-06-29T00:00:00.000000000",
          "2022-06-30T00:00:00.000000000",
          "2022-07-01T00:00:00.000000000",
          "2022-07-02T00:00:00.000000000",
          "2022-07-03T00:00:00.000000000",
          "2022-07-04T00:00:00.000000000",
          "2022-07-05T00:00:00.000000000",
          "2022-07-06T00:00:00.000000000",
          "2022-07-07T00:00:00.000000000",
          "2022-07-08T00:00:00.000000000",
          "2022-07-09T00:00:00.000000000",
          "2022-07-10T00:00:00.000000000",
          "2022-07-11T00:00:00.000000000",
          "2022-07-12T00:00:00.000000000",
          "2022-07-13T00:00:00.000000000",
          "2022-07-14T00:00:00.000000000",
          "2022-07-15T00:00:00.000000000",
          "2022-07-16T00:00:00.000000000",
          "2022-07-17T00:00:00.000000000",
          "2022-07-18T00:00:00.000000000",
          "2022-07-19T00:00:00.000000000",
          "2022-07-20T00:00:00.000000000",
          "2022-07-21T00:00:00.000000000",
          "2022-07-22T00:00:00.000000000",
          "2022-07-23T00:00:00.000000000",
          "2022-07-24T00:00:00.000000000",
          "2022-07-25T00:00:00.000000000",
          "2022-07-26T00:00:00.000000000",
          "2022-07-27T00:00:00.000000000",
          "2022-07-28T00:00:00.000000000",
          "2022-07-29T00:00:00.000000000",
          "2022-07-30T00:00:00.000000000",
          "2022-07-31T00:00:00.000000000",
          "2022-08-01T00:00:00.000000000",
          "2022-08-02T00:00:00.000000000",
          "2022-08-03T00:00:00.000000000",
          "2022-08-04T00:00:00.000000000",
          "2022-08-05T00:00:00.000000000",
          "2022-08-06T00:00:00.000000000",
          "2022-08-07T00:00:00.000000000",
          "2022-08-08T00:00:00.000000000",
          "2022-08-09T00:00:00.000000000",
          "2022-08-10T00:00:00.000000000",
          "2022-08-11T00:00:00.000000000",
          "2022-08-12T00:00:00.000000000",
          "2022-08-13T00:00:00.000000000",
          "2022-08-14T00:00:00.000000000",
          "2022-08-15T00:00:00.000000000",
          "2022-08-16T00:00:00.000000000",
          "2022-08-17T00:00:00.000000000",
          "2022-08-18T00:00:00.000000000",
          "2022-08-19T00:00:00.000000000",
          "2022-08-20T00:00:00.000000000",
          "2022-08-21T00:00:00.000000000",
          "2022-08-22T00:00:00.000000000",
          "2022-08-23T00:00:00.000000000",
          "2022-08-24T00:00:00.000000000",
          "2022-08-25T00:00:00.000000000",
          "2022-08-26T00:00:00.000000000",
          "2022-08-27T00:00:00.000000000",
          "2022-08-28T00:00:00.000000000",
          "2022-08-29T00:00:00.000000000",
          "2022-08-30T00:00:00.000000000",
          "2022-08-31T00:00:00.000000000",
          "2022-09-01T00:00:00.000000000",
          "2022-09-02T00:00:00.000000000",
          "2022-09-03T00:00:00.000000000",
          "2022-09-04T00:00:00.000000000",
          "2022-09-05T00:00:00.000000000",
          "2022-09-06T00:00:00.000000000",
          "2022-09-07T00:00:00.000000000",
          "2022-09-08T00:00:00.000000000",
          "2022-09-09T00:00:00.000000000",
          "2022-09-10T00:00:00.000000000",
          "2022-09-11T00:00:00.000000000",
          "2022-09-12T00:00:00.000000000",
          "2022-09-13T00:00:00.000000000",
          "2022-09-14T00:00:00.000000000",
          "2022-09-15T00:00:00.000000000",
          "2022-09-16T00:00:00.000000000",
          "2022-09-17T00:00:00.000000000",
          "2022-09-18T00:00:00.000000000",
          "2022-09-19T00:00:00.000000000",
          "2022-09-20T00:00:00.000000000",
          "2022-09-21T00:00:00.000000000",
          "2022-09-22T00:00:00.000000000",
          "2022-09-23T00:00:00.000000000",
          "2022-09-24T00:00:00.000000000",
          "2022-09-25T00:00:00.000000000",
          "2022-09-26T00:00:00.000000000",
          "2022-09-27T00:00:00.000000000",
          "2022-09-28T00:00:00.000000000",
          "2022-09-29T00:00:00.000000000",
          "2022-09-30T00:00:00.000000000",
          "2022-10-01T00:00:00.000000000",
          "2022-10-02T00:00:00.000000000",
          "2022-10-03T00:00:00.000000000",
          "2022-10-04T00:00:00.000000000",
          "2022-10-05T00:00:00.000000000",
          "2022-10-06T00:00:00.000000000",
          "2022-10-07T00:00:00.000000000",
          "2022-10-08T00:00:00.000000000",
          "2022-10-09T00:00:00.000000000",
          "2022-10-10T00:00:00.000000000",
          "2022-10-11T00:00:00.000000000",
          "2022-10-12T00:00:00.000000000",
          "2022-10-13T00:00:00.000000000",
          "2022-10-14T00:00:00.000000000",
          "2022-10-15T00:00:00.000000000",
          "2022-10-16T00:00:00.000000000",
          "2022-10-17T00:00:00.000000000",
          "2022-10-18T00:00:00.000000000",
          "2022-10-19T00:00:00.000000000",
          "2022-10-20T00:00:00.000000000",
          "2022-10-21T00:00:00.000000000",
          "2022-10-22T00:00:00.000000000",
          "2022-10-23T00:00:00.000000000",
          "2022-10-24T00:00:00.000000000",
          "2022-10-25T00:00:00.000000000",
          "2022-10-26T00:00:00.000000000",
          "2022-10-27T00:00:00.000000000",
          "2022-10-28T00:00:00.000000000",
          "2022-10-29T00:00:00.000000000",
          "2022-10-30T00:00:00.000000000",
          "2022-10-31T00:00:00.000000000",
          "2022-11-01T00:00:00.000000000",
          "2022-11-02T00:00:00.000000000",
          "2022-11-03T00:00:00.000000000",
          "2022-11-04T00:00:00.000000000",
          "2022-11-05T00:00:00.000000000",
          "2022-11-06T00:00:00.000000000",
          "2022-11-07T00:00:00.000000000",
          "2022-11-08T00:00:00.000000000",
          "2022-11-09T00:00:00.000000000",
          "2022-11-10T00:00:00.000000000",
          "2022-11-11T00:00:00.000000000",
          "2022-11-12T00:00:00.000000000",
          "2022-11-13T00:00:00.000000000",
          "2022-11-14T00:00:00.000000000",
          "2022-11-15T00:00:00.000000000",
          "2022-11-16T00:00:00.000000000",
          "2022-11-17T00:00:00.000000000",
          "2022-11-18T00:00:00.000000000",
          "2022-11-19T00:00:00.000000000",
          "2022-11-20T00:00:00.000000000",
          "2022-11-21T00:00:00.000000000",
          "2022-11-22T00:00:00.000000000",
          "2022-11-23T00:00:00.000000000",
          "2022-11-24T00:00:00.000000000",
          "2022-11-25T00:00:00.000000000",
          "2022-11-26T00:00:00.000000000",
          "2022-11-27T00:00:00.000000000",
          "2022-11-28T00:00:00.000000000",
          "2022-11-29T00:00:00.000000000",
          "2022-11-30T00:00:00.000000000",
          "2022-12-01T00:00:00.000000000",
          "2022-12-02T00:00:00.000000000",
          "2022-12-03T00:00:00.000000000",
          "2022-12-04T00:00:00.000000000",
          "2022-12-05T00:00:00.000000000",
          "2022-12-06T00:00:00.000000000",
          "2022-12-07T00:00:00.000000000",
          "2022-12-08T00:00:00.000000000",
          "2022-12-09T00:00:00.000000000",
          "2022-12-10T00:00:00.000000000",
          "2022-12-11T00:00:00.000000000",
          "2022-12-12T00:00:00.000000000",
          "2022-12-13T00:00:00.000000000",
          "2022-12-14T00:00:00.000000000",
          "2022-12-15T00:00:00.000000000",
          "2022-12-16T00:00:00.000000000",
          "2022-12-17T00:00:00.000000000",
          "2022-12-18T00:00:00.000000000",
          "2022-12-19T00:00:00.000000000",
          "2022-12-20T00:00:00.000000000",
          "2022-12-21T00:00:00.000000000",
          "2022-12-22T00:00:00.000000000",
          "2022-12-23T00:00:00.000000000",
          "2022-12-24T00:00:00.000000000",
          "2022-12-25T00:00:00.000000000",
          "2022-12-26T00:00:00.000000000",
          "2022-12-27T00:00:00.000000000",
          "2022-12-28T00:00:00.000000000",
          "2022-12-29T00:00:00.000000000",
          "2022-12-30T00:00:00.000000000",
          "2022-12-31T00:00:00.000000000",
          "2023-01-01T00:00:00.000000000",
          "2023-01-02T00:00:00.000000000",
          "2023-01-03T00:00:00.000000000",
          "2023-01-04T00:00:00.000000000",
          "2023-01-05T00:00:00.000000000",
          "2023-01-06T00:00:00.000000000",
          "2023-01-07T00:00:00.000000000",
          "2023-01-08T00:00:00.000000000",
          "2023-01-09T00:00:00.000000000",
          "2023-01-10T00:00:00.000000000",
          "2023-01-11T00:00:00.000000000",
          "2023-01-12T00:00:00.000000000",
          "2023-01-13T00:00:00.000000000",
          "2023-01-14T00:00:00.000000000",
          "2023-01-15T00:00:00.000000000",
          "2023-01-16T00:00:00.000000000",
          "2023-01-17T00:00:00.000000000",
          "2023-01-18T00:00:00.000000000",
          "2023-01-19T00:00:00.000000000",
          "2023-01-20T00:00:00.000000000",
          "2023-01-21T00:00:00.000000000",
          "2023-01-22T00:00:00.000000000",
          "2023-01-23T00:00:00.000000000",
          "2023-01-24T00:00:00.000000000",
          "2023-01-25T00:00:00.000000000",
          "2023-01-26T00:00:00.000000000",
          "2023-01-27T00:00:00.000000000",
          "2023-01-28T00:00:00.000000000",
          "2023-01-29T00:00:00.000000000",
          "2023-01-30T00:00:00.000000000",
          "2023-01-31T00:00:00.000000000",
          "2023-02-01T00:00:00.000000000",
          "2023-02-02T00:00:00.000000000",
          "2023-02-03T00:00:00.000000000",
          "2023-02-04T00:00:00.000000000",
          "2023-02-05T00:00:00.000000000",
          "2023-02-06T00:00:00.000000000",
          "2023-02-07T00:00:00.000000000",
          "2023-02-08T00:00:00.000000000",
          "2023-02-09T00:00:00.000000000",
          "2023-02-10T00:00:00.000000000",
          "2023-02-11T00:00:00.000000000",
          "2023-02-12T00:00:00.000000000",
          "2023-02-13T00:00:00.000000000",
          "2023-02-14T00:00:00.000000000",
          "2023-02-15T00:00:00.000000000",
          "2023-02-16T00:00:00.000000000",
          "2023-02-17T00:00:00.000000000",
          "2023-02-18T00:00:00.000000000",
          "2023-02-19T00:00:00.000000000",
          "2023-02-20T00:00:00.000000000",
          "2023-02-21T00:00:00.000000000",
          "2023-02-22T00:00:00.000000000",
          "2023-02-23T00:00:00.000000000",
          "2023-02-24T00:00:00.000000000",
          "2023-02-25T00:00:00.000000000",
          "2023-02-26T00:00:00.000000000",
          "2023-02-27T00:00:00.000000000",
          "2023-02-28T00:00:00.000000000",
          "2023-03-01T00:00:00.000000000",
          "2023-03-02T00:00:00.000000000",
          "2023-03-03T00:00:00.000000000",
          "2023-03-04T00:00:00.000000000",
          "2023-03-05T00:00:00.000000000",
          "2023-03-06T00:00:00.000000000",
          "2023-03-07T00:00:00.000000000",
          "2023-03-08T00:00:00.000000000",
          "2023-03-09T00:00:00.000000000",
          "2023-03-10T00:00:00.000000000",
          "2023-03-11T00:00:00.000000000",
          "2023-03-12T00:00:00.000000000",
          "2023-03-13T00:00:00.000000000",
          "2023-03-14T00:00:00.000000000",
          "2023-03-15T00:00:00.000000000",
          "2023-03-16T00:00:00.000000000",
          "2023-03-17T00:00:00.000000000",
          "2023-03-18T00:00:00.000000000",
          "2023-03-19T00:00:00.000000000",
          "2023-03-20T00:00:00.000000000",
          "2023-03-21T00:00:00.000000000",
          "2023-03-22T00:00:00.000000000",
          "2023-03-23T00:00:00.000000000",
          "2023-03-24T00:00:00.000000000",
          "2023-03-25T00:00:00.000000000",
          "2023-03-26T00:00:00.000000000",
          "2023-03-27T00:00:00.000000000",
          "2023-03-28T00:00:00.000000000",
          "2023-03-29T00:00:00.000000000",
          "2023-03-30T00:00:00.000000000",
          "2023-03-31T00:00:00.000000000",
          "2023-04-01T00:00:00.000000000",
          "2023-04-02T00:00:00.000000000",
          "2023-04-03T00:00:00.000000000",
          "2023-04-04T00:00:00.000000000",
          "2023-04-05T00:00:00.000000000",
          "2023-04-06T00:00:00.000000000",
          "2023-04-07T00:00:00.000000000",
          "2023-04-08T00:00:00.000000000",
          "2023-04-09T00:00:00.000000000",
          "2023-04-10T00:00:00.000000000",
          "2023-04-11T00:00:00.000000000",
          "2023-04-12T00:00:00.000000000",
          "2023-04-13T00:00:00.000000000",
          "2023-04-14T00:00:00.000000000",
          "2023-04-15T00:00:00.000000000",
          "2023-04-16T00:00:00.000000000",
          "2023-04-17T00:00:00.000000000",
          "2023-04-18T00:00:00.000000000",
          "2023-04-19T00:00:00.000000000",
          "2023-04-20T00:00:00.000000000",
          "2023-04-21T00:00:00.000000000",
          "2023-04-22T00:00:00.000000000",
          "2023-04-23T00:00:00.000000000",
          "2023-04-24T00:00:00.000000000",
          "2023-04-25T00:00:00.000000000",
          "2023-04-26T00:00:00.000000000",
          "2023-04-27T00:00:00.000000000",
          "2023-04-28T00:00:00.000000000",
          "2023-04-29T00:00:00.000000000",
          "2023-04-30T00:00:00.000000000",
          "2023-05-01T00:00:00.000000000",
          "2023-05-02T00:00:00.000000000",
          "2023-05-03T00:00:00.000000000",
          "2023-05-04T00:00:00.000000000",
          "2023-05-05T00:00:00.000000000",
          "2023-05-06T00:00:00.000000000",
          "2023-05-07T00:00:00.000000000",
          "2023-05-08T00:00:00.000000000",
          "2023-05-09T00:00:00.000000000",
          "2023-05-10T00:00:00.000000000",
          "2023-05-11T00:00:00.000000000",
          "2023-05-12T00:00:00.000000000",
          "2023-05-13T00:00:00.000000000",
          "2023-05-14T00:00:00.000000000",
          "2023-05-15T00:00:00.000000000",
          "2023-05-16T00:00:00.000000000",
          "2023-05-17T00:00:00.000000000",
          "2023-05-18T00:00:00.000000000",
          "2023-05-19T00:00:00.000000000",
          "2023-05-20T00:00:00.000000000",
          "2023-05-21T00:00:00.000000000",
          "2023-05-22T00:00:00.000000000",
          "2023-05-23T00:00:00.000000000",
          "2023-05-24T00:00:00.000000000",
          "2023-05-25T00:00:00.000000000",
          "2023-05-26T00:00:00.000000000",
          "2023-05-27T00:00:00.000000000",
          "2023-05-28T00:00:00.000000000",
          "2023-05-29T00:00:00.000000000",
          "2023-05-30T00:00:00.000000000",
          "2023-05-31T00:00:00.000000000",
          "2023-06-01T00:00:00.000000000",
          "2023-06-02T00:00:00.000000000",
          "2023-06-03T00:00:00.000000000",
          "2023-06-04T00:00:00.000000000",
          "2023-06-05T00:00:00.000000000",
          "2023-06-06T00:00:00.000000000",
          "2023-06-07T00:00:00.000000000",
          "2023-06-08T00:00:00.000000000",
          "2023-06-09T00:00:00.000000000",
          "2023-06-10T00:00:00.000000000",
          "2023-06-11T00:00:00.000000000",
          "2023-06-12T00:00:00.000000000",
          "2023-06-13T00:00:00.000000000",
          "2023-06-14T00:00:00.000000000",
          "2023-06-15T00:00:00.000000000",
          "2023-06-16T00:00:00.000000000",
          "2023-06-17T00:00:00.000000000",
          "2023-06-18T00:00:00.000000000",
          "2023-06-19T00:00:00.000000000",
          "2023-06-20T00:00:00.000000000",
          "2023-06-21T00:00:00.000000000",
          "2023-06-22T00:00:00.000000000",
          "2023-06-23T00:00:00.000000000",
          "2023-06-24T00:00:00.000000000",
          "2023-06-25T00:00:00.000000000",
          "2023-06-26T00:00:00.000000000",
          "2023-06-27T00:00:00.000000000",
          "2023-06-28T00:00:00.000000000",
          "2023-06-29T00:00:00.000000000",
          "2023-06-30T00:00:00.000000000",
          "2023-07-01T00:00:00.000000000",
          "2023-07-02T00:00:00.000000000",
          "2023-07-03T00:00:00.000000000",
          "2023-07-04T00:00:00.000000000",
          "2023-07-05T00:00:00.000000000",
          "2023-07-06T00:00:00.000000000",
          "2023-07-07T00:00:00.000000000",
          "2023-07-08T00:00:00.000000000",
          "2023-07-09T00:00:00.000000000",
          "2023-07-10T00:00:00.000000000",
          "2023-07-11T00:00:00.000000000",
          "2023-07-12T00:00:00.000000000",
          "2023-07-13T00:00:00.000000000",
          "2023-07-14T00:00:00.000000000",
          "2023-07-15T00:00:00.000000000",
          "2023-07-16T00:00:00.000000000",
          "2023-07-17T00:00:00.000000000",
          "2023-07-18T00:00:00.000000000",
          "2023-07-19T00:00:00.000000000",
          "2023-07-20T00:00:00.000000000",
          "2023-07-21T00:00:00.000000000",
          "2023-07-22T00:00:00.000000000",
          "2023-07-23T00:00:00.000000000",
          "2023-07-24T00:00:00.000000000",
          "2023-07-25T00:00:00.000000000",
          "2023-07-26T00:00:00.000000000",
          "2023-07-27T00:00:00.000000000",
          "2023-07-28T00:00:00.000000000",
          "2023-07-29T00:00:00.000000000",
          "2023-07-30T00:00:00.000000000",
          "2023-07-31T00:00:00.000000000",
          "2023-08-01T00:00:00.000000000",
          "2023-08-02T00:00:00.000000000",
          "2023-08-03T00:00:00.000000000",
          "2023-08-04T00:00:00.000000000",
          "2023-08-05T00:00:00.000000000",
          "2023-08-06T00:00:00.000000000",
          "2023-08-07T00:00:00.000000000",
          "2023-08-08T00:00:00.000000000",
          "2023-08-09T00:00:00.000000000",
          "2023-08-10T00:00:00.000000000",
          "2023-08-11T00:00:00.000000000",
          "2023-08-12T00:00:00.000000000",
          "2023-08-13T00:00:00.000000000",
          "2023-08-14T00:00:00.000000000",
          "2023-08-15T00:00:00.000000000",
          "2023-08-16T00:00:00.000000000",
          "2023-08-17T00:00:00.000000000",
          "2023-08-18T00:00:00.000000000",
          "2023-08-19T00:00:00.000000000",
          "2023-08-20T00:00:00.000000000",
          "2023-08-21T00:00:00.000000000",
          "2023-08-22T00:00:00.000000000",
          "2023-08-23T00:00:00.000000000",
          "2023-08-24T00:00:00.000000000",
          "2023-08-25T00:00:00.000000000",
          "2023-08-26T00:00:00.000000000",
          "2023-08-27T00:00:00.000000000",
          "2023-08-28T00:00:00.000000000",
          "2023-08-29T00:00:00.000000000",
          "2023-08-30T00:00:00.000000000",
          "2023-08-31T00:00:00.000000000",
          "2023-09-01T00:00:00.000000000",
          "2023-09-02T00:00:00.000000000",
          "2023-09-03T00:00:00.000000000",
          "2023-09-04T00:00:00.000000000",
          "2023-09-05T00:00:00.000000000",
          "2023-09-06T00:00:00.000000000",
          "2023-09-07T00:00:00.000000000",
          "2023-09-08T00:00:00.000000000",
          "2023-09-09T00:00:00.000000000",
          "2023-09-10T00:00:00.000000000",
          "2023-09-11T00:00:00.000000000",
          "2023-09-12T00:00:00.000000000",
          "2023-09-13T00:00:00.000000000",
          "2023-09-14T00:00:00.000000000",
          "2023-09-15T00:00:00.000000000",
          "2023-09-16T00:00:00.000000000",
          "2023-09-17T00:00:00.000000000",
          "2023-09-18T00:00:00.000000000",
          "2023-09-19T00:00:00.000000000",
          "2023-09-20T00:00:00.000000000",
          "2023-09-21T00:00:00.000000000",
          "2023-09-22T00:00:00.000000000",
          "2023-09-23T00:00:00.000000000",
          "2023-09-24T00:00:00.000000000",
          "2023-09-25T00:00:00.000000000",
          "2023-09-26T00:00:00.000000000",
          "2023-09-27T00:00:00.000000000",
          "2023-09-28T00:00:00.000000000",
          "2023-09-29T00:00:00.000000000",
          "2023-09-30T00:00:00.000000000",
          "2023-10-01T00:00:00.000000000",
          "2023-10-02T00:00:00.000000000",
          "2023-10-03T00:00:00.000000000",
          "2023-10-04T00:00:00.000000000",
          "2023-10-05T00:00:00.000000000",
          "2023-10-06T00:00:00.000000000",
          "2023-10-07T00:00:00.000000000",
          "2023-10-08T00:00:00.000000000",
          "2023-10-09T00:00:00.000000000",
          "2023-10-10T00:00:00.000000000",
          "2023-10-11T00:00:00.000000000",
          "2023-10-12T00:00:00.000000000",
          "2023-10-13T00:00:00.000000000",
          "2023-10-14T00:00:00.000000000",
          "2023-10-15T00:00:00.000000000",
          "2023-10-16T00:00:00.000000000",
          "2023-10-17T00:00:00.000000000",
          "2023-10-18T00:00:00.000000000",
          "2023-10-19T00:00:00.000000000",
          "2023-10-20T00:00:00.000000000",
          "2023-10-21T00:00:00.000000000",
          "2023-10-22T00:00:00.000000000",
          "2023-10-23T00:00:00.000000000",
          "2023-10-24T00:00:00.000000000",
          "2023-10-25T00:00:00.000000000",
          "2023-10-26T00:00:00.000000000",
          "2023-10-27T00:00:00.000000000",
          "2023-10-28T00:00:00.000000000",
          "2023-10-29T00:00:00.000000000",
          "2023-10-30T00:00:00.000000000",
          "2023-10-31T00:00:00.000000000",
          "2023-11-01T00:00:00.000000000",
          "2023-11-02T00:00:00.000000000",
          "2023-11-03T00:00:00.000000000",
          "2023-11-04T00:00:00.000000000",
          "2023-11-05T00:00:00.000000000",
          "2023-11-06T00:00:00.000000000",
          "2023-11-07T00:00:00.000000000",
          "2023-11-08T00:00:00.000000000",
          "2023-11-09T00:00:00.000000000",
          "2023-11-10T00:00:00.000000000",
          "2023-11-11T00:00:00.000000000",
          "2023-11-12T00:00:00.000000000",
          "2023-11-13T00:00:00.000000000",
          "2023-11-14T00:00:00.000000000",
          "2023-11-15T00:00:00.000000000",
          "2023-11-16T00:00:00.000000000",
          "2023-11-17T00:00:00.000000000",
          "2023-11-18T00:00:00.000000000",
          "2023-11-19T00:00:00.000000000",
          "2023-11-20T00:00:00.000000000",
          "2023-11-21T00:00:00.000000000",
          "2023-11-22T00:00:00.000000000",
          "2023-11-23T00:00:00.000000000",
          "2023-11-24T00:00:00.000000000",
          "2023-11-25T00:00:00.000000000",
          "2023-11-26T00:00:00.000000000",
          "2023-11-27T00:00:00.000000000",
          "2023-11-28T00:00:00.000000000",
          "2023-11-29T00:00:00.000000000",
          "2023-11-30T00:00:00.000000000",
          "2023-12-01T00:00:00.000000000",
          "2023-12-02T00:00:00.000000000",
          "2023-12-03T00:00:00.000000000",
          "2023-12-04T00:00:00.000000000",
          "2023-12-05T00:00:00.000000000",
          "2023-12-06T00:00:00.000000000",
          "2023-12-07T00:00:00.000000000",
          "2023-12-08T00:00:00.000000000",
          "2023-12-09T00:00:00.000000000",
          "2023-12-10T00:00:00.000000000",
          "2023-12-11T00:00:00.000000000",
          "2023-12-12T00:00:00.000000000",
          "2023-12-13T00:00:00.000000000",
          "2023-12-14T00:00:00.000000000",
          "2023-12-15T00:00:00.000000000",
          "2023-12-16T00:00:00.000000000",
          "2023-12-17T00:00:00.000000000",
          "2023-12-18T00:00:00.000000000",
          "2023-12-19T00:00:00.000000000",
          "2023-12-20T00:00:00.000000000",
          "2023-12-21T00:00:00.000000000",
          "2023-12-22T00:00:00.000000000",
          "2023-12-23T00:00:00.000000000",
          "2023-12-24T00:00:00.000000000",
          "2023-12-25T00:00:00.000000000",
          "2023-12-26T00:00:00.000000000",
          "2023-12-27T00:00:00.000000000",
          "2023-12-28T00:00:00.000000000",
          "2023-12-29T00:00:00.000000000",
          "2023-12-30T00:00:00.000000000",
          "2023-12-31T00:00:00.000000000",
          "2024-01-01T00:00:00.000000000",
          "2024-01-02T00:00:00.000000000",
          "2024-01-03T00:00:00.000000000",
          "2024-01-04T00:00:00.000000000",
          "2024-01-05T00:00:00.000000000",
          "2024-01-06T00:00:00.000000000",
          "2024-01-07T00:00:00.000000000",
          "2024-01-08T00:00:00.000000000",
          "2024-01-09T00:00:00.000000000",
          "2024-01-10T00:00:00.000000000",
          "2024-01-11T00:00:00.000000000",
          "2024-01-12T00:00:00.000000000",
          "2024-01-13T00:00:00.000000000",
          "2024-01-14T00:00:00.000000000",
          "2024-01-15T00:00:00.000000000",
          "2024-01-16T00:00:00.000000000",
          "2024-01-17T00:00:00.000000000",
          "2024-01-18T00:00:00.000000000",
          "2024-01-19T00:00:00.000000000",
          "2024-01-20T00:00:00.000000000",
          "2024-01-21T00:00:00.000000000",
          "2024-01-22T00:00:00.000000000",
          "2024-01-23T00:00:00.000000000",
          "2024-01-24T00:00:00.000000000",
          "2024-01-25T00:00:00.000000000",
          "2024-01-26T00:00:00.000000000",
          "2024-01-27T00:00:00.000000000",
          "2024-01-28T00:00:00.000000000",
          "2024-01-29T00:00:00.000000000",
          "2024-01-30T00:00:00.000000000",
          "2024-01-31T00:00:00.000000000",
          "2024-02-01T00:00:00.000000000",
          "2024-02-02T00:00:00.000000000",
          "2024-02-03T00:00:00.000000000",
          "2024-02-04T00:00:00.000000000",
          "2024-02-05T00:00:00.000000000",
          "2024-02-06T00:00:00.000000000",
          "2024-02-07T00:00:00.000000000",
          "2024-02-08T00:00:00.000000000",
          "2024-02-09T00:00:00.000000000",
          "2024-02-10T00:00:00.000000000",
          "2024-02-11T00:00:00.000000000",
          "2024-02-12T00:00:00.000000000",
          "2024-02-13T00:00:00.000000000",
          "2024-02-14T00:00:00.000000000",
          "2024-02-15T00:00:00.000000000",
          "2024-02-16T00:00:00.000000000",
          "2024-02-17T00:00:00.000000000",
          "2024-02-18T00:00:00.000000000",
          "2024-02-19T00:00:00.000000000",
          "2024-02-20T00:00:00.000000000",
          "2024-02-21T00:00:00.000000000",
          "2024-02-22T00:00:00.000000000",
          "2024-02-23T00:00:00.000000000",
          "2024-02-24T00:00:00.000000000",
          "2024-02-25T00:00:00.000000000",
          "2024-02-26T00:00:00.000000000",
          "2024-02-27T00:00:00.000000000",
          "2024-02-28T00:00:00.000000000",
          "2024-02-29T00:00:00.000000000",
          "2024-03-01T00:00:00.000000000",
          "2024-03-02T00:00:00.000000000",
          "2024-03-03T00:00:00.000000000",
          "2024-03-04T00:00:00.000000000",
          "2024-03-05T00:00:00.000000000",
          "2024-03-06T00:00:00.000000000",
          "2024-03-07T00:00:00.000000000",
          "2024-03-08T00:00:00.000000000",
          "2024-03-09T00:00:00.000000000",
          "2024-03-10T00:00:00.000000000",
          "2024-03-11T00:00:00.000000000",
          "2024-03-12T00:00:00.000000000",
          "2024-03-13T00:00:00.000000000",
          "2024-03-14T00:00:00.000000000",
          "2024-03-15T00:00:00.000000000",
          "2024-03-16T00:00:00.000000000",
          "2024-03-17T00:00:00.000000000",
          "2024-03-18T00:00:00.000000000",
          "2024-03-19T00:00:00.000000000",
          "2024-03-20T00:00:00.000000000",
          "2024-03-21T00:00:00.000000000",
          "2024-03-22T00:00:00.000000000",
          "2024-03-23T00:00:00.000000000",
          "2024-03-24T00:00:00.000000000",
          "2024-03-25T00:00:00.000000000",
          "2024-03-26T00:00:00.000000000",
          "2024-03-27T00:00:00.000000000",
          "2024-03-28T00:00:00.000000000",
          "2024-03-29T00:00:00.000000000",
          "2024-03-30T00:00:00.000000000",
          "2024-03-31T00:00:00.000000000",
          "2024-04-01T00:00:00.000000000",
          "2024-04-02T00:00:00.000000000",
          "2024-04-03T00:00:00.000000000",
          "2024-04-04T00:00:00.000000000",
          "2024-04-05T00:00:00.000000000",
          "2024-04-06T00:00:00.000000000",
          "2024-04-07T00:00:00.000000000",
          "2024-04-08T00:00:00.000000000",
          "2024-04-09T00:00:00.000000000",
          "2024-04-10T00:00:00.000000000",
          "2024-04-11T00:00:00.000000000",
          "2024-04-12T00:00:00.000000000",
          "2024-04-13T00:00:00.000000000",
          "2024-04-14T00:00:00.000000000",
          "2024-04-15T00:00:00.000000000",
          "2024-04-16T00:00:00.000000000",
          "2024-04-17T00:00:00.000000000",
          "2024-04-18T00:00:00.000000000",
          "2024-04-19T00:00:00.000000000",
          "2024-04-20T00:00:00.000000000",
          "2024-04-21T00:00:00.000000000",
          "2024-04-22T00:00:00.000000000",
          "2024-04-23T00:00:00.000000000",
          "2024-04-24T00:00:00.000000000",
          "2024-04-25T00:00:00.000000000",
          "2024-04-26T00:00:00.000000000",
          "2024-04-27T00:00:00.000000000",
          "2024-04-28T00:00:00.000000000",
          "2024-04-29T00:00:00.000000000",
          "2024-04-30T00:00:00.000000000",
          "2024-05-01T00:00:00.000000000",
          "2024-05-02T00:00:00.000000000",
          "2024-05-03T00:00:00.000000000",
          "2024-05-04T00:00:00.000000000",
          "2024-05-05T00:00:00.000000000",
          "2024-05-06T00:00:00.000000000",
          "2024-05-07T00:00:00.000000000",
          "2024-05-08T00:00:00.000000000",
          "2024-05-09T00:00:00.000000000",
          "2024-05-10T00:00:00.000000000",
          "2024-05-11T00:00:00.000000000",
          "2024-05-12T00:00:00.000000000",
          "2024-05-13T00:00:00.000000000",
          "2024-05-14T00:00:00.000000000",
          "2024-05-15T00:00:00.000000000",
          "2024-05-16T00:00:00.000000000",
          "2024-05-17T00:00:00.000000000",
          "2024-05-18T00:00:00.000000000",
          "2024-05-19T00:00:00.000000000",
          "2024-05-20T00:00:00.000000000",
          "2024-05-21T00:00:00.000000000",
          "2024-05-22T00:00:00.000000000",
          "2024-05-23T00:00:00.000000000",
          "2024-05-24T00:00:00.000000000",
          "2024-05-25T00:00:00.000000000",
          "2024-05-26T00:00:00.000000000",
          "2024-05-27T00:00:00.000000000",
          "2024-05-28T00:00:00.000000000",
          "2024-05-29T00:00:00.000000000",
          "2024-05-30T00:00:00.000000000",
          "2024-05-31T00:00:00.000000000",
          "2024-06-01T00:00:00.000000000",
          "2024-06-02T00:00:00.000000000",
          "2024-06-03T00:00:00.000000000",
          "2024-06-04T00:00:00.000000000",
          "2024-06-05T00:00:00.000000000",
          "2024-06-06T00:00:00.000000000",
          "2024-06-07T00:00:00.000000000",
          "2024-06-08T00:00:00.000000000",
          "2024-06-09T00:00:00.000000000",
          "2024-06-10T00:00:00.000000000",
          "2024-06-11T00:00:00.000000000",
          "2024-06-12T00:00:00.000000000",
          "2024-06-13T00:00:00.000000000",
          "2024-06-14T00:00:00.000000000",
          "2024-06-15T00:00:00.000000000",
          "2024-06-16T00:00:00.000000000",
          "2024-06-17T00:00:00.000000000",
          "2024-06-18T00:00:00.000000000",
          "2024-06-19T00:00:00.000000000",
          "2024-06-20T00:00:00.000000000",
          "2024-06-21T00:00:00.000000000",
          "2024-06-22T00:00:00.000000000",
          "2024-06-23T00:00:00.000000000",
          "2024-06-24T00:00:00.000000000",
          "2024-06-25T00:00:00.000000000",
          "2024-06-26T00:00:00.000000000",
          "2024-06-27T00:00:00.000000000",
          "2024-06-28T00:00:00.000000000",
          "2024-06-29T00:00:00.000000000",
          "2024-06-30T00:00:00.000000000",
          "2024-07-01T00:00:00.000000000",
          "2024-07-02T00:00:00.000000000",
          "2024-07-03T00:00:00.000000000",
          "2024-07-04T00:00:00.000000000",
          "2024-07-05T00:00:00.000000000",
          "2024-07-06T00:00:00.000000000",
          "2024-07-07T00:00:00.000000000",
          "2024-07-08T00:00:00.000000000",
          "2024-07-09T00:00:00.000000000",
          "2024-07-10T00:00:00.000000000",
          "2024-07-11T00:00:00.000000000",
          "2024-07-12T00:00:00.000000000",
          "2024-07-13T00:00:00.000000000",
          "2024-07-14T00:00:00.000000000",
          "2024-07-15T00:00:00.000000000",
          "2024-07-16T00:00:00.000000000",
          "2024-07-17T00:00:00.000000000",
          "2024-07-18T00:00:00.000000000",
          "2024-07-19T00:00:00.000000000",
          "2024-07-20T00:00:00.000000000",
          "2024-07-21T00:00:00.000000000",
          "2024-07-22T00:00:00.000000000",
          "2024-07-23T00:00:00.000000000",
          "2024-07-24T00:00:00.000000000",
          "2024-07-25T00:00:00.000000000",
          "2024-07-26T00:00:00.000000000",
          "2024-07-27T00:00:00.000000000",
          "2024-07-28T00:00:00.000000000",
          "2024-07-29T00:00:00.000000000",
          "2024-07-30T00:00:00.000000000",
          "2024-07-31T00:00:00.000000000",
          "2024-08-01T00:00:00.000000000",
          "2024-08-02T00:00:00.000000000",
          "2024-08-03T00:00:00.000000000",
          "2024-08-04T00:00:00.000000000",
          "2024-08-05T00:00:00.000000000",
          "2024-08-06T00:00:00.000000000",
          "2024-08-07T00:00:00.000000000",
          "2024-08-08T00:00:00.000000000",
          "2024-08-09T00:00:00.000000000",
          "2024-08-10T00:00:00.000000000",
          "2024-08-11T00:00:00.000000000",
          "2024-08-12T00:00:00.000000000",
          "2024-08-13T00:00:00.000000000",
          "2024-08-14T00:00:00.000000000",
          "2024-08-15T00:00:00.000000000",
          "2024-08-16T00:00:00.000000000",
          "2024-08-17T00:00:00.000000000",
          "2024-08-18T00:00:00.000000000",
          "2024-08-19T00:00:00.000000000",
          "2024-08-20T00:00:00.000000000",
          "2024-08-21T00:00:00.000000000",
          "2024-08-22T00:00:00.000000000",
          "2024-08-23T00:00:00.000000000",
          "2024-08-24T00:00:00.000000000",
          "2024-08-25T00:00:00.000000000",
          "2024-08-26T00:00:00.000000000",
          "2024-08-27T00:00:00.000000000",
          "2024-08-28T00:00:00.000000000",
          "2024-08-29T00:00:00.000000000",
          "2024-08-30T00:00:00.000000000",
          "2024-08-31T00:00:00.000000000",
          "2024-09-01T00:00:00.000000000",
          "2024-09-02T00:00:00.000000000",
          "2024-09-03T00:00:00.000000000",
          "2024-09-04T00:00:00.000000000",
          "2024-09-05T00:00:00.000000000",
          "2024-09-06T00:00:00.000000000",
          "2024-09-07T00:00:00.000000000",
          "2024-09-08T00:00:00.000000000",
          "2024-09-09T00:00:00.000000000",
          "2024-09-10T00:00:00.000000000",
          "2024-09-11T00:00:00.000000000",
          "2024-09-12T00:00:00.000000000",
          "2024-09-13T00:00:00.000000000",
          "2024-09-14T00:00:00.000000000",
          "2024-09-15T00:00:00.000000000",
          "2024-09-16T00:00:00.000000000",
          "2024-09-17T00:00:00.000000000",
          "2024-09-18T00:00:00.000000000",
          "2024-09-19T00:00:00.000000000",
          "2024-09-20T00:00:00.000000000",
          "2024-09-21T00:00:00.000000000",
          "2024-09-22T00:00:00.000000000",
          "2024-09-23T00:00:00.000000000",
          "2024-09-24T00:00:00.000000000",
          "2024-09-25T00:00:00.000000000",
          "2024-09-26T00:00:00.000000000",
          "2024-09-27T00:00:00.000000000",
          "2024-09-28T00:00:00.000000000",
          "2024-09-29T00:00:00.000000000",
          "2024-09-30T00:00:00.000000000",
          "2024-10-01T00:00:00.000000000",
          "2024-10-02T00:00:00.000000000",
          "2024-10-03T00:00:00.000000000",
          "2024-10-04T00:00:00.000000000",
          "2024-10-05T00:00:00.000000000",
          "2024-10-06T00:00:00.000000000",
          "2024-10-07T00:00:00.000000000",
          "2024-10-08T00:00:00.000000000",
          "2024-10-09T00:00:00.000000000",
          "2024-10-10T00:00:00.000000000",
          "2024-10-11T00:00:00.000000000",
          "2024-10-12T00:00:00.000000000",
          "2024-10-13T00:00:00.000000000",
          "2024-10-14T00:00:00.000000000",
          "2024-10-15T00:00:00.000000000",
          "2024-10-16T00:00:00.000000000",
          "2024-10-17T00:00:00.000000000",
          "2024-10-18T00:00:00.000000000",
          "2024-10-19T00:00:00.000000000",
          "2024-10-20T00:00:00.000000000",
          "2024-10-21T00:00:00.000000000",
          "2024-10-22T00:00:00.000000000",
          "2024-10-23T00:00:00.000000000",
          "2024-10-24T00:00:00.000000000",
          "2024-10-25T00:00:00.000000000",
          "2024-10-26T00:00:00.000000000",
          "2024-10-27T00:00:00.000000000",
          "2024-10-28T00:00:00.000000000",
          "2024-10-29T00:00:00.000000000",
          "2024-10-30T00:00:00.000000000",
          "2024-10-31T00:00:00.000000000",
          "2024-11-01T00:00:00.000000000",
          "2024-11-02T00:00:00.000000000",
          "2024-11-03T00:00:00.000000000",
          "2024-11-04T00:00:00.000000000",
          "2024-11-05T00:00:00.000000000",
          "2024-11-06T00:00:00.000000000",
          "2024-11-07T00:00:00.000000000",
          "2024-11-08T00:00:00.000000000",
          "2024-11-09T00:00:00.000000000",
          "2024-11-10T00:00:00.000000000",
          "2024-11-11T00:00:00.000000000",
          "2024-11-12T00:00:00.000000000",
          "2024-11-13T00:00:00.000000000",
          "2024-11-14T00:00:00.000000000",
          "2024-11-15T00:00:00.000000000",
          "2024-11-16T00:00:00.000000000",
          "2024-11-17T00:00:00.000000000",
          "2024-11-18T00:00:00.000000000",
          "2024-11-19T00:00:00.000000000",
          "2024-11-20T00:00:00.000000000",
          "2024-11-21T00:00:00.000000000",
          "2024-11-22T00:00:00.000000000",
          "2024-11-23T00:00:00.000000000",
          "2024-11-24T00:00:00.000000000",
          "2024-11-25T00:00:00.000000000",
          "2024-11-26T00:00:00.000000000",
          "2024-11-27T00:00:00.000000000",
          "2024-11-28T00:00:00.000000000",
          "2024-11-29T00:00:00.000000000",
          "2024-11-30T00:00:00.000000000",
          "2024-12-01T00:00:00.000000000",
          "2024-12-02T00:00:00.000000000",
          "2024-12-03T00:00:00.000000000",
          "2024-12-04T00:00:00.000000000",
          "2024-12-05T00:00:00.000000000",
          "2024-12-06T00:00:00.000000000",
          "2024-12-07T00:00:00.000000000",
          "2024-12-08T00:00:00.000000000",
          "2024-12-09T00:00:00.000000000",
          "2024-12-10T00:00:00.000000000",
          "2024-12-11T00:00:00.000000000",
          "2024-12-12T00:00:00.000000000",
          "2024-12-13T00:00:00.000000000",
          "2024-12-14T00:00:00.000000000",
          "2024-12-15T00:00:00.000000000",
          "2024-12-16T00:00:00.000000000",
          "2024-12-17T00:00:00.000000000",
          "2024-12-18T00:00:00.000000000",
          "2024-12-19T00:00:00.000000000",
          "2024-12-20T00:00:00.000000000",
          "2024-12-21T00:00:00.000000000",
          "2024-12-22T00:00:00.000000000",
          "2024-12-23T00:00:00.000000000",
          "2024-12-24T00:00:00.000000000",
          "2024-12-25T00:00:00.000000000",
          "2024-12-26T00:00:00.000000000",
          "2024-12-27T00:00:00.000000000",
          "2024-12-28T00:00:00.000000000",
          "2024-12-29T00:00:00.000000000",
          "2024-12-30T00:00:00.000000000",
          "2024-12-31T00:00:00.000000000",
          "2025-01-01T00:00:00.000000000",
          "2025-01-02T00:00:00.000000000",
          "2025-01-03T00:00:00.000000000",
          "2025-01-04T00:00:00.000000000",
          "2025-01-05T00:00:00.000000000",
          "2025-01-06T00:00:00.000000000",
          "2025-01-07T00:00:00.000000000",
          "2025-01-08T00:00:00.000000000",
          "2025-01-09T00:00:00.000000000",
          "2025-01-10T00:00:00.000000000",
          "2025-01-11T00:00:00.000000000",
          "2025-01-12T00:00:00.000000000",
          "2025-01-13T00:00:00.000000000",
          "2025-01-14T00:00:00.000000000",
          "2025-01-15T00:00:00.000000000",
          "2025-01-16T00:00:00.000000000",
          "2025-01-17T00:00:00.000000000",
          "2025-01-18T00:00:00.000000000",
          "2025-01-19T00:00:00.000000000",
          "2025-01-20T00:00:00.000000000",
          "2025-01-21T00:00:00.000000000",
          "2025-01-22T00:00:00.000000000",
          "2025-01-23T00:00:00.000000000",
          "2025-01-24T00:00:00.000000000",
          "2025-01-25T00:00:00.000000000",
          "2025-01-26T00:00:00.000000000",
          "2025-01-27T00:00:00.000000000",
          "2025-01-28T00:00:00.000000000",
          "2025-01-29T00:00:00.000000000",
          "2025-01-30T00:00:00.000000000",
          "2025-01-31T00:00:00.000000000",
          "2025-02-01T00:00:00.000000000",
          "2025-02-02T00:00:00.000000000",
          "2025-02-03T00:00:00.000000000",
          "2025-02-04T00:00:00.000000000",
          "2025-02-05T00:00:00.000000000",
          "2025-02-06T00:00:00.000000000",
          "2025-02-07T00:00:00.000000000",
          "2025-02-08T00:00:00.000000000",
          "2025-02-09T00:00:00.000000000",
          "2025-02-10T00:00:00.000000000",
          "2025-02-11T00:00:00.000000000",
          "2025-02-12T00:00:00.000000000",
          "2025-02-13T00:00:00.000000000",
          "2025-02-14T00:00:00.000000000",
          "2025-02-15T00:00:00.000000000",
          "2025-02-16T00:00:00.000000000",
          "2025-02-17T00:00:00.000000000",
          "2025-02-18T00:00:00.000000000",
          "2025-02-19T00:00:00.000000000",
          "2025-02-20T00:00:00.000000000",
          "2025-02-21T00:00:00.000000000",
          "2025-02-22T00:00:00.000000000",
          "2025-02-23T00:00:00.000000000",
          "2025-02-24T00:00:00.000000000",
          "2025-02-25T00:00:00.000000000",
          "2025-02-26T00:00:00.000000000",
          "2025-02-27T00:00:00.000000000",
          "2025-02-28T00:00:00.000000000",
          "2025-03-01T00:00:00.000000000",
          "2025-03-02T00:00:00.000000000",
          "2025-03-03T00:00:00.000000000",
          "2025-03-04T00:00:00.000000000",
          "2025-03-05T00:00:00.000000000",
          "2025-03-06T00:00:00.000000000",
          "2025-03-07T00:00:00.000000000",
          "2025-03-08T00:00:00.000000000",
          "2025-03-09T00:00:00.000000000",
          "2025-03-10T00:00:00.000000000",
          "2025-03-11T00:00:00.000000000",
          "2025-03-12T00:00:00.000000000",
          "2025-03-13T00:00:00.000000000",
          "2025-03-14T00:00:00.000000000",
          "2025-03-15T00:00:00.000000000",
          "2025-03-16T00:00:00.000000000",
          "2025-03-17T00:00:00.000000000",
          "2025-03-18T00:00:00.000000000",
          "2025-03-19T00:00:00.000000000",
          "2025-03-20T00:00:00.000000000",
          "2025-03-21T00:00:00.000000000",
          "2025-03-22T00:00:00.000000000",
          "2025-03-23T00:00:00.000000000",
          "2025-03-24T00:00:00.000000000",
          "2025-03-25T00:00:00.000000000",
          "2025-03-26T00:00:00.000000000",
          "2025-03-27T00:00:00.000000000",
          "2025-03-28T00:00:00.000000000",
          "2025-03-29T00:00:00.000000000",
          "2025-03-30T00:00:00.000000000",
          "2025-03-31T00:00:00.000000000",
          "2025-04-01T00:00:00.000000000",
          "2025-04-02T00:00:00.000000000",
          "2025-04-03T00:00:00.000000000"
         ],
         "xaxis": "x",
         "y": {
          "bdata": "CgIAAAAAAAAAAAAAAAAAAAAAAAAAAAAAAAAAAAABAAAAAAAAAAAAAAAAAAAAAAAAAAAAAAAAAAAAAAAAAAAAAAAAAAAAAAAAAAAAAAABAAAAAAAAAAAAAAAAAAAAAAAAAAAAAAAAAAAAAAAAAAAAAAAAAAAAAAAAAAAAAAACAAAAAAAAAAAAAAAAAAEAAAAAAAAAAAAAAAAAAAAAAAABAAABAAAAAAAAAAAAAAAAAAAAAQAAAAAAAAAAAAABAAAAAAAAAAAAAAAAAAAAAAAAAQAAAQAAAAAAAQAAAAMCAAEBAAAAAAAAAgAAAAAAAQAAAAAAAAAAAAAAAAEAAQAAAAAAAAAAAQAAAQAAAAEAAAAAAAAAAAAAAAAAAAEAAwEAAAAAAAAAAAAAAAAAAAAAAAAAAAAAAAAAAAAAAAAAAAAAAAAAAAAAAAAAAQAAAAAAAAAAAAAAAAAAAAAAAAEBBgMBAAAAAAAABgEFAAAAAQAAAQAAAAAAAAAAAAEBAAADBAABAAABAAEAAQADAQAAAAAAAAAAAQMBAgAAAQMCBAEBAQEAAwABAAADAgACCwAAAAEAAAADAAICAAIFAAEBAgEAAQABAAACEAQCBQUABQQDAQADAwIAAQECAAEAAQEBAQIBAQECAAEAAAAAAQEAAAEAAQAAAAAAAAAAAAAAAAAAAAEAAAIEASQECAMCAQEAAAECAQAAAQAAAAAAAAICBAEBAQAAAQAAAAAAAAAGAQABAQABAAAAAAABAAABAAIBAAEBAQEBAAABAAEAAAABAAAAAwIBAAAAAAAAAAAAAAABAAAAAAAAAAEAAAAAAQMAAAAAAAAAAQEBAAEAAAEAAQAAAAAAAAAAAgAAAAIAAAAAAAMAAAAAAAEBAgEAAQAAAQEAAQEBAAAAAAYDBAQCAAABAAEAAAAAAAAAAQACAAEAAAIAAgAAAQABAAAAAgEBDAkAAAAAAQADAAMBBwcBAAAAAAABAQAAAAAAAgQCAwEEAgMDAAIBAAEBAwIAAwAFAAEBAwYDAQEECAEDAwQBAAIAAAEAAAEBAwEBAAEEAgECAwACAQAAAQAAAAIAAQADBAIBABMdAwEAAQEAAAAAAAAAAAAAAAAAAAAAAAEBAwMAAQACAAECAAABAAEAAAMBAAAAAAAAAAAAAgEAAAABAAAAAQABAAAAAAAAAAAAAAAAAAABAAAAAAABDAcCAAAAAQACAQAAAAAAAAEAAAMAAAEAAQAAAAAAAAAABAEDAQABAAEBAQABAAACAAACAAAAAgEAAAEAAAQAAQAAAAAAAQEAAAAAAgEAAQECAAIBAQAABAACAgIaBgsCAAMBAgAAAAECAAEBAAAEBQQCAQQFAwIBAAECARYCBAABAgsUCQICAQIDAQsFCQkLHgYIBhUEGBsFAyEZKC9GDAoRNwwEEBs0HDUiHQ==",
          "dtype": "i1"
         },
         "yaxis": "y"
        }
       ],
       "layout": {
        "legend": {
         "tracegroupgap": 0
        },
        "template": {
         "data": {
          "bar": [
           {
            "error_x": {
             "color": "#2a3f5f"
            },
            "error_y": {
             "color": "#2a3f5f"
            },
            "marker": {
             "line": {
              "color": "#E5ECF6",
              "width": 0.5
             },
             "pattern": {
              "fillmode": "overlay",
              "size": 10,
              "solidity": 0.2
             }
            },
            "type": "bar"
           }
          ],
          "barpolar": [
           {
            "marker": {
             "line": {
              "color": "#E5ECF6",
              "width": 0.5
             },
             "pattern": {
              "fillmode": "overlay",
              "size": 10,
              "solidity": 0.2
             }
            },
            "type": "barpolar"
           }
          ],
          "carpet": [
           {
            "aaxis": {
             "endlinecolor": "#2a3f5f",
             "gridcolor": "white",
             "linecolor": "white",
             "minorgridcolor": "white",
             "startlinecolor": "#2a3f5f"
            },
            "baxis": {
             "endlinecolor": "#2a3f5f",
             "gridcolor": "white",
             "linecolor": "white",
             "minorgridcolor": "white",
             "startlinecolor": "#2a3f5f"
            },
            "type": "carpet"
           }
          ],
          "choropleth": [
           {
            "colorbar": {
             "outlinewidth": 0,
             "ticks": ""
            },
            "type": "choropleth"
           }
          ],
          "contour": [
           {
            "colorbar": {
             "outlinewidth": 0,
             "ticks": ""
            },
            "colorscale": [
             [
              0,
              "#0d0887"
             ],
             [
              0.1111111111111111,
              "#46039f"
             ],
             [
              0.2222222222222222,
              "#7201a8"
             ],
             [
              0.3333333333333333,
              "#9c179e"
             ],
             [
              0.4444444444444444,
              "#bd3786"
             ],
             [
              0.5555555555555556,
              "#d8576b"
             ],
             [
              0.6666666666666666,
              "#ed7953"
             ],
             [
              0.7777777777777778,
              "#fb9f3a"
             ],
             [
              0.8888888888888888,
              "#fdca26"
             ],
             [
              1,
              "#f0f921"
             ]
            ],
            "type": "contour"
           }
          ],
          "contourcarpet": [
           {
            "colorbar": {
             "outlinewidth": 0,
             "ticks": ""
            },
            "type": "contourcarpet"
           }
          ],
          "heatmap": [
           {
            "colorbar": {
             "outlinewidth": 0,
             "ticks": ""
            },
            "colorscale": [
             [
              0,
              "#0d0887"
             ],
             [
              0.1111111111111111,
              "#46039f"
             ],
             [
              0.2222222222222222,
              "#7201a8"
             ],
             [
              0.3333333333333333,
              "#9c179e"
             ],
             [
              0.4444444444444444,
              "#bd3786"
             ],
             [
              0.5555555555555556,
              "#d8576b"
             ],
             [
              0.6666666666666666,
              "#ed7953"
             ],
             [
              0.7777777777777778,
              "#fb9f3a"
             ],
             [
              0.8888888888888888,
              "#fdca26"
             ],
             [
              1,
              "#f0f921"
             ]
            ],
            "type": "heatmap"
           }
          ],
          "histogram": [
           {
            "marker": {
             "pattern": {
              "fillmode": "overlay",
              "size": 10,
              "solidity": 0.2
             }
            },
            "type": "histogram"
           }
          ],
          "histogram2d": [
           {
            "colorbar": {
             "outlinewidth": 0,
             "ticks": ""
            },
            "colorscale": [
             [
              0,
              "#0d0887"
             ],
             [
              0.1111111111111111,
              "#46039f"
             ],
             [
              0.2222222222222222,
              "#7201a8"
             ],
             [
              0.3333333333333333,
              "#9c179e"
             ],
             [
              0.4444444444444444,
              "#bd3786"
             ],
             [
              0.5555555555555556,
              "#d8576b"
             ],
             [
              0.6666666666666666,
              "#ed7953"
             ],
             [
              0.7777777777777778,
              "#fb9f3a"
             ],
             [
              0.8888888888888888,
              "#fdca26"
             ],
             [
              1,
              "#f0f921"
             ]
            ],
            "type": "histogram2d"
           }
          ],
          "histogram2dcontour": [
           {
            "colorbar": {
             "outlinewidth": 0,
             "ticks": ""
            },
            "colorscale": [
             [
              0,
              "#0d0887"
             ],
             [
              0.1111111111111111,
              "#46039f"
             ],
             [
              0.2222222222222222,
              "#7201a8"
             ],
             [
              0.3333333333333333,
              "#9c179e"
             ],
             [
              0.4444444444444444,
              "#bd3786"
             ],
             [
              0.5555555555555556,
              "#d8576b"
             ],
             [
              0.6666666666666666,
              "#ed7953"
             ],
             [
              0.7777777777777778,
              "#fb9f3a"
             ],
             [
              0.8888888888888888,
              "#fdca26"
             ],
             [
              1,
              "#f0f921"
             ]
            ],
            "type": "histogram2dcontour"
           }
          ],
          "mesh3d": [
           {
            "colorbar": {
             "outlinewidth": 0,
             "ticks": ""
            },
            "type": "mesh3d"
           }
          ],
          "parcoords": [
           {
            "line": {
             "colorbar": {
              "outlinewidth": 0,
              "ticks": ""
             }
            },
            "type": "parcoords"
           }
          ],
          "pie": [
           {
            "automargin": true,
            "type": "pie"
           }
          ],
          "scatter": [
           {
            "fillpattern": {
             "fillmode": "overlay",
             "size": 10,
             "solidity": 0.2
            },
            "type": "scatter"
           }
          ],
          "scatter3d": [
           {
            "line": {
             "colorbar": {
              "outlinewidth": 0,
              "ticks": ""
             }
            },
            "marker": {
             "colorbar": {
              "outlinewidth": 0,
              "ticks": ""
             }
            },
            "type": "scatter3d"
           }
          ],
          "scattercarpet": [
           {
            "marker": {
             "colorbar": {
              "outlinewidth": 0,
              "ticks": ""
             }
            },
            "type": "scattercarpet"
           }
          ],
          "scattergeo": [
           {
            "marker": {
             "colorbar": {
              "outlinewidth": 0,
              "ticks": ""
             }
            },
            "type": "scattergeo"
           }
          ],
          "scattergl": [
           {
            "marker": {
             "colorbar": {
              "outlinewidth": 0,
              "ticks": ""
             }
            },
            "type": "scattergl"
           }
          ],
          "scattermap": [
           {
            "marker": {
             "colorbar": {
              "outlinewidth": 0,
              "ticks": ""
             }
            },
            "type": "scattermap"
           }
          ],
          "scattermapbox": [
           {
            "marker": {
             "colorbar": {
              "outlinewidth": 0,
              "ticks": ""
             }
            },
            "type": "scattermapbox"
           }
          ],
          "scatterpolar": [
           {
            "marker": {
             "colorbar": {
              "outlinewidth": 0,
              "ticks": ""
             }
            },
            "type": "scatterpolar"
           }
          ],
          "scatterpolargl": [
           {
            "marker": {
             "colorbar": {
              "outlinewidth": 0,
              "ticks": ""
             }
            },
            "type": "scatterpolargl"
           }
          ],
          "scatterternary": [
           {
            "marker": {
             "colorbar": {
              "outlinewidth": 0,
              "ticks": ""
             }
            },
            "type": "scatterternary"
           }
          ],
          "surface": [
           {
            "colorbar": {
             "outlinewidth": 0,
             "ticks": ""
            },
            "colorscale": [
             [
              0,
              "#0d0887"
             ],
             [
              0.1111111111111111,
              "#46039f"
             ],
             [
              0.2222222222222222,
              "#7201a8"
             ],
             [
              0.3333333333333333,
              "#9c179e"
             ],
             [
              0.4444444444444444,
              "#bd3786"
             ],
             [
              0.5555555555555556,
              "#d8576b"
             ],
             [
              0.6666666666666666,
              "#ed7953"
             ],
             [
              0.7777777777777778,
              "#fb9f3a"
             ],
             [
              0.8888888888888888,
              "#fdca26"
             ],
             [
              1,
              "#f0f921"
             ]
            ],
            "type": "surface"
           }
          ],
          "table": [
           {
            "cells": {
             "fill": {
              "color": "#EBF0F8"
             },
             "line": {
              "color": "white"
             }
            },
            "header": {
             "fill": {
              "color": "#C8D4E3"
             },
             "line": {
              "color": "white"
             }
            },
            "type": "table"
           }
          ]
         },
         "layout": {
          "annotationdefaults": {
           "arrowcolor": "#2a3f5f",
           "arrowhead": 0,
           "arrowwidth": 1
          },
          "autotypenumbers": "strict",
          "coloraxis": {
           "colorbar": {
            "outlinewidth": 0,
            "ticks": ""
           }
          },
          "colorscale": {
           "diverging": [
            [
             0,
             "#8e0152"
            ],
            [
             0.1,
             "#c51b7d"
            ],
            [
             0.2,
             "#de77ae"
            ],
            [
             0.3,
             "#f1b6da"
            ],
            [
             0.4,
             "#fde0ef"
            ],
            [
             0.5,
             "#f7f7f7"
            ],
            [
             0.6,
             "#e6f5d0"
            ],
            [
             0.7,
             "#b8e186"
            ],
            [
             0.8,
             "#7fbc41"
            ],
            [
             0.9,
             "#4d9221"
            ],
            [
             1,
             "#276419"
            ]
           ],
           "sequential": [
            [
             0,
             "#0d0887"
            ],
            [
             0.1111111111111111,
             "#46039f"
            ],
            [
             0.2222222222222222,
             "#7201a8"
            ],
            [
             0.3333333333333333,
             "#9c179e"
            ],
            [
             0.4444444444444444,
             "#bd3786"
            ],
            [
             0.5555555555555556,
             "#d8576b"
            ],
            [
             0.6666666666666666,
             "#ed7953"
            ],
            [
             0.7777777777777778,
             "#fb9f3a"
            ],
            [
             0.8888888888888888,
             "#fdca26"
            ],
            [
             1,
             "#f0f921"
            ]
           ],
           "sequentialminus": [
            [
             0,
             "#0d0887"
            ],
            [
             0.1111111111111111,
             "#46039f"
            ],
            [
             0.2222222222222222,
             "#7201a8"
            ],
            [
             0.3333333333333333,
             "#9c179e"
            ],
            [
             0.4444444444444444,
             "#bd3786"
            ],
            [
             0.5555555555555556,
             "#d8576b"
            ],
            [
             0.6666666666666666,
             "#ed7953"
            ],
            [
             0.7777777777777778,
             "#fb9f3a"
            ],
            [
             0.8888888888888888,
             "#fdca26"
            ],
            [
             1,
             "#f0f921"
            ]
           ]
          },
          "colorway": [
           "#636efa",
           "#EF553B",
           "#00cc96",
           "#ab63fa",
           "#FFA15A",
           "#19d3f3",
           "#FF6692",
           "#B6E880",
           "#FF97FF",
           "#FECB52"
          ],
          "font": {
           "color": "#2a3f5f"
          },
          "geo": {
           "bgcolor": "white",
           "lakecolor": "white",
           "landcolor": "#E5ECF6",
           "showlakes": true,
           "showland": true,
           "subunitcolor": "white"
          },
          "hoverlabel": {
           "align": "left"
          },
          "hovermode": "closest",
          "mapbox": {
           "style": "light"
          },
          "paper_bgcolor": "white",
          "plot_bgcolor": "#E5ECF6",
          "polar": {
           "angularaxis": {
            "gridcolor": "white",
            "linecolor": "white",
            "ticks": ""
           },
           "bgcolor": "#E5ECF6",
           "radialaxis": {
            "gridcolor": "white",
            "linecolor": "white",
            "ticks": ""
           }
          },
          "scene": {
           "xaxis": {
            "backgroundcolor": "#E5ECF6",
            "gridcolor": "white",
            "gridwidth": 2,
            "linecolor": "white",
            "showbackground": true,
            "ticks": "",
            "zerolinecolor": "white"
           },
           "yaxis": {
            "backgroundcolor": "#E5ECF6",
            "gridcolor": "white",
            "gridwidth": 2,
            "linecolor": "white",
            "showbackground": true,
            "ticks": "",
            "zerolinecolor": "white"
           },
           "zaxis": {
            "backgroundcolor": "#E5ECF6",
            "gridcolor": "white",
            "gridwidth": 2,
            "linecolor": "white",
            "showbackground": true,
            "ticks": "",
            "zerolinecolor": "white"
           }
          },
          "shapedefaults": {
           "line": {
            "color": "#2a3f5f"
           }
          },
          "ternary": {
           "aaxis": {
            "gridcolor": "white",
            "linecolor": "white",
            "ticks": ""
           },
           "baxis": {
            "gridcolor": "white",
            "linecolor": "white",
            "ticks": ""
           },
           "bgcolor": "#E5ECF6",
           "caxis": {
            "gridcolor": "white",
            "linecolor": "white",
            "ticks": ""
           }
          },
          "title": {
           "x": 0.05
          },
          "xaxis": {
           "automargin": true,
           "gridcolor": "white",
           "linecolor": "white",
           "ticks": "",
           "title": {
            "standoff": 15
           },
           "zerolinecolor": "white",
           "zerolinewidth": 2
          },
          "yaxis": {
           "automargin": true,
           "gridcolor": "white",
           "linecolor": "white",
           "ticks": "",
           "title": {
            "standoff": 15
           },
           "zerolinecolor": "white",
           "zerolinewidth": 2
          }
         }
        },
        "title": {
         "text": "Evolución Temporal de los Comentarios en TikTok"
        },
        "xaxis": {
         "anchor": "y",
         "domain": [
          0,
          1
         ],
         "title": {
          "text": "Fecha"
         }
        },
        "yaxis": {
         "anchor": "x",
         "domain": [
          0,
          1
         ],
         "title": {
          "text": "Número de Comentarios"
         }
        }
       }
      }
     },
     "metadata": {},
     "output_type": "display_data"
    }
   ],
   "source": [
    "# Convertir la columna 'comment_date' a formato de fecha\n",
    "df_tik_tok_clean['comment_date'] = pd.to_datetime(df_tik_tok_clean['comment_date'], unit='s')\n",
    "\n",
    "# Agrupar los comentarios por día\n",
    "comments_per_day = df_tik_tok_clean.resample('D', on='comment_date').size().reset_index(name='count')\n",
    "\n",
    "# Crear el gráfico de líneas interactivo\n",
    "fig = px.line(comments_per_day, x='comment_date', y='count', \n",
    "              title='Evolución Temporal de los Comentarios en TikTok',\n",
    "              labels={'comment_date': 'Fecha', 'count': 'Número de Comentarios'})\n",
    "fig.update_traces(line_color='#636EFA')\n",
    "fig.update_layout(xaxis_title='Fecha', yaxis_title='Número de Comentarios')\n",
    "fig.show()"
   ]
  },
  {
   "cell_type": "code",
   "execution_count": 20,
   "metadata": {},
   "outputs": [
    {
     "name": "stdout",
     "output_type": "stream",
     "text": [
      "Las 50 palabras más comunes: [('de', 442), ('que', 411), ('no', 369), ('y', 367), ('el', 308), ('a', 284), ('la', 270), ('en', 254), ('es', 230), ('me', 214), ('lo', 187), ('si', 160), ('starbucks', 143), ('los', 137), ('yo', 136), ('por', 134), ('con', 133), ('se', 125), ('un', 103), ('pero', 99), ('ya', 92), ('mi', 91), ('para', 86), ('te', 82), ('las', 78), ('como', 59), ('café', 58), ('solo', 57), ('una', 53), ('le', 53), ('más', 52), ('está', 51), ('o', 46), ('sabe', 46), ('del', 45), ('hay', 43), ('también', 43), ('sin', 43), ('muy', 41), ('bebida', 36), ('esta', 35), ('mejor', 35), ('al', 35), ('qué', 35), ('tiene', 35), ('bebidas', 34), ('caramel', 33), ('leche', 33), ('porque', 32), ('siempre', 32)]\n"
     ]
    }
   ],
   "source": [
    "from collections import Counter\n",
    "import pandas as pd\n",
    "\n",
    "# Suponiendo que tienes un DataFrame 'df_tik_tok_clean' con una columna 'text_processed'\n",
    "all_words = ' '.join(df_tik_tok_clean['comment_text']).split()\n",
    "word_freq = Counter(all_words)\n",
    "\n",
    "# Muestra las 50 palabras más comunes\n",
    "print(\"Las 50 palabras más comunes:\", word_freq.most_common(50))"
   ]
  },
  {
   "cell_type": "code",
   "execution_count": 21,
   "metadata": {},
   "outputs": [
    {
     "data": {
      "text/plain": [
       "\"\\nfrom transformers import pipeline\\n\\n# Carga un modelo preentrenado para análisis de sentimiento\\nsentiment_pipeline = pipeline('sentiment-analysis', model='nlptown/bert-base-multilingual-uncased-sentiment')\\n\\n# Función para analizar el sentimiento\\ndef get_sentiment(text):\\n    result = sentiment_pipeline(text)[0]\\n    return result['label']  # Devuelve algo como '1 estrella' (negativo) o '5 estrellas' (positivo)\\n\\n# Aplica a tus comentarios\\ndf_tik_tok_clean['sentiment'] = df_tik_tok_clean['comment_text'].apply(lambda x: get_sentiment(x))\\n\\n# Muestra cuántos comentarios son positivos, negativos, etc.\\nprint(df_tik_tok_clean['sentiment'].value_counts())\\n\""
      ]
     },
     "execution_count": 21,
     "metadata": {},
     "output_type": "execute_result"
    }
   ],
   "source": [
    "'''\n",
    "from transformers import pipeline\n",
    "\n",
    "# Carga un modelo preentrenado para análisis de sentimiento\n",
    "sentiment_pipeline = pipeline('sentiment-analysis', model='nlptown/bert-base-multilingual-uncased-sentiment')\n",
    "\n",
    "# Función para analizar el sentimiento\n",
    "def get_sentiment(text):\n",
    "    result = sentiment_pipeline(text)[0]\n",
    "    return result['label']  # Devuelve algo como '1 estrella' (negativo) o '5 estrellas' (positivo)\n",
    "\n",
    "# Aplica a tus comentarios\n",
    "df_tik_tok_clean['sentiment'] = df_tik_tok_clean['comment_text'].apply(lambda x: get_sentiment(x))\n",
    "\n",
    "# Muestra cuántos comentarios son positivos, negativos, etc.\n",
    "print(df_tik_tok_clean['sentiment'].value_counts())\n",
    "'''"
   ]
  },
  {
   "cell_type": "markdown",
   "metadata": {},
   "source": [
    "# Clasificar datos\n",
    "## Análisis de Sentimiento de Comentarios de TikTok\n",
    "\n",
    "En este apartado del notebook, se llevó a cabo un análisis de sentimiento de los comentarios recolectados de TikTok utilizando la biblioteca `pysentimiento`, una herramienta especializada para el análisis de texto en español. A continuación, se describen detalladamente los pasos realizados para procesar los datos, clasificar los sentimientos y visualizar los resultados:\n"
   ]
  },
  {
   "cell_type": "code",
   "execution_count": 23,
   "metadata": {},
   "outputs": [],
   "source": [
    "from vaderSentiment.vaderSentiment import SentimentIntensityAnalyzer"
   ]
  },
  {
   "cell_type": "code",
   "execution_count": 22,
   "metadata": {},
   "outputs": [
    {
     "ename": "ModuleNotFoundError",
     "evalue": "No module named 'pysentimiento'",
     "output_type": "error",
     "traceback": [
      "\u001b[31m---------------------------------------------------------------------------\u001b[39m",
      "\u001b[31mModuleNotFoundError\u001b[39m                       Traceback (most recent call last)",
      "\u001b[36mCell\u001b[39m\u001b[36m \u001b[39m\u001b[32mIn[22]\u001b[39m\u001b[32m, line 1\u001b[39m\n\u001b[32m----> \u001b[39m\u001b[32m1\u001b[39m \u001b[38;5;28;01mfrom\u001b[39;00m\u001b[38;5;250m \u001b[39m\u001b[34;01mpysentimiento\u001b[39;00m\u001b[38;5;250m \u001b[39m\u001b[38;5;28;01mimport\u001b[39;00m create_analyzer\n\u001b[32m      3\u001b[39m \u001b[38;5;66;03m# Crear analizador de sentimiento para español\u001b[39;00m\n\u001b[32m      4\u001b[39m analyzer = create_analyzer(task=\u001b[33m\"\u001b[39m\u001b[33msentiment\u001b[39m\u001b[33m\"\u001b[39m, lang=\u001b[33m\"\u001b[39m\u001b[33mes\u001b[39m\u001b[33m\"\u001b[39m)\n",
      "\u001b[31mModuleNotFoundError\u001b[39m: No module named 'pysentimiento'"
     ]
    }
   ],
   "source": [
    "from pysentimiento import create_analyzer\n",
    "\n",
    "# Crear analizador de sentimiento para español\n",
    "analyzer = create_analyzer(task=\"sentiment\", lang=\"es\")"
   ]
  },
  {
   "cell_type": "markdown",
   "metadata": {},
   "source": [
    "Esta celda crea objeto llamado analyzer que será el encargado de clasificar los sentimientos en los comentarios:\n",
    "\n",
    "- create_analyzer es una función de pysentimiento que inicializa un modelo preentrenado.\n",
    "- task=\"sentiment\" indica que el objetivo es analizar sentimientos.\n",
    "- lang=\"es\" especifica que el análisis se hará en español.\n",
    "\n",
    "*Resultado*: El modelo puede clasificar un texto en tres categorías: Positivo (POS), Negativo (NEG) o Neutral (NEU). Este analizador es la herramienta principal que usaremos en la siguiente celda."
   ]
  },
  {
   "cell_type": "code",
   "execution_count": null,
   "metadata": {},
   "outputs": [],
   "source": [
    "# Función para obtener el sentimiento\n",
    "def get_sentiment(text):\n",
    "    result = analyzer.predict(text)\n",
    "    return result.output  # Devuelve 'POS', 'NEG' o 'NEU'\n",
    "\n",
    "# Aplicar la función a la columna de comentarios\n",
    "df_tik_tok_clean['sentiment'] = df_tik_tok_clean['comment_text'].apply(get_sentiment)"
   ]
  },
  {
   "cell_type": "markdown",
   "metadata": {},
   "source": [
    "Aquí se define una función para analizar el sentimiento de un texto y luego se aplica a todos los comentarios del dataframe.:\n",
    "\n",
    "get_sentiment:\n",
    "- Toma un texto como entrada (un comentario).\n",
    "- Usa analyzer.predict(text) para analizar el sentimiento.\n",
    "- Devuelve la clasificación (POS, NEG o NEU) con result.output.\n"
   ]
  },
  {
   "cell_type": "code",
   "execution_count": null,
   "metadata": {},
   "outputs": [],
   "source": [
    "# Contar la frecuencia de cada sentimiento\n",
    "sentiment_counts = df_tik_tok_clean['sentiment'].value_counts()\n",
    "\n",
    "# Crear un gráfico de barras\n",
    "plt.figure(figsize=(8, 6))\n",
    "sns.barplot(x=sentiment_counts.index, y=sentiment_counts.values, palette='viridis')\n",
    "plt.title('Distribución de Sentimientos en los Comentarios de TikTok')\n",
    "plt.xlabel('Sentimiento')\n",
    "plt.ylabel('Número de Comentarios')\n",
    "plt.show()"
   ]
  },
  {
   "cell_type": "markdown",
   "metadata": {},
   "source": [
    "## Paso 6: Análisis Exploratorio Avanzado de Sentimientos "
   ]
  },
  {
   "cell_type": "markdown",
   "metadata": {},
   "source": [
    "1. Distribución de sentimientos por longitud de comentarios\n",
    "Pregunta clave: ¿Los comentarios más largos tienden a ser más positivos, negativos o neutrales?"
   ]
  },
  {
   "cell_type": "code",
   "execution_count": null,
   "metadata": {},
   "outputs": [],
   "source": [
    "# Convertir 'comment_date' a datetime (ajusta 'unit' si es necesario)\n",
    "df_tik_tok_clean['comment_date'] = pd.to_datetime(df_tik_tok_clean['comment_date'], unit='s')\n",
    "\n",
    "# Agrupar por fecha y sentimiento, contando el número de comentarios\n",
    "sentiment_over_time = df_tik_tok_clean.groupby([df_tik_tok_clean['comment_date'].dt.date, 'sentiment']).size().reset_index(name='count')\n",
    "\n",
    "# Crear el gráfico de líneas interactivo\n",
    "fig = px.line(sentiment_over_time, x='comment_date', y='count', color='sentiment',\n",
    "              title='Evolución Temporal de los Sentimientos en Comentarios de TikTok',\n",
    "              labels={'comment_date': 'Fecha', 'count': 'Número de Comentarios', 'sentiment': 'Sentimiento'},\n",
    "              color_discrete_map={'POS': 'green', 'NEG': 'red', 'NEU': 'blue'})\n",
    "\n",
    "# Ajustar el diseño\n",
    "fig.update_layout(xaxis_title='Fecha',\n",
    "                  yaxis_title='Número de Comentarios',\n",
    "                  legend_title='Sentimiento',\n",
    "                  hovermode='x unified')\n",
    "\n",
    "# Mostrar el gráfico\n",
    "fig.show()"
   ]
  },
  {
   "cell_type": "markdown",
   "metadata": {},
   "source": [
    "2. Palabras clave en comentarios positivos y negativos\n",
    "Pregunta clave: ¿Qué palabras o temas predominan en los comentarios positivos y negativos?"
   ]
  },
  {
   "cell_type": "code",
   "execution_count": null,
   "metadata": {},
   "outputs": [],
   "source": [
    "from collections import Counter\n",
    "\n",
    "# Función para obtener las palabras más comunes por sentimiento\n",
    "def get_top_words(sentiment, n=10):\n",
    "    comments = df_tik_tok_clean[df_tik_tok_clean['sentiment'] == sentiment]['comment_text']\n",
    "    all_words = ' '.join(comments).split()\n",
    "    word_freq = Counter(all_words)\n",
    "    return word_freq.most_common(n)\n",
    "\n",
    "# Obtener palabras más frecuentes\n",
    "top_positive = get_top_words('POS')\n",
    "top_negative = get_top_words('NEG')\n",
    "\n",
    "# Mostrar resultados\n",
    "print(\"Palabras más comunes en comentarios positivos:\", top_positive)\n",
    "print(\"Palabras más comunes en comentarios negativos:\", top_negative)"
   ]
  },
  {
   "cell_type": "markdown",
   "metadata": {},
   "source": [
    "3. Evolución temporal de los sentimientos\n",
    "Pregunta clave: ¿Cómo han cambiado los sentimientos a lo largo del tiempo?"
   ]
  },
  {
   "cell_type": "code",
   "execution_count": null,
   "metadata": {},
   "outputs": [],
   "source": [
    "# Convertir la columna de fechas a formato datetime\n",
    "df_tik_tok_clean['comment_date'] = pd.to_datetime(df_tik_tok_clean['comment_date'], unit='s')\n",
    "\n",
    "# Agrupar por día y sentimiento\n",
    "sentiment_over_time = df_tik_tok_clean.groupby([df_tik_tok_clean['comment_date'].dt.date, 'sentiment']).size().unstack(fill_value=0)\n",
    "\n",
    "# Crear gráfico de líneas\n",
    "plt.figure(figsize=(12, 6))\n",
    "sentiment_over_time.plot(kind='line')\n",
    "plt.title('Evolución Temporal de los Sentimientos en Comentarios de TikTok')\n",
    "plt.xlabel('Fecha')\n",
    "plt.ylabel('Número de Comentarios')\n",
    "plt.show()"
   ]
  },
  {
   "cell_type": "markdown",
   "metadata": {},
   "source": [
    "4. Análisis de comentarios neutrales\n",
    "Pregunta clave: ¿Qué dicen los comentarios neutrales? ¿Hay sugerencias o temas recurrentes?"
   ]
  },
  {
   "cell_type": "code",
   "execution_count": null,
   "metadata": {},
   "outputs": [],
   "source": [
    "from collections import Counter\n",
    "\n",
    "# Filtrar comentarios neutrales\n",
    "neutral_comments = df_tik_tok_clean[df_tik_tok_clean['sentiment'] == 'NEU']['comment_text']\n",
    "\n",
    "# Contar palabras más comunes\n",
    "all_neutral_words = ' '.join(neutral_comments).split()\n",
    "neutral_word_freq = Counter(all_neutral_words)\n",
    "print(\"Palabras más comunes en comentarios neutrales:\", neutral_word_freq.most_common(10))"
   ]
  }
 ],
 "metadata": {
  "kernelspec": {
   "display_name": ".venv",
   "language": "python",
   "name": "python3"
  },
  "language_info": {
   "codemirror_mode": {
    "name": "ipython",
    "version": 3
   },
   "file_extension": ".py",
   "mimetype": "text/x-python",
   "name": "python",
   "nbconvert_exporter": "python",
   "pygments_lexer": "ipython3",
   "version": "3.13.0"
  }
 },
 "nbformat": 4,
 "nbformat_minor": 2
}
