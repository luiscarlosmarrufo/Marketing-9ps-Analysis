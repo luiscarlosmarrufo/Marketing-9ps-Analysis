{
 "cells": [
  {
   "cell_type": "code",
   "execution_count": null,
   "metadata": {},
   "outputs": [],
   "source": [
    "import json\n",
    "import pandas as pd\n",
    "import ollama  # Ensure you have installed this package via pip"
   ]
  },
  {
   "cell_type": "code",
   "execution_count": 15,
   "metadata": {},
   "outputs": [],
   "source": [
    "# Example DataFrame\n",
    "df = pd.DataFrame({\n",
    "    'id': [1, 2, 3, 4],\n",
    "    'tweet': [\n",
    "        \"I fucking hate starbucks coffee, so expensive\",\n",
    "        \"There is no starbucks near my city\",\n",
    "        \"I love starbucks caramel malchiato\",\n",
    "        \"I dont like the new printed notes on the coffee...\"\n",
    "    ],\n",
    "    'PRODUCT': [0, 0, 0, 0],\n",
    "    'PLACE': [0, 0, 0, 0],\n",
    "    'PRICE': [0, 0, 0, 0]\n",
    "})\n",
    "\n",
    "def classify_tweet(tweet):\n",
    "    # Define a prompt with clear instructions and desired JSON output\n",
    "    prompt = f\"\"\"\n",
    "You are an expert NLP classifier. Given the tweet below, please determine which categories it belongs to among PRODUCT, PLACE, and PRICE.\n",
    "Output the answer in JSON format exactly as:\n",
    "{{\"PRODUCT\": 0 or 1, \"PLACE\": 0 or 1, \"PRICE\": 0 or 1}}\n",
    "\n",
    "Tweet: \"{tweet}\"\n",
    "Only output the JSON.\n",
    "\"\"\"\n",
    "    # Instantiate the Ollama client correctly (without model parameter in constructor)\n",
    "    client = ollama.Client()\n",
    "    \n",
    "    # Run the model with the prompt, specify model and temperature here\n",
    "    result_str = client.chat(\n",
    "        model=\"llama3\",\n",
    "        messages=[{\"role\": \"user\", \"content\": prompt}],\n",
    "        options={\"temperature\": 0}\n",
    "    )\n",
    "    \n",
    "    # Extract the content from the response\n",
    "    response_content = result_str['message']['content'].strip()\n",
    "    \n",
    "    # Parse and return the JSON result\n",
    "    try:\n",
    "        return json.loads(response_content)\n",
    "    except json.JSONDecodeError:\n",
    "        # Fallback in case the model doesn't return valid JSON\n",
    "        print(f\"Error parsing JSON: {response_content}\")\n",
    "        return {\"PRODUCT\": 0, \"PLACE\": 0, \"PRICE\": 0}"
   ]
  },
  {
   "cell_type": "code",
   "execution_count": 16,
   "metadata": {},
   "outputs": [
    {
     "name": "stdout",
     "output_type": "stream",
     "text": [
      "   id                                              tweet  PRODUCT  PLACE  \\\n",
      "0   1      I fucking hate starbucks coffee, so expensive        1      1   \n",
      "1   2                 There is no starbucks near my city        1      1   \n",
      "2   3                 I love starbucks caramel malchiato        1      1   \n",
      "3   4  I dont like the new printed notes on the coffe...        1      1   \n",
      "\n",
      "   PRICE  \n",
      "0      1  \n",
      "1      0  \n",
      "2      0  \n",
      "3      0  \n"
     ]
    }
   ],
   "source": [
    "# Apply the classification function to each tweet\n",
    "results = []\n",
    "for tweet in df['tweet']:\n",
    "    try:\n",
    "        results.append(classify_tweet(tweet))\n",
    "    except Exception as e:\n",
    "        print(f\"Error processing tweet: {e}\")\n",
    "        results.append({\"PRODUCT\": 0, \"PLACE\": 0, \"PRICE\": 0})\n",
    "\n",
    "# Convert results to a DataFrame and update the original DataFrame\n",
    "for i, result in enumerate(results):\n",
    "    df.at[i, 'PRODUCT'] = result.get('PRODUCT', 0)\n",
    "    df.at[i, 'PLACE'] = result.get('PLACE', 0)\n",
    "    df.at[i, 'PRICE'] = result.get('PRICE', 0)\n",
    "\n",
    "print(df)"
   ]
  },
  {
   "cell_type": "code",
   "execution_count": 17,
   "metadata": {},
   "outputs": [
    {
     "name": "stdout",
     "output_type": "stream",
     "text": [
      "[{'PRODUCT': 1, 'PLACE': 1, 'PRICE': 1}, {'PRODUCT': 1, 'PLACE': 1, 'PRICE': 0}, {'PRODUCT': 1, 'PLACE': 1, 'PRICE': 0}, {'PRODUCT': 1, 'PLACE': 1, 'PRICE': 0}]\n"
     ]
    }
   ],
   "source": [
    "print(results)"
   ]
  }
 ],
 "metadata": {
  "kernelspec": {
   "display_name": ".venv",
   "language": "python",
   "name": "python3"
  },
  "language_info": {
   "codemirror_mode": {
    "name": "ipython",
    "version": 3
   },
   "file_extension": ".py",
   "mimetype": "text/x-python",
   "name": "python",
   "nbconvert_exporter": "python",
   "pygments_lexer": "ipython3",
   "version": "3.13.0"
  }
 },
 "nbformat": 4,
 "nbformat_minor": 2
}
